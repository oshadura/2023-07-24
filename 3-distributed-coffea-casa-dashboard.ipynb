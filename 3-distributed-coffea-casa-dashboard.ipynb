{
 "cells": [
  {
   "cell_type": "markdown",
   "id": "bec0e254-7cdc-48a9-b028-6b546f32d892",
   "metadata": {},
   "source": [
    "# Dask Dashboard Diagnostics"
   ]
  },
  {
   "cell_type": "markdown",
   "id": "a539832c-45f7-432a-96cd-c7a4b128c183",
   "metadata": {
    "tags": []
   },
   "source": [
    "Let's check together https://docs.dask.org/en/latest/dashboard.html in the details and then we will try a live demo at coffea-casa facility."
   ]
  },
  {
   "cell_type": "markdown",
   "id": "16ecf980-6761-484e-98b2-70de24e6ba0d",
   "metadata": {
    "tags": []
   },
   "source": [
    "# Live Demo at coffea-casa"
   ]
  },
  {
   "cell_type": "markdown",
   "id": "998ff6c4-7253-4452-9904-e6c428337b89",
   "metadata": {
    "tags": []
   },
   "source": [
    "We will run:\n",
    "- example8.ipynb at [Opendata Coffea-casa](https://coffea-opendata.casa)\n",
    "or (optional)\n",
    "- zpeak_example.ipynb at [CMS Coffea-casa](https://coffea.casa) (**only if you are registered in CMS VO**)"
   ]
  },
  {
   "cell_type": "code",
   "execution_count": null,
   "id": "1355f73d-7ae6-4327-8433-18eda3af15df",
   "metadata": {},
   "outputs": [],
   "source": []
  }
 ],
 "metadata": {
  "kernelspec": {
   "display_name": "Python 3 (ipykernel)",
   "language": "python",
   "name": "python3"
  },
  "language_info": {
   "codemirror_mode": {
    "name": "ipython",
    "version": 3
   },
   "file_extension": ".py",
   "mimetype": "text/x-python",
   "name": "python",
   "nbconvert_exporter": "python",
   "pygments_lexer": "ipython3",
   "version": "3.8.16"
  }
 },
 "nbformat": 4,
 "nbformat_minor": 5
}
