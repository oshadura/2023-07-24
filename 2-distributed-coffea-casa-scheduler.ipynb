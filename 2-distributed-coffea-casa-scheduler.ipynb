{
 "cells": [
  {
   "cell_type": "markdown",
   "id": "c45762cb-a5a2-4f7c-ae29-02f05c78ba89",
   "metadata": {},
   "source": [
    "<img src=\"img/dask-cluster.svg\" width=\"600\">"
   ]
  },
  {
   "cell_type": "markdown",
   "id": "9b087661-599b-4a5f-b142-4c96ea534fa7",
   "metadata": {
    "tags": []
   },
   "source": [
    "There are several projects in the Dask ecosystem for easily deploying clusters on commonly used computing resources:\n",
    "\n",
    "- [Dask-Jobqueue](https://jobqueue.dask.org/en/latest/) for deploying Dask on job queuing systems (e.g. PBS, Slurm, etc.)\n",
    "- [Dask-Kubernetes](https://kubernetes.dask.org/en/latest/) for deploying Dask using native Kubernetes APIs\n",
    "- [Dask-Cloudprovider](https://cloudprovider.dask.org/en/latest/) for deploying Dask clusters on various cloud platforms (e.g. AWS, GCP, Azure, etc.)\n",
    "- [Dask-Yarn](https://yarn.dask.org/en/latest/) for deploying Dask on YARN clusters\n",
    "- [Dask-MPI](http://mpi.dask.org/en/latest/) for deploying Dask on existing MPI environments\n",
    "\n",
    "\n",
    "#### Related Documentation\n",
    "\n",
    "- [Cluster setup](https://docs.dask.org/en/latest/setup.html)"
   ]
  },
  {
   "cell_type": "markdown",
   "id": "f7e2889b-ecc5-446b-920f-d58661629c1b",
   "metadata": {},
   "source": [
    "### Dask-jobqueue\n",
    "\n",
    "The Dask-jobqueue project makes it easy to deploy Dask on common job queuing systems typically found in high performance supercomputers, academic research institutions, and other clusters. It provides a convenient interface that is accessible from interactive systems like Jupyter notebooks, or batch jobs.\n",
    "\n",
    "Launching clusters will follows a similar pattern as using Dask's built-in `LocalCluster`:\n",
    "\n",
    "```python\n",
    "\n",
    "# Launch a Dask cluster on a HTCondor job queueing system [For this you will need HTCondor related configurations]\n",
    "from dask_jobqueue import SLURMCluster\n",
    "cluster = SLURMCluster(...)\n",
    "\n",
    "\n",
    "# Launch a Dask cluster on a SLURM job queueing system [For this you will need SLURM related configurations]\n",
    "from dask_jobqueue import SLURMCluster\n",
    "cluster = SLURMCluster(...)\n",
    "\n",
    "\n",
    "# Launch a Dask cluster on a PBS job queueing system [For this you will need PBS related configurations]\n",
    "from dask_jobqueue import PBSCluster\n",
    "cluster = PBSCluster(...)\n",
    "\n",
    "\n",
    "# Launch a Dask cluster on a Kubernetes cluster [For this you will need Kubernetes related configurations]\n",
    "from dask_kubernetes import KubeCluster\n",
    "cluster = KubeCluster(...)\n",
    "\n",
    "```"
   ]
  },
  {
   "cell_type": "markdown",
   "id": "ec8031ac-58a0-40bb-a0b1-07847d54b964",
   "metadata": {},
   "source": [
    "### CoffeaCasaCluster\n",
    "\n",
    "The \"scale out\" process at Coffea-Casa Analysis Facility is accomplished by using custom dask-jobqueue class that helps easily deploy Dask worker over UNL Tier-2 HTCondor batch queue or Kubernetes cluster available at UNL."
   ]
  },
  {
   "cell_type": "code",
   "execution_count": 19,
   "id": "a77fbd0f-720a-48e2-aa07-fd9d9a01f381",
   "metadata": {
    "tags": []
   },
   "outputs": [
    {
     "name": "stderr",
     "output_type": "stream",
     "text": [
      "2023-07-24 04:16:04,846 - distributed.scheduler - INFO - Retire worker names ('htcondor--18899401.0--', 'htcondor--18899402.0--', 'htcondor--18899400.0--', 'htcondor--18899403.0--', 'htcondor--18899404.0--')\n",
      "2023-07-24 04:16:05,199 - distributed.scheduler - INFO - Scheduler closing...\n",
      "2023-07-24 04:16:05,211 - distributed.scheduler - INFO - Remove worker <WorkerState 'tls://oksana-2eshadura-40cern-2ech.dask-worker.coffea-opendata.casa:8788', name: kubernetes-worker-038c38f4-d798-4b07-b927-34df099fd946, status: closing, memory: 0, processing: 0>\n",
      "2023-07-24 04:16:05,212 - distributed.core - INFO - Removing comms to tls://oksana-2eshadura-40cern-2ech.dask-worker.coffea-opendata.casa:8788\n",
      "2023-07-24 04:16:05,212 - distributed.scheduler - INFO - Lost all workers\n",
      "2023-07-24 04:16:05,257 - distributed.scheduler - INFO - Scheduler closing all comms\n",
      "2023-07-24 04:16:06,290 - distributed.scheduler - INFO - State start\n",
      "2023-07-24 04:16:06,295 - distributed.scheduler - INFO - Clear task state\n",
      "2023-07-24 04:16:06,297 - distributed.scheduler - INFO -   Scheduler at: tls://192.168.197.232:8786\n",
      "2023-07-24 04:16:06,297 - distributed.scheduler - INFO -   dashboard at:                     :8787\n"
     ]
    },
    {
     "name": "stdout",
     "output_type": "stream",
     "text": [
      "{'protocol': 'tls://', 'security': Security(require_encryption=True, tls_ca_file=Local (/etc/cmsaf-secrets/ca.pem), tls_client_cert=Local (/etc/cmsaf-secrets/hostcert.pem), tls_client_key=Local (/etc/cmsaf-secrets/hostcert.pem), tls_min_version=771, tls_scheduler_cert=Local (/etc/cmsaf-secrets/hostcert.pem), tls_scheduler_key=Local (/etc/cmsaf-secrets/hostcert.pem), tls_worker_cert=Local (/etc/cmsaf-secrets/hostcert.pem), tls_worker_key=Local (/etc/cmsaf-secrets/hostcert.pem)), 'log_directory': 'logs', 'silence_logs': 'DEBUG', 'scheduler_options': {'port': 8786, 'dashboard_address': '8787', 'protocol': 'tls', 'external_address': 'tls://oksana-2eshadura-40cern-2ech.dask.coffea-opendata.casa:8786'}, 'job_extra': {'universe': 'docker', 'docker_image': 'hub.opensciencegrid.org/coffea-casa/cc-analysis-ubuntu:2023.04.05', 'container_service_names': 'dask,nanny', 'dask_container_port': 8786, 'nanny_container_port': 8001, 'transfer_input_files': '/home/cms-jovyan/requirements.txt, /home/cms-jovyan/environment.yaml, /etc/cmsaf-secrets/ca.pem, /etc/cmsaf-secrets/hostcert.pem, /etc/cmsaf-secrets/xcache_token', 'encrypt_input_files': '/home/cms-jovyan/requirements.txt, /home/cms-jovyan/environment.yaml, /etc/cmsaf-secrets/ca.pem, /etc/cmsaf-secrets/hostcert.pem, /etc/cmsaf-secrets/xcache_token', 'transfer_output_files': '', 'when_to_transfer_output': 'ON_EXIT', 'should_transfer_files': 'YES', 'Stream_Output': 'False', 'Stream_Error': 'False', '+DaskSchedulerAddress': '\"tls://oksana-2eshadura-40cern-2ech.dask.coffea-opendata.casa:8786\"'}}\n"
     ]
    },
    {
     "ename": "AttributeError",
     "evalue": "'Tab' object has no attribute '_ipython_display_'",
     "output_type": "error",
     "traceback": [
      "\u001b[0;31m---------------------------------------------------------------------------\u001b[0m",
      "\u001b[0;31mAttributeError\u001b[0m                            Traceback (most recent call last)",
      "File \u001b[0;32m/opt/conda/lib/python3.8/site-packages/IPython/core/formatters.py:920\u001b[0m, in \u001b[0;36mIPythonDisplayFormatter.__call__\u001b[0;34m(self, obj)\u001b[0m\n\u001b[1;32m    918\u001b[0m method \u001b[38;5;241m=\u001b[39m get_real_method(obj, \u001b[38;5;28mself\u001b[39m\u001b[38;5;241m.\u001b[39mprint_method)\n\u001b[1;32m    919\u001b[0m \u001b[38;5;28;01mif\u001b[39;00m method \u001b[38;5;129;01mis\u001b[39;00m \u001b[38;5;129;01mnot\u001b[39;00m \u001b[38;5;28;01mNone\u001b[39;00m:\n\u001b[0;32m--> 920\u001b[0m     \u001b[43mmethod\u001b[49m\u001b[43m(\u001b[49m\u001b[43m)\u001b[49m\n\u001b[1;32m    921\u001b[0m     \u001b[38;5;28;01mreturn\u001b[39;00m \u001b[38;5;28;01mTrue\u001b[39;00m\n",
      "File \u001b[0;32m/opt/conda/lib/python3.8/site-packages/distributed/deploy/cluster.py:455\u001b[0m, in \u001b[0;36mCluster._ipython_display_\u001b[0;34m(self, **kwargs)\u001b[0m\n\u001b[1;32m    453\u001b[0m widget \u001b[38;5;241m=\u001b[39m \u001b[38;5;28mself\u001b[39m\u001b[38;5;241m.\u001b[39m_widget()\n\u001b[1;32m    454\u001b[0m \u001b[38;5;28;01mif\u001b[39;00m widget \u001b[38;5;129;01mis\u001b[39;00m \u001b[38;5;129;01mnot\u001b[39;00m \u001b[38;5;28;01mNone\u001b[39;00m:\n\u001b[0;32m--> 455\u001b[0m     \u001b[38;5;28;01mreturn\u001b[39;00m \u001b[43mwidget\u001b[49m\u001b[38;5;241;43m.\u001b[39;49m\u001b[43m_ipython_display_\u001b[49m(\u001b[38;5;241m*\u001b[39m\u001b[38;5;241m*\u001b[39mkwargs)\n\u001b[1;32m    456\u001b[0m \u001b[38;5;28;01melse\u001b[39;00m:\n\u001b[1;32m    457\u001b[0m     \u001b[38;5;28;01mfrom\u001b[39;00m \u001b[38;5;21;01mIPython\u001b[39;00m\u001b[38;5;21;01m.\u001b[39;00m\u001b[38;5;21;01mdisplay\u001b[39;00m \u001b[38;5;28;01mimport\u001b[39;00m display\n",
      "\u001b[0;31mAttributeError\u001b[0m: 'Tab' object has no attribute '_ipython_display_'"
     ]
    },
    {
     "data": {
      "text/html": [
       "<div class=\"jp-RenderedHTMLCommon jp-RenderedHTML jp-mod-trusted jp-OutputArea-output\">\n",
       "    <div style=\"width: 24px; height: 24px; background-color: #e1e1e1; border: 3px solid #9D9D9D; border-radius: 5px; position: absolute;\">\n",
       "    </div>\n",
       "    <div style=\"margin-left: 48px;\">\n",
       "        <h3 style=\"margin-bottom: 0px; margin-top: 0px;\">CoffeaCasaCluster</h3>\n",
       "        <p style=\"color: #9D9D9D; margin-bottom: 0px;\">3f1407ff</p>\n",
       "        <table style=\"width: 100%; text-align: left;\">\n",
       "            <tr>\n",
       "                <td style=\"text-align: left;\">\n",
       "                    <strong>Dashboard:</strong> <a href=\"/user/oksana.shadura@cern.ch/proxy/8787/status\" target=\"_blank\">/user/oksana.shadura@cern.ch/proxy/8787/status</a>\n",
       "                </td>\n",
       "                <td style=\"text-align: left;\">\n",
       "                    <strong>Workers:</strong> 0\n",
       "                </td>\n",
       "            </tr>\n",
       "            <tr>\n",
       "                <td style=\"text-align: left;\">\n",
       "                    <strong>Total threads:</strong> 0\n",
       "                </td>\n",
       "                <td style=\"text-align: left;\">\n",
       "                    <strong>Total memory:</strong> 0 B\n",
       "                </td>\n",
       "            </tr>\n",
       "            \n",
       "        </table>\n",
       "\n",
       "        <details>\n",
       "            <summary style=\"margin-bottom: 20px;\">\n",
       "                <h3 style=\"display: inline;\">Scheduler Info</h3>\n",
       "            </summary>\n",
       "\n",
       "            <div style=\"\">\n",
       "    <div>\n",
       "        <div style=\"width: 24px; height: 24px; background-color: #FFF7E5; border: 3px solid #FF6132; border-radius: 5px; position: absolute;\"> </div>\n",
       "        <div style=\"margin-left: 48px;\">\n",
       "            <h3 style=\"margin-bottom: 0px;\">Scheduler</h3>\n",
       "            <p style=\"color: #9D9D9D; margin-bottom: 0px;\">Scheduler-83a20286-9cb8-4fc4-b921-3ac1b9360feb</p>\n",
       "            <table style=\"width: 100%; text-align: left;\">\n",
       "                <tr>\n",
       "                    <td style=\"text-align: left;\">\n",
       "                        <strong>Comm:</strong> tls://192.168.197.232:8786\n",
       "                    </td>\n",
       "                    <td style=\"text-align: left;\">\n",
       "                        <strong>Workers:</strong> 0\n",
       "                    </td>\n",
       "                </tr>\n",
       "                <tr>\n",
       "                    <td style=\"text-align: left;\">\n",
       "                        <strong>Dashboard:</strong> <a href=\"/user/oksana.shadura@cern.ch/proxy/8787/status\" target=\"_blank\">/user/oksana.shadura@cern.ch/proxy/8787/status</a>\n",
       "                    </td>\n",
       "                    <td style=\"text-align: left;\">\n",
       "                        <strong>Total threads:</strong> 0\n",
       "                    </td>\n",
       "                </tr>\n",
       "                <tr>\n",
       "                    <td style=\"text-align: left;\">\n",
       "                        <strong>Started:</strong> Just now\n",
       "                    </td>\n",
       "                    <td style=\"text-align: left;\">\n",
       "                        <strong>Total memory:</strong> 0 B\n",
       "                    </td>\n",
       "                </tr>\n",
       "            </table>\n",
       "        </div>\n",
       "    </div>\n",
       "\n",
       "    <details style=\"margin-left: 48px;\">\n",
       "        <summary style=\"margin-bottom: 20px;\">\n",
       "            <h3 style=\"display: inline;\">Workers</h3>\n",
       "        </summary>\n",
       "\n",
       "        \n",
       "\n",
       "    </details>\n",
       "</div>\n",
       "\n",
       "        </details>\n",
       "    </div>\n",
       "</div>"
      ],
      "text/plain": [
       "CoffeaCasaCluster(3f1407ff, 'tls://oksana-2eshadura-40cern-2ech.dask.coffea-opendata.casa:8786', workers=0, threads=0, memory=0 B)"
      ]
     },
     "execution_count": 19,
     "metadata": {},
     "output_type": "execute_result"
    },
    {
     "name": "stderr",
     "output_type": "stream",
     "text": [
      "2023-07-24 04:16:06,406 - distributed.scheduler - INFO - Receive client connection: Client-68279a85-29d8-11ee-80f7-5a7513c347f8\n",
      "2023-07-24 04:16:06,407 - distributed.core - INFO - Starting established connection\n",
      "2023-07-24 04:16:07,817 - distributed.scheduler - INFO - Register worker <WorkerState 'tls://oksana-2eshadura-40cern-2ech.dask-worker.coffea-opendata.casa:8788', name: kubernetes-worker-038c38f4-d798-4b07-b927-34df099fd946, status: undefined, memory: 0, processing: 0>\n",
      "2023-07-24 04:16:07,819 - distributed.scheduler - INFO - Starting worker compute stream, tls://oksana-2eshadura-40cern-2ech.dask-worker.coffea-opendata.casa:8788\n",
      "2023-07-24 04:16:07,819 - distributed.core - INFO - Starting established connection\n"
     ]
    }
   ],
   "source": [
    "# Dont forget to delete Dask cluster object\n",
    "if cluster:\n",
    "    cluster.close()\n",
    "    \n",
    "from coffea_casa import CoffeaCasaCluster\n",
    "cluster = CoffeaCasaCluster()\n",
    "cluster"
   ]
  },
  {
   "cell_type": "code",
   "execution_count": 22,
   "id": "c8937b5b-2559-4eb1-96ae-d76b385526c2",
   "metadata": {
    "tags": []
   },
   "outputs": [],
   "source": [
    "# Scale up to 2 workers\n",
    "cluster.scale(2)"
   ]
  },
  {
   "cell_type": "code",
   "execution_count": 23,
   "id": "3b6098c3-1f8b-4e42-8d0a-996f2b44b1e3",
   "metadata": {
    "tags": []
   },
   "outputs": [
    {
     "data": {
      "text/html": [
       "\n",
       "    <details>\n",
       "    <summary style='display:list-item'>Cluster</summary>\n",
       "    \n",
       "    \n",
       "        <p style=\"font-family: monospace; margin: 0;\"></p>\n",
       "    \n",
       "\n",
       "    </details>\n",
       "\n",
       "    <details>\n",
       "    <summary style='display:list-item'>Scheduler</summary>\n",
       "    \n",
       "    \n",
       "        <p style=\"font-family: monospace; margin: 0;\">2023-07-24 04:16:06,290 - distributed.scheduler - INFO - State start</p>\n",
       "    \n",
       "\n",
       "    \n",
       "        <p style=\"font-family: monospace; margin: 0;\">2023-07-24 04:16:06,295 - distributed.scheduler - INFO - Clear task state</p>\n",
       "    \n",
       "\n",
       "    \n",
       "        <p style=\"font-family: monospace; margin: 0;\">2023-07-24 04:16:06,297 - distributed.scheduler - INFO -   Scheduler at: tls://192.168.197.232:8786</p>\n",
       "    \n",
       "\n",
       "    \n",
       "        <p style=\"font-family: monospace; margin: 0;\">2023-07-24 04:16:06,297 - distributed.scheduler - INFO -   dashboard at:                     :8787</p>\n",
       "    \n",
       "\n",
       "    \n",
       "        <p style=\"font-family: monospace; margin: 0;\">2023-07-24 04:16:06,406 - distributed.scheduler - INFO - Receive client connection: Client-68279a85-29d8-11ee-80f7-5a7513c347f8</p>\n",
       "    \n",
       "\n",
       "    \n",
       "        <p style=\"font-family: monospace; margin: 0;\">2023-07-24 04:16:07,817 - distributed.scheduler - INFO - Register worker &lt;WorkerState &#x27;tls://oksana-2eshadura-40cern-2ech.dask-worker.coffea-opendata.casa:8788&#x27;, name: kubernetes-worker-038c38f4-d798-4b07-b927-34df099fd946, status: running, memory: 0, processing: 0&gt;</p>\n",
       "    \n",
       "\n",
       "    \n",
       "        <p style=\"font-family: monospace; margin: 0;\">2023-07-24 04:16:07,819 - distributed.scheduler - INFO - Starting worker compute stream, tls://oksana-2eshadura-40cern-2ech.dask-worker.coffea-opendata.casa:8788</p>\n",
       "    \n",
       "\n",
       "    </details>\n",
       "\n",
       "    <details>\n",
       "    <summary style='display:list-item'>tls://oksana-2eshadura-40cern-2ech.dask-worker.coffea-opendata.casa:8788</summary>\n",
       "    \n",
       "    \n",
       "        <p style=\"font-family: monospace; margin: 0;\">2023-07-24 04:16:07,805 - distributed.worker - INFO -       Start worker at: tls://oksana-2eshadura-40cern-2ech.dask-worker.coffea-opendata.casa:8788</p>\n",
       "    \n",
       "\n",
       "    \n",
       "        <p style=\"font-family: monospace; margin: 0;\">2023-07-24 04:16:07,805 - distributed.worker - INFO -          Listening to: tls://oksana-2eshadura-40cern-2ech.dask-worker.coffea-opendata.casa:8788</p>\n",
       "    \n",
       "\n",
       "    \n",
       "        <p style=\"font-family: monospace; margin: 0;\">2023-07-24 04:16:07,805 - distributed.worker - INFO -          dashboard at: oksana-2eshadura-40cern-2ech.dask-worker.coffea-opendata.casa:35873</p>\n",
       "    \n",
       "\n",
       "    \n",
       "        <p style=\"font-family: monospace; margin: 0;\">2023-07-24 04:16:07,805 - distributed.worker - INFO - Waiting to connect to: tls://oksana-2eshadura-40cern-2ech.dask.coffea-opendata.casa:8786</p>\n",
       "    \n",
       "\n",
       "    \n",
       "        <p style=\"font-family: monospace; margin: 0;\">2023-07-24 04:16:07,805 - distributed.worker - INFO - -------------------------------------------------</p>\n",
       "    \n",
       "\n",
       "    \n",
       "        <p style=\"font-family: monospace; margin: 0;\">2023-07-24 04:16:07,805 - distributed.worker - INFO -               Threads:                          2</p>\n",
       "    \n",
       "\n",
       "    \n",
       "        <p style=\"font-family: monospace; margin: 0;\">2023-07-24 04:16:07,805 - distributed.worker - INFO -                Memory:                   6.00 GiB</p>\n",
       "    \n",
       "\n",
       "    \n",
       "        <p style=\"font-family: monospace; margin: 0;\">2023-07-24 04:16:07,805 - distributed.worker - INFO -       Local Directory: /home/cms-jovyan/dask-worker-space/worker-g52m_kgh</p>\n",
       "    \n",
       "\n",
       "    \n",
       "        <p style=\"font-family: monospace; margin: 0;\">2023-07-24 04:16:07,805 - distributed.worker - INFO - -------------------------------------------------</p>\n",
       "    \n",
       "\n",
       "    \n",
       "        <p style=\"font-family: monospace; margin: 0; font-weight: bold; color: orange;\">2023-07-24 04:16:07,819 - distributed.worker - WARNING - Mismatched versions found</p>\n",
       "    \n",
       "\n",
       "    \n",
       "        <p style=\"font-family: monospace; margin: 0;\"></p>\n",
       "    \n",
       "\n",
       "    \n",
       "        <p style=\"font-family: monospace; margin: 0;\">+---------+----------------+----------------+--------------------------------------+</p>\n",
       "    \n",
       "\n",
       "    \n",
       "        <p style=\"font-family: monospace; margin: 0;\">| Package | This Worker    | scheduler      | workers                              |</p>\n",
       "    \n",
       "\n",
       "    \n",
       "        <p style=\"font-family: monospace; margin: 0;\">+---------+----------------+----------------+--------------------------------------+</p>\n",
       "    \n",
       "\n",
       "    \n",
       "        <p style=\"font-family: monospace; margin: 0;\">| python  | 3.8.15.final.0 | 3.8.16.final.0 | {&#x27;3.8.15.final.0&#x27;, &#x27;3.8.16.final.0&#x27;} |</p>\n",
       "    \n",
       "\n",
       "    \n",
       "        <p style=\"font-family: monospace; margin: 0;\">+---------+----------------+----------------+--------------------------------------+</p>\n",
       "    \n",
       "\n",
       "    \n",
       "        <p style=\"font-family: monospace; margin: 0;\">2023-07-24 04:16:07,819 - distributed.worker - INFO -         Registered to: tls://oksana-2eshadura-40cern-2ech.dask.coffea-opendata.casa:8786</p>\n",
       "    \n",
       "\n",
       "    \n",
       "        <p style=\"font-family: monospace; margin: 0;\">2023-07-24 04:16:07,819 - distributed.worker - INFO - -------------------------------------------------</p>\n",
       "    \n",
       "\n",
       "    </details>\n"
      ],
      "text/plain": [
       "{'Cluster': '',\n",
       " 'Scheduler': \"2023-07-24 04:16:06,290 - distributed.scheduler - INFO - State start\\n2023-07-24 04:16:06,295 - distributed.scheduler - INFO - Clear task state\\n2023-07-24 04:16:06,297 - distributed.scheduler - INFO -   Scheduler at: tls://192.168.197.232:8786\\n2023-07-24 04:16:06,297 - distributed.scheduler - INFO -   dashboard at:                     :8787\\n2023-07-24 04:16:06,406 - distributed.scheduler - INFO - Receive client connection: Client-68279a85-29d8-11ee-80f7-5a7513c347f8\\n2023-07-24 04:16:07,817 - distributed.scheduler - INFO - Register worker <WorkerState 'tls://oksana-2eshadura-40cern-2ech.dask-worker.coffea-opendata.casa:8788', name: kubernetes-worker-038c38f4-d798-4b07-b927-34df099fd946, status: running, memory: 0, processing: 0>\\n2023-07-24 04:16:07,819 - distributed.scheduler - INFO - Starting worker compute stream, tls://oksana-2eshadura-40cern-2ech.dask-worker.coffea-opendata.casa:8788\",\n",
       " 'tls://oksana-2eshadura-40cern-2ech.dask-worker.coffea-opendata.casa:8788': \"2023-07-24 04:16:07,805 - distributed.worker - INFO -       Start worker at: tls://oksana-2eshadura-40cern-2ech.dask-worker.coffea-opendata.casa:8788\\n2023-07-24 04:16:07,805 - distributed.worker - INFO -          Listening to: tls://oksana-2eshadura-40cern-2ech.dask-worker.coffea-opendata.casa:8788\\n2023-07-24 04:16:07,805 - distributed.worker - INFO -          dashboard at: oksana-2eshadura-40cern-2ech.dask-worker.coffea-opendata.casa:35873\\n2023-07-24 04:16:07,805 - distributed.worker - INFO - Waiting to connect to: tls://oksana-2eshadura-40cern-2ech.dask.coffea-opendata.casa:8786\\n2023-07-24 04:16:07,805 - distributed.worker - INFO - -------------------------------------------------\\n2023-07-24 04:16:07,805 - distributed.worker - INFO -               Threads:                          2\\n2023-07-24 04:16:07,805 - distributed.worker - INFO -                Memory:                   6.00 GiB\\n2023-07-24 04:16:07,805 - distributed.worker - INFO -       Local Directory: /home/cms-jovyan/dask-worker-space/worker-g52m_kgh\\n2023-07-24 04:16:07,805 - distributed.worker - INFO - -------------------------------------------------\\n2023-07-24 04:16:07,819 - distributed.worker - WARNING - Mismatched versions found\\n\\n+---------+----------------+----------------+--------------------------------------+\\n| Package | This Worker    | scheduler      | workers                              |\\n+---------+----------------+----------------+--------------------------------------+\\n| python  | 3.8.15.final.0 | 3.8.16.final.0 | {'3.8.15.final.0', '3.8.16.final.0'} |\\n+---------+----------------+----------------+--------------------------------------+\\n2023-07-24 04:16:07,819 - distributed.worker - INFO -         Registered to: tls://oksana-2eshadura-40cern-2ech.dask.coffea-opendata.casa:8786\\n2023-07-24 04:16:07,819 - distributed.worker - INFO - -------------------------------------------------\"}"
      ]
     },
     "execution_count": 23,
     "metadata": {},
     "output_type": "execute_result"
    }
   ],
   "source": [
    "# Retrieve cluster logs\n",
    "cluster.get_logs()"
   ]
  },
  {
   "cell_type": "code",
   "execution_count": 24,
   "id": "e350ead3-229a-4974-bd89-7174d99edbef",
   "metadata": {
    "tags": []
   },
   "outputs": [
    {
     "name": "stderr",
     "output_type": "stream",
     "text": [
      "2023-07-24 04:17:10,920 - distributed.scheduler - INFO - Retire worker names ('htcondor--18899405.0--',)\n",
      "2023-07-24 04:17:10,990 - distributed.scheduler - INFO - Scheduler closing...\n",
      "2023-07-24 04:17:11,002 - distributed.scheduler - INFO - Remove worker <WorkerState 'tls://oksana-2eshadura-40cern-2ech.dask-worker.coffea-opendata.casa:8788', name: kubernetes-worker-038c38f4-d798-4b07-b927-34df099fd946, status: closing, memory: 0, processing: 0>\n",
      "2023-07-24 04:17:11,002 - distributed.core - INFO - Removing comms to tls://oksana-2eshadura-40cern-2ech.dask-worker.coffea-opendata.casa:8788\n",
      "2023-07-24 04:17:11,003 - distributed.scheduler - INFO - Lost all workers\n",
      "2023-07-24 04:17:11,047 - distributed.scheduler - INFO - Scheduler closing all comms\n",
      "2023-07-24 04:17:41,066 - distributed.client - ERROR - Failed to reconnect to scheduler after 30.00 seconds, closing client\n"
     ]
    }
   ],
   "source": [
    "# Shut down cluster\n",
    "cluster.close()"
   ]
  },
  {
   "cell_type": "markdown",
   "id": "20ba2911-0ac4-43bd-bdb9-54a2806e5ea9",
   "metadata": {},
   "source": [
    "# Inspecting a cluster's state\n",
    "\n",
    "In this section we'll:\n",
    "\n",
    "1. Familiarize ourselves with Dask's scheduler and worker processes\n",
    "2. Explore the various state that's tracked throughout the cluster\n",
    "3. Learn how to inspect remote scheduler and worker processes\n",
    "\n",
    "Dask has a a variety of ways to provide users insight into what's going on during their computations. For example, Dask's [diagnositc dashboard](https://docs.dask.org/en/latest/diagnostics-distributed.html) displays real-time information about what tasks are current running, overal progress on a computation, worker CPU and memory load, statistical profiling information, and much more. Additionally, Dask's [performance reports](https://distributed.dask.org/en/latest/diagnosing-performance.html#performance-reports) allow you to save the diagnostic dashboards as static HTML plots. Performance reports are particularly useful when benchmarking/profiling workloads or when sharing workload performance with colleagues."
   ]
  },
  {
   "cell_type": "code",
   "execution_count": 29,
   "id": "ee7a1ae0-f029-41a8-90bc-7d6a5e6651e8",
   "metadata": {
    "tags": []
   },
   "outputs": [
    {
     "name": "stderr",
     "output_type": "stream",
     "text": [
      "2023-07-24 04:26:09,636 - distributed.scheduler - INFO - Retire worker names ('htcondor--18899406.0--',)\n",
      "2023-07-24 04:26:09,636 - distributed.scheduler - INFO - Retiring worker tls://red-c7125.unl.edu:43691\n",
      "2023-07-24 04:26:09,637 - distributed.active_memory_manager - INFO - Retiring worker tls://red-c7125.unl.edu:43691; 21 keys are being moved away.\n",
      "2023-07-24 04:26:09,690 - distributed.scheduler - INFO - Remove worker <WorkerState 'tls://red-c7125.unl.edu:43691', name: htcondor--18899406.0--, status: closing_gracefully, memory: 21, processing: 0>\n",
      "2023-07-24 04:26:09,691 - distributed.core - INFO - Removing comms to tls://red-c7125.unl.edu:43691\n",
      "2023-07-24 04:26:09,691 - distributed.scheduler - INFO - Retired worker tls://red-c7125.unl.edu:43691\n",
      "2023-07-24 04:26:09,791 - distributed.scheduler - INFO - Scheduler closing...\n",
      "2023-07-24 04:26:09,804 - distributed.scheduler - INFO - Remove worker <WorkerState 'tls://oksana-2eshadura-40cern-2ech.dask-worker.coffea-opendata.casa:8788', name: kubernetes-worker-038c38f4-d798-4b07-b927-34df099fd946, status: closing, memory: 46, processing: 0>\n",
      "2023-07-24 04:26:09,804 - distributed.core - INFO - Removing comms to tls://oksana-2eshadura-40cern-2ech.dask-worker.coffea-opendata.casa:8788\n",
      "2023-07-24 04:26:09,805 - distributed.scheduler - INFO - Lost all workers\n",
      "2023-07-24 04:26:09,849 - distributed.scheduler - INFO - Scheduler closing all comms\n",
      "2023-07-24 04:26:10,890 - distributed.scheduler - INFO - State start\n",
      "2023-07-24 04:26:10,896 - distributed.scheduler - INFO - Clear task state\n",
      "2023-07-24 04:26:10,897 - distributed.scheduler - INFO -   Scheduler at: tls://192.168.197.232:8786\n",
      "2023-07-24 04:26:10,898 - distributed.scheduler - INFO -   dashboard at:                     :8787\n"
     ]
    },
    {
     "name": "stdout",
     "output_type": "stream",
     "text": [
      "{'protocol': 'tls://', 'security': Security(require_encryption=True, tls_ca_file=Local (/etc/cmsaf-secrets/ca.pem), tls_client_cert=Local (/etc/cmsaf-secrets/hostcert.pem), tls_client_key=Local (/etc/cmsaf-secrets/hostcert.pem), tls_min_version=771, tls_scheduler_cert=Local (/etc/cmsaf-secrets/hostcert.pem), tls_scheduler_key=Local (/etc/cmsaf-secrets/hostcert.pem), tls_worker_cert=Local (/etc/cmsaf-secrets/hostcert.pem), tls_worker_key=Local (/etc/cmsaf-secrets/hostcert.pem)), 'log_directory': 'logs', 'silence_logs': 'DEBUG', 'scheduler_options': {'port': 8786, 'dashboard_address': '8787', 'protocol': 'tls', 'external_address': 'tls://oksana-2eshadura-40cern-2ech.dask.coffea-opendata.casa:8786'}, 'job_extra': {'universe': 'docker', 'docker_image': 'hub.opensciencegrid.org/coffea-casa/cc-analysis-ubuntu:2023.04.05', 'container_service_names': 'dask,nanny', 'dask_container_port': 8786, 'nanny_container_port': 8001, 'transfer_input_files': '/home/cms-jovyan/requirements.txt, /home/cms-jovyan/environment.yaml, /etc/cmsaf-secrets/ca.pem, /etc/cmsaf-secrets/hostcert.pem, /etc/cmsaf-secrets/xcache_token', 'encrypt_input_files': '/home/cms-jovyan/requirements.txt, /home/cms-jovyan/environment.yaml, /etc/cmsaf-secrets/ca.pem, /etc/cmsaf-secrets/hostcert.pem, /etc/cmsaf-secrets/xcache_token', 'transfer_output_files': '', 'when_to_transfer_output': 'ON_EXIT', 'should_transfer_files': 'YES', 'Stream_Output': 'False', 'Stream_Error': 'False', '+DaskSchedulerAddress': '\"tls://oksana-2eshadura-40cern-2ech.dask.coffea-opendata.casa:8786\"'}}\n"
     ]
    },
    {
     "name": "stderr",
     "output_type": "stream",
     "text": [
      "2023-07-24 04:26:11,123 - distributed.scheduler - INFO - Receive client connection: Client-08abd67a-29d9-11ee-80f7-5a7513c347f8\n",
      "2023-07-24 04:26:11,124 - distributed.core - INFO - Starting established connection\n",
      "2023-07-24 04:26:11,128 - distributed.scheduler - INFO - Receive client connection: Client-37b2a644-29da-11ee-80f7-5a7513c347f8\n",
      "2023-07-24 04:26:11,128 - distributed.core - INFO - Starting established connection\n"
     ]
    },
    {
     "ename": "AttributeError",
     "evalue": "'Tab' object has no attribute '_ipython_display_'",
     "output_type": "error",
     "traceback": [
      "\u001b[0;31m---------------------------------------------------------------------------\u001b[0m",
      "\u001b[0;31mAttributeError\u001b[0m                            Traceback (most recent call last)",
      "File \u001b[0;32m/opt/conda/lib/python3.8/site-packages/IPython/core/formatters.py:920\u001b[0m, in \u001b[0;36mIPythonDisplayFormatter.__call__\u001b[0;34m(self, obj)\u001b[0m\n\u001b[1;32m    918\u001b[0m method \u001b[38;5;241m=\u001b[39m get_real_method(obj, \u001b[38;5;28mself\u001b[39m\u001b[38;5;241m.\u001b[39mprint_method)\n\u001b[1;32m    919\u001b[0m \u001b[38;5;28;01mif\u001b[39;00m method \u001b[38;5;129;01mis\u001b[39;00m \u001b[38;5;129;01mnot\u001b[39;00m \u001b[38;5;28;01mNone\u001b[39;00m:\n\u001b[0;32m--> 920\u001b[0m     \u001b[43mmethod\u001b[49m\u001b[43m(\u001b[49m\u001b[43m)\u001b[49m\n\u001b[1;32m    921\u001b[0m     \u001b[38;5;28;01mreturn\u001b[39;00m \u001b[38;5;28;01mTrue\u001b[39;00m\n",
      "File \u001b[0;32m/opt/conda/lib/python3.8/site-packages/distributed/deploy/cluster.py:455\u001b[0m, in \u001b[0;36mCluster._ipython_display_\u001b[0;34m(self, **kwargs)\u001b[0m\n\u001b[1;32m    453\u001b[0m widget \u001b[38;5;241m=\u001b[39m \u001b[38;5;28mself\u001b[39m\u001b[38;5;241m.\u001b[39m_widget()\n\u001b[1;32m    454\u001b[0m \u001b[38;5;28;01mif\u001b[39;00m widget \u001b[38;5;129;01mis\u001b[39;00m \u001b[38;5;129;01mnot\u001b[39;00m \u001b[38;5;28;01mNone\u001b[39;00m:\n\u001b[0;32m--> 455\u001b[0m     \u001b[38;5;28;01mreturn\u001b[39;00m \u001b[43mwidget\u001b[49m\u001b[38;5;241;43m.\u001b[39;49m\u001b[43m_ipython_display_\u001b[49m(\u001b[38;5;241m*\u001b[39m\u001b[38;5;241m*\u001b[39mkwargs)\n\u001b[1;32m    456\u001b[0m \u001b[38;5;28;01melse\u001b[39;00m:\n\u001b[1;32m    457\u001b[0m     \u001b[38;5;28;01mfrom\u001b[39;00m \u001b[38;5;21;01mIPython\u001b[39;00m\u001b[38;5;21;01m.\u001b[39;00m\u001b[38;5;21;01mdisplay\u001b[39;00m \u001b[38;5;28;01mimport\u001b[39;00m display\n",
      "\u001b[0;31mAttributeError\u001b[0m: 'Tab' object has no attribute '_ipython_display_'"
     ]
    },
    {
     "data": {
      "text/html": [
       "<div class=\"jp-RenderedHTMLCommon jp-RenderedHTML jp-mod-trusted jp-OutputArea-output\">\n",
       "    <div style=\"width: 24px; height: 24px; background-color: #e1e1e1; border: 3px solid #9D9D9D; border-radius: 5px; position: absolute;\">\n",
       "    </div>\n",
       "    <div style=\"margin-left: 48px;\">\n",
       "        <h3 style=\"margin-bottom: 0px; margin-top: 0px;\">CoffeaCasaCluster</h3>\n",
       "        <p style=\"color: #9D9D9D; margin-bottom: 0px;\">537810cd</p>\n",
       "        <table style=\"width: 100%; text-align: left;\">\n",
       "            <tr>\n",
       "                <td style=\"text-align: left;\">\n",
       "                    <strong>Dashboard:</strong> <a href=\"/user/oksana.shadura@cern.ch/proxy/8787/status\" target=\"_blank\">/user/oksana.shadura@cern.ch/proxy/8787/status</a>\n",
       "                </td>\n",
       "                <td style=\"text-align: left;\">\n",
       "                    <strong>Workers:</strong> 0\n",
       "                </td>\n",
       "            </tr>\n",
       "            <tr>\n",
       "                <td style=\"text-align: left;\">\n",
       "                    <strong>Total threads:</strong> 0\n",
       "                </td>\n",
       "                <td style=\"text-align: left;\">\n",
       "                    <strong>Total memory:</strong> 0 B\n",
       "                </td>\n",
       "            </tr>\n",
       "            \n",
       "        </table>\n",
       "\n",
       "        <details>\n",
       "            <summary style=\"margin-bottom: 20px;\">\n",
       "                <h3 style=\"display: inline;\">Scheduler Info</h3>\n",
       "            </summary>\n",
       "\n",
       "            <div style=\"\">\n",
       "    <div>\n",
       "        <div style=\"width: 24px; height: 24px; background-color: #FFF7E5; border: 3px solid #FF6132; border-radius: 5px; position: absolute;\"> </div>\n",
       "        <div style=\"margin-left: 48px;\">\n",
       "            <h3 style=\"margin-bottom: 0px;\">Scheduler</h3>\n",
       "            <p style=\"color: #9D9D9D; margin-bottom: 0px;\">Scheduler-fa5affc6-0e14-4024-bb31-d232a4ef8ff5</p>\n",
       "            <table style=\"width: 100%; text-align: left;\">\n",
       "                <tr>\n",
       "                    <td style=\"text-align: left;\">\n",
       "                        <strong>Comm:</strong> tls://192.168.197.232:8786\n",
       "                    </td>\n",
       "                    <td style=\"text-align: left;\">\n",
       "                        <strong>Workers:</strong> 0\n",
       "                    </td>\n",
       "                </tr>\n",
       "                <tr>\n",
       "                    <td style=\"text-align: left;\">\n",
       "                        <strong>Dashboard:</strong> <a href=\"/user/oksana.shadura@cern.ch/proxy/8787/status\" target=\"_blank\">/user/oksana.shadura@cern.ch/proxy/8787/status</a>\n",
       "                    </td>\n",
       "                    <td style=\"text-align: left;\">\n",
       "                        <strong>Total threads:</strong> 0\n",
       "                    </td>\n",
       "                </tr>\n",
       "                <tr>\n",
       "                    <td style=\"text-align: left;\">\n",
       "                        <strong>Started:</strong> Just now\n",
       "                    </td>\n",
       "                    <td style=\"text-align: left;\">\n",
       "                        <strong>Total memory:</strong> 0 B\n",
       "                    </td>\n",
       "                </tr>\n",
       "            </table>\n",
       "        </div>\n",
       "    </div>\n",
       "\n",
       "    <details style=\"margin-left: 48px;\">\n",
       "        <summary style=\"margin-bottom: 20px;\">\n",
       "            <h3 style=\"display: inline;\">Workers</h3>\n",
       "        </summary>\n",
       "\n",
       "        \n",
       "\n",
       "    </details>\n",
       "</div>\n",
       "\n",
       "        </details>\n",
       "    </div>\n",
       "</div>"
      ],
      "text/plain": [
       "CoffeaCasaCluster(537810cd, 'tls://oksana-2eshadura-40cern-2ech.dask.coffea-opendata.casa:8786', workers=0, threads=0, memory=0 B)"
      ]
     },
     "execution_count": 29,
     "metadata": {},
     "output_type": "execute_result"
    },
    {
     "name": "stderr",
     "output_type": "stream",
     "text": [
      "2023-07-24 04:26:12,755 - distributed.scheduler - INFO - Register worker <WorkerState 'tls://oksana-2eshadura-40cern-2ech.dask-worker.coffea-opendata.casa:8788', name: kubernetes-worker-038c38f4-d798-4b07-b927-34df099fd946, status: undefined, memory: 0, processing: 0>\n",
      "2023-07-24 04:26:12,756 - distributed.scheduler - INFO - Starting worker compute stream, tls://oksana-2eshadura-40cern-2ech.dask-worker.coffea-opendata.casa:8788\n",
      "2023-07-24 04:26:12,756 - distributed.core - INFO - Starting established connection\n"
     ]
    }
   ],
   "source": [
    "from dask.distributed import LocalCluster, Client\n",
    "from coffea_casa import CoffeaCasaCluster\n",
    "\n",
    "# Dont forget to delete Dask cluster object\n",
    "if cluster:\n",
    "    cluster.close()\n",
    "    \n",
    "cluster = CoffeaCasaCluster()\n",
    "cluster.scale(5)\n",
    "\n",
    "client = Client(cluster)\n",
    "cluster"
   ]
  },
  {
   "cell_type": "code",
   "execution_count": 30,
   "id": "33ce7759-2113-4dcc-9581-2a473eead63b",
   "metadata": {
    "tags": []
   },
   "outputs": [
    {
     "name": "stderr",
     "output_type": "stream",
     "text": [
      "2023-07-24 04:26:39,451 - distributed.worker - INFO - Run out-of-band function 'lambda'\n"
     ]
    }
   ],
   "source": [
    "import dask.array as da\n",
    "from dask.distributed import performance_report\n",
    "\n",
    "with performance_report(\"my_report.html\"):\n",
    "    x = da.arange(100_000, chunks=10)\n",
    "    x.sum().compute()"
   ]
  },
  {
   "cell_type": "markdown",
   "id": "bed8743b-a34e-488a-bc51-abe923914cf0",
   "metadata": {},
   "source": [
    "Sometimes it can be useful to dive more deeply into the internals of your cluster and directly inspect the state of your scheduler and workers. Let's start by submitting some tasks to the cluster to be computed."
   ]
  },
  {
   "cell_type": "code",
   "execution_count": 31,
   "id": "98cd7868-ceb2-4066-bb8f-094ad3fc0053",
   "metadata": {
    "tags": []
   },
   "outputs": [
    {
     "name": "stderr",
     "output_type": "stream",
     "text": [
      "2023-07-24 04:27:26,933 - distributed.scheduler - INFO - Register worker <WorkerState 'tls://red-c7125.unl.edu:37707', name: htcondor--18899418.0--, status: undefined, memory: 0, processing: 0>\n",
      "2023-07-24 04:27:26,934 - distributed.scheduler - INFO - Starting worker compute stream, tls://red-c7125.unl.edu:37707\n",
      "2023-07-24 04:27:26,935 - distributed.core - INFO - Starting established connection\n",
      "2023-07-24 04:27:27,923 - distributed.scheduler - INFO - Register worker <WorkerState 'tls://red-c7125.unl.edu:45895', name: htcondor--18899419.0--, status: undefined, memory: 0, processing: 0>\n",
      "2023-07-24 04:27:27,924 - distributed.scheduler - INFO - Starting worker compute stream, tls://red-c7125.unl.edu:45895\n",
      "2023-07-24 04:27:27,925 - distributed.core - INFO - Starting established connection\n",
      "2023-07-24 04:27:33,225 - distributed.scheduler - INFO - Register worker <WorkerState 'tls://red-c7125.unl.edu:44217', name: htcondor--18899420.0--, status: undefined, memory: 0, processing: 0>\n",
      "2023-07-24 04:27:33,226 - distributed.scheduler - INFO - Starting worker compute stream, tls://red-c7125.unl.edu:44217\n",
      "2023-07-24 04:27:33,226 - distributed.core - INFO - Starting established connection\n"
     ]
    }
   ],
   "source": [
    "import random\n",
    "\n",
    "def double(x):\n",
    "    random.seed(x)\n",
    "    # Simulate some random task failures\n",
    "    if random.random() < 0.1:\n",
    "        raise ValueError(\"Oh no!\")\n",
    "    return 2 * x\n",
    "\n",
    "futures = client.map(double, range(50))"
   ]
  },
  {
   "cell_type": "markdown",
   "id": "3b8a3c19-97d2-47a9-8216-3f73abe6189a",
   "metadata": {},
   "source": [
    "One of the nice things that we have the direct access the `Scheduler` Python object. This allows us to easily inspect the scheduler directly."
   ]
  },
  {
   "cell_type": "code",
   "execution_count": 32,
   "id": "5b842c4f-64c6-4a0b-b068-45332552d6a9",
   "metadata": {
    "tags": []
   },
   "outputs": [
    {
     "data": {
      "text/html": [
       "<strong>Scheduler: </strong>tls://192.168.197.232:8786\n",
       "<span style=\"color: var(--jp-ui-font-color2, gray)\"> workers: </span>4\n",
       "<span style=\"color: var(--jp-ui-font-color2, gray)\"> cores: </span>8\n",
       "<span style=\"color: var(--jp-ui-font-color2, gray)\"> tasks: </span>50"
      ],
      "text/plain": [
       "<Scheduler 'tls://192.168.197.232:8786', workers: 4, cores: 8, tasks: 50>"
      ]
     },
     "execution_count": 32,
     "metadata": {},
     "output_type": "execute_result"
    }
   ],
   "source": [
    "scheduler = cluster.scheduler\n",
    "scheduler"
   ]
  },
  {
   "cell_type": "markdown",
   "id": "6b8e8155-68a2-4cfc-8cfb-424180e98bdb",
   "metadata": {},
   "source": [
    "ℹ️ Note that often times you won't have direct access to the `Scheduler` Python object (e.g. when the scheduler is running on separate machine). In these cases it's still possible to inspect the scheduler and we will discuss how to do this later on.\n",
    "\n",
    "The scheduler tracks **a lot** of state. Let's start to explore the scheduler to get a sense for what information it keeps track of."
   ]
  },
  {
   "cell_type": "code",
   "execution_count": 33,
   "id": "a4a43b6c-210c-41a0-bfff-38c38bfb6316",
   "metadata": {
    "tags": []
   },
   "outputs": [
    {
     "data": {
      "text/plain": [
       "'tls://192.168.197.232:8786'"
      ]
     },
     "execution_count": 33,
     "metadata": {},
     "output_type": "execute_result"
    }
   ],
   "source": [
    "scheduler.address   # Scheduler's address"
   ]
  },
  {
   "cell_type": "code",
   "execution_count": 34,
   "id": "eb25dc76-df8c-418e-84ea-ba3d33fcd373",
   "metadata": {
    "tags": []
   },
   "outputs": [
    {
     "data": {
      "text/plain": [
       "1690172770.876439"
      ]
     },
     "execution_count": 34,
     "metadata": {},
     "output_type": "execute_result"
    }
   ],
   "source": [
    "scheduler.time_started   # Time the scheduler was started"
   ]
  },
  {
   "cell_type": "code",
   "execution_count": 35,
   "id": "59c8b1be-3adb-4cdd-893c-f83d71a75a92",
   "metadata": {
    "tags": []
   },
   "outputs": [
    {
     "data": {
      "text/plain": [
       "{'tls://oksana-2eshadura-40cern-2ech.dask-worker.coffea-opendata.casa:8788': <WorkerState 'tls://oksana-2eshadura-40cern-2ech.dask-worker.coffea-opendata.casa:8788', name: kubernetes-worker-038c38f4-d798-4b07-b927-34df099fd946, status: running, memory: 46, processing: 0>,\n",
       " 'tls://red-c7125.unl.edu:37707': <WorkerState 'tls://red-c7125.unl.edu:37707', name: htcondor--18899418.0--, status: running, memory: 0, processing: 0>,\n",
       " 'tls://red-c7125.unl.edu:44217': <WorkerState 'tls://red-c7125.unl.edu:44217', name: htcondor--18899420.0--, status: running, memory: 0, processing: 0>,\n",
       " 'tls://red-c7125.unl.edu:45895': <WorkerState 'tls://red-c7125.unl.edu:45895', name: htcondor--18899419.0--, status: running, memory: 0, processing: 0>}"
      ]
     },
     "execution_count": 35,
     "metadata": {},
     "output_type": "execute_result"
    }
   ],
   "source": [
    "dict(scheduler.workers)"
   ]
  },
  {
   "cell_type": "markdown",
   "id": "13b53603-8d32-40c8-b71d-b3ed1af57848",
   "metadata": {},
   "source": [
    "In addition to the state of each worker, the scheduler also tracks information for each task it has been asked to run."
   ]
  },
  {
   "cell_type": "code",
   "execution_count": 46,
   "id": "ca9ddfa1-7ab7-4585-961d-01522c343b42",
   "metadata": {
    "tags": []
   },
   "outputs": [
    {
     "data": {
      "text/plain": [
       "{'double-a4c8e7dab320e02e53872af85fbe3a49': <TaskState 'double-a4c8e7dab320e02e53872af85fbe3a49' memory>,\n",
       " 'double-baae9d6b9a533fd6e18696c7b7a327f9': <TaskState 'double-baae9d6b9a533fd6e18696c7b7a327f9' memory>,\n",
       " 'double-3dc71d0fc4ddbf2dca29283ee63ee1d8': <TaskState 'double-3dc71d0fc4ddbf2dca29283ee63ee1d8' erred>,\n",
       " 'double-ccc86b22ef5c2a0a4f09d966dd12c406': <TaskState 'double-ccc86b22ef5c2a0a4f09d966dd12c406' memory>,\n",
       " 'double-6b56d9a8ec110da5e4fa78fb16425ec5': <TaskState 'double-6b56d9a8ec110da5e4fa78fb16425ec5' erred>,\n",
       " 'double-bdfab18ae7301fbd010b3d360f2a0445': <TaskState 'double-bdfab18ae7301fbd010b3d360f2a0445' memory>,\n",
       " 'double-f227d747fd6fef1787170d67e812df30': <TaskState 'double-f227d747fd6fef1787170d67e812df30' memory>,\n",
       " 'double-ff9e1b9f4697fc0257027009c723bba4': <TaskState 'double-ff9e1b9f4697fc0257027009c723bba4' memory>,\n",
       " 'double-29e03d1bdbd6c7598cb15b3158349188': <TaskState 'double-29e03d1bdbd6c7598cb15b3158349188' memory>,\n",
       " 'double-efb7b6953d12d7727ea276efb4c216b0': <TaskState 'double-efb7b6953d12d7727ea276efb4c216b0' memory>,\n",
       " 'double-807be26b8af069fdecd9c34dd0ff72fd': <TaskState 'double-807be26b8af069fdecd9c34dd0ff72fd' memory>,\n",
       " 'double-57e45ad1edba647d95611cfc6068a01c': <TaskState 'double-57e45ad1edba647d95611cfc6068a01c' memory>,\n",
       " 'double-bc03e71166289a3b9e64678067ccca9d': <TaskState 'double-bc03e71166289a3b9e64678067ccca9d' memory>,\n",
       " 'double-5b9800f9f344de5337adefa73869d40a': <TaskState 'double-5b9800f9f344de5337adefa73869d40a' memory>,\n",
       " 'double-13b8151e4b49c9d4e9f95dbce582ce41': <TaskState 'double-13b8151e4b49c9d4e9f95dbce582ce41' memory>,\n",
       " 'double-92c0d6f40dd2a03c5be7e2a2e96e09e8': <TaskState 'double-92c0d6f40dd2a03c5be7e2a2e96e09e8' memory>,\n",
       " 'double-7048409474113493dde81d84179f61cd': <TaskState 'double-7048409474113493dde81d84179f61cd' memory>,\n",
       " 'double-2f0a229d6ee56bb9537cee57ff15a94e': <TaskState 'double-2f0a229d6ee56bb9537cee57ff15a94e' memory>,\n",
       " 'double-0ec802026dd83df449c7089df9041e1a': <TaskState 'double-0ec802026dd83df449c7089df9041e1a' memory>,\n",
       " 'double-449c4846582e32ee465e55f38a51b838': <TaskState 'double-449c4846582e32ee465e55f38a51b838' memory>,\n",
       " 'double-7f309ff8e5ad12ab6418d15b3295af3b': <TaskState 'double-7f309ff8e5ad12ab6418d15b3295af3b' memory>,\n",
       " 'double-56617a48fb86d8e00f944ac7124bf0ed': <TaskState 'double-56617a48fb86d8e00f944ac7124bf0ed' memory>,\n",
       " 'double-74ab076ee0e2904c9ea6c8269ad1f385': <TaskState 'double-74ab076ee0e2904c9ea6c8269ad1f385' memory>,\n",
       " 'double-80b90b2c6a3cbf0f2ea96fff58954fbd': <TaskState 'double-80b90b2c6a3cbf0f2ea96fff58954fbd' memory>,\n",
       " 'double-f8185b867dfdb020abfe7ada31b223d1': <TaskState 'double-f8185b867dfdb020abfe7ada31b223d1' memory>,\n",
       " 'double-b27ca48c0acef0ff61d1b414ff179184': <TaskState 'double-b27ca48c0acef0ff61d1b414ff179184' memory>,\n",
       " 'double-c7fc970fca9552c2f454d79dcb084fde': <TaskState 'double-c7fc970fca9552c2f454d79dcb084fde' memory>,\n",
       " 'double-86011a383fd4c389627bebf6db3d9cbb': <TaskState 'double-86011a383fd4c389627bebf6db3d9cbb' memory>,\n",
       " 'double-1c209531d515ee93f54925140a52b282': <TaskState 'double-1c209531d515ee93f54925140a52b282' memory>,\n",
       " 'double-9431f581046cb0caea4dc1e669a9bd86': <TaskState 'double-9431f581046cb0caea4dc1e669a9bd86' memory>,\n",
       " 'double-a3ad7fb603f8d46e9d9a9e9c0ad77b05': <TaskState 'double-a3ad7fb603f8d46e9d9a9e9c0ad77b05' memory>,\n",
       " 'double-06b9ab7d0b22adbfc730285bd14a2b41': <TaskState 'double-06b9ab7d0b22adbfc730285bd14a2b41' memory>,\n",
       " 'double-a854daa320a06ac0c821a0a034fd9af7': <TaskState 'double-a854daa320a06ac0c821a0a034fd9af7' memory>,\n",
       " 'double-8ad3706b86b8d74e9b0f246a58818cc1': <TaskState 'double-8ad3706b86b8d74e9b0f246a58818cc1' memory>,\n",
       " 'double-41291547de42b9768dbd2baa9f6e9094': <TaskState 'double-41291547de42b9768dbd2baa9f6e9094' memory>,\n",
       " 'double-c973746946b9b8ef5a805f2c43ad241f': <TaskState 'double-c973746946b9b8ef5a805f2c43ad241f' memory>,\n",
       " 'double-d46e12c4895530ccfc0f3c10745c7f27': <TaskState 'double-d46e12c4895530ccfc0f3c10745c7f27' memory>,\n",
       " 'double-c18b1f012f895e1db56d1804f1f27483': <TaskState 'double-c18b1f012f895e1db56d1804f1f27483' erred>,\n",
       " 'double-6752450a34c274ddee7f2b0b0646d1ef': <TaskState 'double-6752450a34c274ddee7f2b0b0646d1ef' memory>,\n",
       " 'double-1ebdabc682ddca70c755620b0ffd7d40': <TaskState 'double-1ebdabc682ddca70c755620b0ffd7d40' memory>,\n",
       " 'double-b3059e2f4862946a66bd81c33a37b708': <TaskState 'double-b3059e2f4862946a66bd81c33a37b708' erred>,\n",
       " 'double-89348490d2f2ec6f2149090a8a72a005': <TaskState 'double-89348490d2f2ec6f2149090a8a72a005' memory>,\n",
       " 'double-f823384959782200f4ef359b6aeff8c9': <TaskState 'double-f823384959782200f4ef359b6aeff8c9' memory>,\n",
       " 'double-9bd612380e3016bf93b993c771480fb6': <TaskState 'double-9bd612380e3016bf93b993c771480fb6' memory>,\n",
       " 'double-c1b038623bfb44e9843fa4488d0bfc7e': <TaskState 'double-c1b038623bfb44e9843fa4488d0bfc7e' memory>,\n",
       " 'double-7f2febdc862d9288ff28504650f4cb35': <TaskState 'double-7f2febdc862d9288ff28504650f4cb35' memory>,\n",
       " 'double-f08781f1019c170742b93f7989a95625': <TaskState 'double-f08781f1019c170742b93f7989a95625' memory>,\n",
       " 'double-7fe252cc384000a2169ade8a46fbe908': <TaskState 'double-7fe252cc384000a2169ade8a46fbe908' memory>,\n",
       " 'double-e55499962326cc00b863cb46c173dc04': <TaskState 'double-e55499962326cc00b863cb46c173dc04' memory>,\n",
       " 'double-87036c173d60a321c60af71ca8c73082': <TaskState 'double-87036c173d60a321c60af71ca8c73082' memory>}"
      ]
     },
     "execution_count": 46,
     "metadata": {},
     "output_type": "execute_result"
    }
   ],
   "source": [
    "scheduler.tasks"
   ]
  },
  {
   "cell_type": "code",
   "execution_count": 53,
   "id": "ac277222-ac14-4743-be25-d2460f5d9d9f",
   "metadata": {
    "tags": []
   },
   "outputs": [],
   "source": [
    "task_state = next(iter(scheduler.tasks.values()))"
   ]
  },
  {
   "cell_type": "code",
   "execution_count": 54,
   "id": "9d8093d0-9542-42d7-a417-1e9b59a6970d",
   "metadata": {
    "tags": []
   },
   "outputs": [
    {
     "data": {
      "text/html": [
       "<strong>TaskState: </strong>\n",
       "\n",
       "\n",
       "<span style=\"color: var(--jp-ui-font-color0, black)\"> memory </span>\n",
       "\n",
       "\n",
       "\n",
       "<span style=\"color: var(--jp-ui-font-color2, gray)\">nbytes: </span>28 B\n",
       "\n",
       "\n",
       "<span style=\"color: var(--jp-ui-font-color2, gray)\">key: </span>double-a4c8e7dab320e02e53872af85fbe3a49"
      ],
      "text/plain": [
       "<TaskState 'double-a4c8e7dab320e02e53872af85fbe3a49' memory>"
      ]
     },
     "execution_count": 54,
     "metadata": {},
     "output_type": "execute_result"
    }
   ],
   "source": [
    "task_state"
   ]
  },
  {
   "cell_type": "code",
   "execution_count": 55,
   "id": "1bc9a48c-6c3a-4f39-be74-fae5e26ea645",
   "metadata": {
    "tags": []
   },
   "outputs": [
    {
     "data": {
      "text/plain": [
       "'double-a4c8e7dab320e02e53872af85fbe3a49'"
      ]
     },
     "execution_count": 55,
     "metadata": {},
     "output_type": "execute_result"
    }
   ],
   "source": [
    "task_state.key   # Task's name (unique identifier)"
   ]
  },
  {
   "cell_type": "code",
   "execution_count": 56,
   "id": "cfe7c942-172b-4e54-9548-8e94c17da4c0",
   "metadata": {
    "tags": []
   },
   "outputs": [
    {
     "data": {
      "text/plain": [
       "'memory'"
      ]
     },
     "execution_count": 56,
     "metadata": {},
     "output_type": "execute_result"
    }
   ],
   "source": [
    "task_state.state   # Task's state (e.g. \"memory\", \"waiting\", \"processing\", \"erred\", etc.)"
   ]
  },
  {
   "cell_type": "markdown",
   "id": "c1e20d0f-38d7-4694-a65e-e223557d5d3a",
   "metadata": {},
   "source": [
    "## Accessing remote scheduler and workers\n",
    "\n",
    "As we noted earlier, often times you won't have direct access to the `Scheduler` or `Worker` Python objects for your cluster. However, in these cases it's still possible to examine the state of the scheduler and workers in your cluster using the `Client.run` ([docs](https://distributed.dask.org/en/latest/api.html#distributed.Client.run)) and `Client.run_on_scheduler`([docs](https://distributed.dask.org/en/latest/api.html#distributed.Client.run_on_scheduler)) methods.\n",
    "\n",
    "`Client.run` allows you to run a function on worker processes in your cluster. If the function has a `dask_worker` parameter, then that variable will be populated with the `Worker` instance when the function is run. Likewise, `Client.run_on_scheduler` allows you to run a function on the scheduler processes in your cluster. If the function has a `dask_scheduler` parameter, then that variable will be populated with the `Scheduler` instance when the function is run.\n",
    "\n",
    "Let's look at some examples."
   ]
  },
  {
   "cell_type": "code",
   "execution_count": 58,
   "id": "63168d7a-0db6-41be-81d7-9ea51a3bf2dd",
   "metadata": {
    "tags": []
   },
   "outputs": [
    {
     "data": {
      "text/plain": [
       "{'tls://oksana-2eshadura-40cern-2ech.dask-worker.coffea-opendata.casa:8788': 5384,\n",
       " 'tls://red-c7125.unl.edu:37707': 82,\n",
       " 'tls://red-c7125.unl.edu:44217': 82,\n",
       " 'tls://red-c7125.unl.edu:45895': 82}"
      ]
     },
     "execution_count": 58,
     "metadata": {},
     "output_type": "execute_result"
    }
   ],
   "source": [
    "import os\n",
    "\n",
    "result = client.run(os.getpid)\n",
    "result"
   ]
  },
  {
   "cell_type": "code",
   "execution_count": 61,
   "id": "f2567d89-6409-42ec-b147-c24ab84ac643",
   "metadata": {
    "tags": []
   },
   "outputs": [
    {
     "data": {
      "text/plain": [
       "{'tls://oksana-2eshadura-40cern-2ech.dask-worker.coffea-opendata.casa:8788': 'kubernetes-worker-038c38f4-d798-4b07-b927-34df099fd946',\n",
       " 'tls://red-c7125.unl.edu:37707': 'htcondor--18899418.0--',\n",
       " 'tls://red-c7125.unl.edu:44217': 'htcondor--18899420.0--',\n",
       " 'tls://red-c7125.unl.edu:45895': 'htcondor--18899419.0--'}"
      ]
     },
     "execution_count": 61,
     "metadata": {},
     "output_type": "execute_result"
    }
   ],
   "source": [
    "def get_worker_name(dask_worker):\n",
    "    return dask_worker.name\n",
    "\n",
    "client.run(get_worker_name)"
   ]
  },
  {
   "cell_type": "markdown",
   "id": "09ac4f6b-c0ae-4c7e-a66b-1f39a3ceb83b",
   "metadata": {},
   "source": [
    "Similarly, we can do the same thing on the scheduler by using `Client.run_on_scheduler`"
   ]
  },
  {
   "cell_type": "code",
   "execution_count": 62,
   "id": "6a89cf9b-0f78-456b-94df-7a7fb87b22e0",
   "metadata": {
    "tags": []
   },
   "outputs": [
    {
     "name": "stderr",
     "output_type": "stream",
     "text": [
      "2023-07-24 04:32:22,925 - distributed.worker - INFO - Run out-of-band function 'getpid'\n"
     ]
    },
    {
     "data": {
      "text/plain": [
       "247"
      ]
     },
     "execution_count": 62,
     "metadata": {},
     "output_type": "execute_result"
    }
   ],
   "source": [
    "client.run_on_scheduler(os.getpid)"
   ]
  },
  {
   "cell_type": "code",
   "execution_count": 63,
   "id": "0daf0c15-c20d-421e-a21c-3ee27df6e723",
   "metadata": {
    "tags": []
   },
   "outputs": [
    {
     "name": "stderr",
     "output_type": "stream",
     "text": [
      "2023-07-24 04:32:25,227 - distributed.worker - INFO - Run out-of-band function 'get_erred_tasks'\n"
     ]
    },
    {
     "data": {
      "text/plain": [
       "['double-3dc71d0fc4ddbf2dca29283ee63ee1d8',\n",
       " 'double-6b56d9a8ec110da5e4fa78fb16425ec5',\n",
       " 'double-c18b1f012f895e1db56d1804f1f27483',\n",
       " 'double-b3059e2f4862946a66bd81c33a37b708']"
      ]
     },
     "execution_count": 63,
     "metadata": {},
     "output_type": "execute_result"
    }
   ],
   "source": [
    "def get_erred_tasks(dask_scheduler):\n",
    "    return [key for key, ts in dask_scheduler.tasks.items() if ts.state == \"erred\"]\n",
    "\n",
    "client.run_on_scheduler(get_erred_tasks)"
   ]
  },
  {
   "cell_type": "code",
   "execution_count": 64,
   "id": "780f7e4f-8ad2-4e93-ac86-e2d8c5331902",
   "metadata": {
    "tags": []
   },
   "outputs": [
    {
     "name": "stderr",
     "output_type": "stream",
     "text": [
      "2023-07-24 04:32:28,784 - distributed.scheduler - INFO - Retire worker names ('htcondor--18899420.0--', 'htcondor--18899418.0--', 'htcondor--18899419.0--')\n",
      "2023-07-24 04:32:28,785 - distributed.scheduler - INFO - Retiring worker tls://red-c7125.unl.edu:45895\n",
      "2023-07-24 04:32:28,785 - distributed.scheduler - INFO - Retiring worker tls://red-c7125.unl.edu:37707\n",
      "2023-07-24 04:32:28,785 - distributed.scheduler - INFO - Retiring worker tls://red-c7125.unl.edu:44217\n",
      "2023-07-24 04:32:28,786 - distributed.active_memory_manager - INFO - Retiring worker tls://red-c7125.unl.edu:45895; no unique keys need to be moved away.\n",
      "2023-07-24 04:32:28,786 - distributed.active_memory_manager - INFO - Retiring worker tls://red-c7125.unl.edu:37707; no unique keys need to be moved away.\n",
      "2023-07-24 04:32:28,786 - distributed.active_memory_manager - INFO - Retiring worker tls://red-c7125.unl.edu:44217; no unique keys need to be moved away.\n",
      "2023-07-24 04:32:28,786 - distributed.scheduler - INFO - Remove worker <WorkerState 'tls://red-c7125.unl.edu:45895', name: htcondor--18899419.0--, status: closing_gracefully, memory: 0, processing: 0>\n",
      "2023-07-24 04:32:28,787 - distributed.core - INFO - Removing comms to tls://red-c7125.unl.edu:45895\n",
      "2023-07-24 04:32:28,787 - distributed.scheduler - INFO - Retired worker tls://red-c7125.unl.edu:45895\n",
      "2023-07-24 04:32:28,787 - distributed.scheduler - INFO - Remove worker <WorkerState 'tls://red-c7125.unl.edu:37707', name: htcondor--18899418.0--, status: closing_gracefully, memory: 0, processing: 0>\n",
      "2023-07-24 04:32:28,788 - distributed.core - INFO - Removing comms to tls://red-c7125.unl.edu:37707\n",
      "2023-07-24 04:32:28,788 - distributed.scheduler - INFO - Retired worker tls://red-c7125.unl.edu:37707\n",
      "2023-07-24 04:32:28,788 - distributed.scheduler - INFO - Remove worker <WorkerState 'tls://red-c7125.unl.edu:44217', name: htcondor--18899420.0--, status: closing_gracefully, memory: 0, processing: 0>\n",
      "2023-07-24 04:32:28,788 - distributed.core - INFO - Removing comms to tls://red-c7125.unl.edu:44217\n",
      "2023-07-24 04:32:28,789 - distributed.scheduler - INFO - Retired worker tls://red-c7125.unl.edu:44217\n",
      "2023-07-24 04:32:29,060 - distributed.batched - INFO - Batched Comm Closed <TLS (closed) Scheduler connection to worker local=tls://192.168.197.232:8786 remote=tls://192.168.115.129:48212>\n",
      "Traceback (most recent call last):\n",
      "  File \"/opt/conda/lib/python3.8/site-packages/distributed/batched.py\", line 94, in _background_send\n",
      "    nbytes = yield self.comm.write(\n",
      "  File \"/opt/conda/lib/python3.8/site-packages/tornado/gen.py\", line 769, in run\n",
      "    value = future.result()\n",
      "  File \"/opt/conda/lib/python3.8/site-packages/distributed/comm/tcp.py\", line 269, in write\n",
      "    raise CommClosedError()\n",
      "distributed.comm.core.CommClosedError\n",
      "2023-07-24 04:32:29,064 - distributed.scheduler - INFO - Scheduler closing...\n",
      "2023-07-24 04:32:29,078 - distributed.scheduler - INFO - Remove worker <WorkerState 'tls://oksana-2eshadura-40cern-2ech.dask-worker.coffea-opendata.casa:8788', name: kubernetes-worker-038c38f4-d798-4b07-b927-34df099fd946, status: closing, memory: 46, processing: 0>\n",
      "2023-07-24 04:32:29,079 - distributed.core - INFO - Removing comms to tls://oksana-2eshadura-40cern-2ech.dask-worker.coffea-opendata.casa:8788\n",
      "2023-07-24 04:32:29,080 - distributed.scheduler - INFO - Lost all workers\n",
      "2023-07-24 04:32:29,123 - distributed.scheduler - INFO - Scheduler closing all comms\n",
      "2023-07-24 04:32:59,155 - distributed.client - ERROR - Failed to reconnect to scheduler after 30.00 seconds, closing client\n",
      "2023-07-24 04:32:59,156 - distributed.client - ERROR - Failed to reconnect to scheduler after 30.00 seconds, closing client\n"
     ]
    }
   ],
   "source": [
    "cluster.close()"
   ]
  },
  {
   "cell_type": "markdown",
   "id": "aec78fc7-3125-4d40-a03e-3595c384382d",
   "metadata": {},
   "source": [
    "#### Related Documentation\n",
    "\n",
    "- [Dask worker](https://distributed.dask.org/en/latest/worker.html)\n",
    "- [Scheduling state](https://distributed.dask.org/en/latest/scheduling-state.html)"
   ]
  },
  {
   "cell_type": "markdown",
   "id": "71b05ace-1e10-4716-ae83-f7c659c46d28",
   "metadata": {},
   "source": [
    "# Extending the scheduler and workers: Dask's plugin system (advanced)\n",
    "\n",
    "In this section we'll discuss Dask's scheduler and worker plugin systems and write our own plugin to extend the scheduler's functionality.\n",
    "\n",
    "To help facilitate extend the functionality of the scheduler and/or workers in a cluster, Dask has scheduler and worker plugin systems which enable you to hook into different events that happen throughout a cluster's lifecycle. This allows you to run custom code when a specific type of event occurs on the cluster.\n",
    "\n",
    "For example, the [worker plugin system](https://distributed.dask.org/en/latest/plugins.html#worker-plugins) enables you run custom code when the following events occur:\n",
    "\n",
    "1. Worker starts or stops\n",
    "2. When a worker releases a task\n",
    "3. When a task changes state (e.g. \"processing\" to \"memory\")\n",
    "\n",
    "Implementing your own custom plugin consists of creating a Python class with certain methods (each method corresponds to a particular lifecycle event)."
   ]
  },
  {
   "cell_type": "code",
   "execution_count": 72,
   "id": "de6f767a-52e6-4c9f-a26a-7a642b4bb953",
   "metadata": {
    "tags": []
   },
   "outputs": [],
   "source": [
    "from distributed import SchedulerPlugin, WorkerPlugin, NannyPlugin"
   ]
  },
  {
   "cell_type": "code",
   "execution_count": 73,
   "id": "6f35b157-5502-4809-a1e6-5991799c8d31",
   "metadata": {
    "tags": []
   },
   "outputs": [
    {
     "data": {
      "text/plain": [
       "['add_client',\n",
       " 'add_worker',\n",
       " 'before_close',\n",
       " 'close',\n",
       " 'remove_client',\n",
       " 'remove_worker',\n",
       " 'restart',\n",
       " 'start',\n",
       " 'transition',\n",
       " 'update_graph']"
      ]
     },
     "execution_count": 73,
     "metadata": {},
     "output_type": "execute_result"
    }
   ],
   "source": [
    "# Lifecycle SchedulerPlugin methods\n",
    "[attr for attr in dir(SchedulerPlugin) if not attr.startswith(\"_\")]"
   ]
  },
  {
   "cell_type": "code",
   "execution_count": 74,
   "id": "69ac1db2-1170-49dd-a043-a646df6cedc6",
   "metadata": {
    "tags": []
   },
   "outputs": [
    {
     "data": {
      "text/plain": [
       "['setup', 'teardown', 'transition']"
      ]
     },
     "execution_count": 74,
     "metadata": {},
     "output_type": "execute_result"
    }
   ],
   "source": [
    "# Lifecycle WorkerPlugin methods\n",
    "[attr for attr in dir(WorkerPlugin) if not attr.startswith(\"_\")]"
   ]
  },
  {
   "cell_type": "code",
   "execution_count": 75,
   "id": "45a97574-db05-4ddc-b2e7-4bf67750fed3",
   "metadata": {
    "tags": []
   },
   "outputs": [
    {
     "data": {
      "text/plain": [
       "['restart', 'setup', 'teardown']"
      ]
     },
     "execution_count": 75,
     "metadata": {},
     "output_type": "execute_result"
    },
    {
     "name": "stderr",
     "output_type": "stream",
     "text": [
      "2023-07-24 04:35:53,499 - distributed.scheduler - INFO - Register worker <WorkerState 'tls://red-c7126.unl.edu:43965', name: htcondor--18899427.0--, status: undefined, memory: 0, processing: 0>\n",
      "2023-07-24 04:35:53,500 - distributed.scheduler - INFO - Starting worker compute stream, tls://red-c7126.unl.edu:43965\n",
      "2023-07-24 04:35:53,501 - distributed.core - INFO - Starting established connection\n",
      "2023-07-24 04:35:54,949 - distributed.scheduler - INFO - Register worker <WorkerState 'tls://red-c7125.unl.edu:44503', name: htcondor--18899426.0--, status: undefined, memory: 0, processing: 0>\n",
      "2023-07-24 04:35:54,950 - distributed.scheduler - INFO - Starting worker compute stream, tls://red-c7125.unl.edu:44503\n",
      "2023-07-24 04:35:54,950 - distributed.core - INFO - Starting established connection\n"
     ]
    }
   ],
   "source": [
    "# Lifecycle WorkerPlugin methods\n",
    "[attr for attr in dir(NannyPlugin) if not attr.startswith(\"_\")]"
   ]
  },
  {
   "cell_type": "markdown",
   "id": "131294ca-74ee-4754-bd3e-15eba1de758b",
   "metadata": {},
   "source": [
    "For the exact signature of each method, please refer to the [`SchedulerPlugin`](https://distributed.dask.org/en/latest/plugins.html#scheduler-plugins), [`NannyPlugin`](https://distributed.dask.org/en/latest/plugins.html#nanny-plugins) and [`WorkerPlugin`](https://distributed.dask.org/en/latest/plugins.html#worker-plugins) documentation.\n",
    "\n",
    "Let's looks at an example scheduler plugin."
   ]
  },
  {
   "cell_type": "code",
   "execution_count": 76,
   "id": "4fc97c90-a858-40ea-9f31-e7f90aba3e85",
   "metadata": {
    "tags": []
   },
   "outputs": [],
   "source": [
    "class Counter(SchedulerPlugin):\n",
    "    \"\"\"Keeps a running count of the total number of completed tasks\"\"\"\n",
    "    def __init__(self):\n",
    "        self.n_tasks = 0\n",
    "\n",
    "    def transition(self, key, start, finish, *args, **kwargs):\n",
    "        if start == \"processing\" and finish == \"memory\":\n",
    "            self.n_tasks += 1\n",
    "\n",
    "    def restart(self, scheduler):\n",
    "        self.n_tasks = 0"
   ]
  },
  {
   "cell_type": "markdown",
   "id": "e2586c29-e5e3-495d-84aa-d30f02639ff7",
   "metadata": {},
   "source": [
    "To add a custom scheduler plugin to your cluster, use the `Scheduler.add_plugin` method:"
   ]
  },
  {
   "cell_type": "code",
   "execution_count": 77,
   "id": "56d0b325-2524-4c33-809c-5b853c94594b",
   "metadata": {
    "tags": []
   },
   "outputs": [
    {
     "name": "stderr",
     "output_type": "stream",
     "text": [
      "2023-07-24 04:38:29,282 - distributed.scheduler - INFO - Retire worker names ('htcondor--18899427.0--', 'htcondor--18899426.0--')\n",
      "2023-07-24 04:38:29,282 - distributed.scheduler - INFO - Retiring worker tls://red-c7125.unl.edu:44503\n",
      "2023-07-24 04:38:29,283 - distributed.scheduler - INFO - Retiring worker tls://red-c7126.unl.edu:43965\n",
      "2023-07-24 04:38:29,283 - distributed.active_memory_manager - INFO - Retiring worker tls://red-c7125.unl.edu:44503; no unique keys need to be moved away.\n",
      "2023-07-24 04:38:29,284 - distributed.active_memory_manager - INFO - Retiring worker tls://red-c7126.unl.edu:43965; no unique keys need to be moved away.\n",
      "2023-07-24 04:38:29,284 - distributed.scheduler - INFO - Remove worker <WorkerState 'tls://red-c7125.unl.edu:44503', name: htcondor--18899426.0--, status: closing_gracefully, memory: 0, processing: 0>\n",
      "2023-07-24 04:38:29,284 - distributed.core - INFO - Removing comms to tls://red-c7125.unl.edu:44503\n",
      "2023-07-24 04:38:29,285 - distributed.scheduler - INFO - Retired worker tls://red-c7125.unl.edu:44503\n",
      "2023-07-24 04:38:29,285 - distributed.scheduler - INFO - Remove worker <WorkerState 'tls://red-c7126.unl.edu:43965', name: htcondor--18899427.0--, status: closing_gracefully, memory: 0, processing: 0>\n",
      "2023-07-24 04:38:29,286 - distributed.core - INFO - Removing comms to tls://red-c7126.unl.edu:43965\n",
      "2023-07-24 04:38:29,286 - distributed.scheduler - INFO - Retired worker tls://red-c7126.unl.edu:43965\n",
      "2023-07-24 04:38:29,451 - distributed.scheduler - INFO - Scheduler closing...\n",
      "2023-07-24 04:38:29,465 - distributed.scheduler - INFO - Remove worker <WorkerState 'tls://oksana-2eshadura-40cern-2ech.dask-worker.coffea-opendata.casa:8788', name: kubernetes-worker-038c38f4-d798-4b07-b927-34df099fd946, status: closing, memory: 0, processing: 0>\n",
      "2023-07-24 04:38:29,465 - distributed.core - INFO - Removing comms to tls://oksana-2eshadura-40cern-2ech.dask-worker.coffea-opendata.casa:8788\n",
      "2023-07-24 04:38:29,466 - distributed.scheduler - INFO - Lost all workers\n",
      "2023-07-24 04:38:29,510 - distributed.scheduler - INFO - Scheduler closing all comms\n",
      "2023-07-24 04:38:30,551 - distributed.scheduler - INFO - State start\n",
      "2023-07-24 04:38:30,557 - distributed.scheduler - INFO - Clear task state\n",
      "2023-07-24 04:38:30,559 - distributed.scheduler - INFO -   Scheduler at: tls://192.168.197.232:8786\n",
      "2023-07-24 04:38:30,559 - distributed.scheduler - INFO -   dashboard at:                     :8787\n",
      "2023-07-24 04:38:30,726 - distributed.scheduler - INFO - Receive client connection: Client-63e8f077-29db-11ee-80f7-5a7513c347f8\n",
      "2023-07-24 04:38:30,727 - distributed.core - INFO - Starting established connection\n",
      "2023-07-24 04:38:30,731 - distributed.scheduler - INFO - Receive client connection: Client-f0920825-29db-11ee-80f7-5a7513c347f8\n",
      "2023-07-24 04:38:30,732 - distributed.core - INFO - Starting established connection\n"
     ]
    },
    {
     "name": "stdout",
     "output_type": "stream",
     "text": [
      "{'protocol': 'tls://', 'security': Security(require_encryption=True, tls_ca_file=Local (/etc/cmsaf-secrets/ca.pem), tls_client_cert=Local (/etc/cmsaf-secrets/hostcert.pem), tls_client_key=Local (/etc/cmsaf-secrets/hostcert.pem), tls_min_version=771, tls_scheduler_cert=Local (/etc/cmsaf-secrets/hostcert.pem), tls_scheduler_key=Local (/etc/cmsaf-secrets/hostcert.pem), tls_worker_cert=Local (/etc/cmsaf-secrets/hostcert.pem), tls_worker_key=Local (/etc/cmsaf-secrets/hostcert.pem)), 'log_directory': 'logs', 'silence_logs': 'DEBUG', 'scheduler_options': {'port': 8786, 'dashboard_address': '8787', 'protocol': 'tls', 'external_address': 'tls://oksana-2eshadura-40cern-2ech.dask.coffea-opendata.casa:8786'}, 'job_extra': {'universe': 'docker', 'docker_image': 'hub.opensciencegrid.org/coffea-casa/cc-analysis-ubuntu:2023.04.05', 'container_service_names': 'dask,nanny', 'dask_container_port': 8786, 'nanny_container_port': 8001, 'transfer_input_files': '/home/cms-jovyan/requirements.txt, /home/cms-jovyan/environment.yaml, /etc/cmsaf-secrets/ca.pem, /etc/cmsaf-secrets/hostcert.pem, /etc/cmsaf-secrets/xcache_token', 'encrypt_input_files': '/home/cms-jovyan/requirements.txt, /home/cms-jovyan/environment.yaml, /etc/cmsaf-secrets/ca.pem, /etc/cmsaf-secrets/hostcert.pem, /etc/cmsaf-secrets/xcache_token', 'transfer_output_files': '', 'when_to_transfer_output': 'ON_EXIT', 'should_transfer_files': 'YES', 'Stream_Output': 'False', 'Stream_Error': 'False', '+DaskSchedulerAddress': '\"tls://oksana-2eshadura-40cern-2ech.dask.coffea-opendata.casa:8786\"'}}\n"
     ]
    },
    {
     "name": "stderr",
     "output_type": "stream",
     "text": [
      "2023-07-24 04:38:32,026 - distributed.scheduler - INFO - Register worker <WorkerState 'tls://oksana-2eshadura-40cern-2ech.dask-worker.coffea-opendata.casa:8788', name: kubernetes-worker-038c38f4-d798-4b07-b927-34df099fd946, status: undefined, memory: 0, processing: 0>\n",
      "2023-07-24 04:38:32,028 - distributed.scheduler - INFO - Starting worker compute stream, tls://oksana-2eshadura-40cern-2ech.dask-worker.coffea-opendata.casa:8788\n",
      "2023-07-24 04:38:32,028 - distributed.core - INFO - Starting established connection\n"
     ]
    }
   ],
   "source": [
    "# Dont forget to delete Dask cluster object\n",
    "if cluster:\n",
    "    cluster.close() \n",
    "cluster = CoffeaCasaCluster()\n",
    "cluster.scale(3)\n",
    "client = Client(cluster)\n",
    "cluster\n",
    "\n",
    "# Instantiate and add the Counter to our cluster\n",
    "counter = Counter()\n",
    "cluster.scheduler.add_plugin(counter)"
   ]
  },
  {
   "cell_type": "code",
   "execution_count": 78,
   "id": "485d1388-4cec-4a16-a2d1-2f2e5d3d2448",
   "metadata": {
    "tags": []
   },
   "outputs": [
    {
     "data": {
      "text/plain": [
       "0"
      ]
     },
     "execution_count": 78,
     "metadata": {},
     "output_type": "execute_result"
    }
   ],
   "source": [
    "counter.n_tasks"
   ]
  },
  {
   "cell_type": "code",
   "execution_count": 79,
   "id": "220a76d3-25d4-4a3b-800e-fea64b055cb7",
   "metadata": {
    "tags": []
   },
   "outputs": [],
   "source": [
    "from distributed import wait\n",
    "futures = client.map(lambda x: x + 1, range(27))\n",
    "wait(futures);"
   ]
  },
  {
   "cell_type": "code",
   "execution_count": 80,
   "id": "5a92ad14-2976-4552-b654-8a7ad8645d8a",
   "metadata": {
    "tags": []
   },
   "outputs": [
    {
     "data": {
      "text/plain": [
       "27"
      ]
     },
     "execution_count": 80,
     "metadata": {},
     "output_type": "execute_result"
    }
   ],
   "source": [
    "counter.n_tasks"
   ]
  },
  {
   "cell_type": "code",
   "execution_count": 81,
   "id": "c4a05fc9-8292-48c7-a67d-21ac536e4d3c",
   "metadata": {
    "tags": []
   },
   "outputs": [
    {
     "name": "stderr",
     "output_type": "stream",
     "text": [
      "2023-07-24 04:38:48,456 - distributed.scheduler - INFO - Remove client Client-f0920825-29db-11ee-80f7-5a7513c347f8\n",
      "2023-07-24 04:38:48,456 - distributed.scheduler - INFO - Remove client Client-f0920825-29db-11ee-80f7-5a7513c347f8\n",
      "2023-07-24 04:38:48,457 - distributed.scheduler - INFO - Close client connection: Client-f0920825-29db-11ee-80f7-5a7513c347f8\n",
      "2023-07-24 04:38:48,460 - distributed.scheduler - INFO - Retire worker names ('htcondor--18899428.0--', 'htcondor--18899429.0--')\n",
      "2023-07-24 04:38:48,650 - distributed.scheduler - INFO - Scheduler closing...\n",
      "2023-07-24 04:38:48,662 - distributed.scheduler - INFO - Remove worker <WorkerState 'tls://oksana-2eshadura-40cern-2ech.dask-worker.coffea-opendata.casa:8788', name: kubernetes-worker-038c38f4-d798-4b07-b927-34df099fd946, status: closing, memory: 0, processing: 0>\n",
      "2023-07-24 04:38:48,662 - distributed.core - INFO - Removing comms to tls://oksana-2eshadura-40cern-2ech.dask-worker.coffea-opendata.casa:8788\n",
      "2023-07-24 04:38:48,663 - distributed.scheduler - INFO - Lost all workers\n",
      "2023-07-24 04:38:48,708 - distributed.scheduler - INFO - Scheduler closing all comms\n"
     ]
    }
   ],
   "source": [
    "client.close()\n",
    "cluster.close()"
   ]
  },
  {
   "cell_type": "markdown",
   "id": "2137bfc5-255d-4047-821d-54a10791b451",
   "metadata": {},
   "source": [
    "This is a relatively straightforward plugin one could write. Let's look at the `distributed`s built-in `PipInstall` worker plugin to see a more real-world example."
   ]
  },
  {
   "cell_type": "code",
   "execution_count": 82,
   "id": "d3ed51ef-9342-4f3b-a5f4-459191be8db7",
   "metadata": {
    "tags": []
   },
   "outputs": [
    {
     "data": {
      "text/plain": [
       "\u001b[0;31mInit signature:\u001b[0m \u001b[0mPipInstall\u001b[0m\u001b[0;34m(\u001b[0m\u001b[0mpackages\u001b[0m\u001b[0;34m,\u001b[0m \u001b[0mpip_options\u001b[0m\u001b[0;34m=\u001b[0m\u001b[0;32mNone\u001b[0m\u001b[0;34m,\u001b[0m \u001b[0mrestart\u001b[0m\u001b[0;34m=\u001b[0m\u001b[0;32mFalse\u001b[0m\u001b[0;34m)\u001b[0m\u001b[0;34m\u001b[0m\u001b[0;34m\u001b[0m\u001b[0m\n",
       "\u001b[0;31mSource:\u001b[0m        \n",
       "\u001b[0;32mclass\u001b[0m \u001b[0mPipInstall\u001b[0m\u001b[0;34m(\u001b[0m\u001b[0mWorkerPlugin\u001b[0m\u001b[0;34m)\u001b[0m\u001b[0;34m:\u001b[0m\u001b[0;34m\u001b[0m\n",
       "\u001b[0;34m\u001b[0m    \u001b[0;34m\"\"\"A Worker Plugin to pip install a set of packages\u001b[0m\n",
       "\u001b[0;34m\u001b[0m\n",
       "\u001b[0;34m    This accepts a set of packages to install on all workers.\u001b[0m\n",
       "\u001b[0;34m    You can also optionally ask for the worker to restart itself after\u001b[0m\n",
       "\u001b[0;34m    performing this installation.\u001b[0m\n",
       "\u001b[0;34m\u001b[0m\n",
       "\u001b[0;34m    .. note::\u001b[0m\n",
       "\u001b[0;34m\u001b[0m\n",
       "\u001b[0;34m       This will increase the time it takes to start up\u001b[0m\n",
       "\u001b[0;34m       each worker. If possible, we recommend including the\u001b[0m\n",
       "\u001b[0;34m       libraries in the worker environment or image. This is\u001b[0m\n",
       "\u001b[0;34m       primarily intended for experimentation and debugging.\u001b[0m\n",
       "\u001b[0;34m\u001b[0m\n",
       "\u001b[0;34m       Additional issues may arise if multiple workers share the same\u001b[0m\n",
       "\u001b[0;34m       file system. Each worker might try to install the packages\u001b[0m\n",
       "\u001b[0;34m       simultaneously.\u001b[0m\n",
       "\u001b[0;34m\u001b[0m\n",
       "\u001b[0;34m    Parameters\u001b[0m\n",
       "\u001b[0;34m    ----------\u001b[0m\n",
       "\u001b[0;34m    packages : List[str]\u001b[0m\n",
       "\u001b[0;34m        A list of strings to place after \"pip install\" command\u001b[0m\n",
       "\u001b[0;34m    pip_options : List[str]\u001b[0m\n",
       "\u001b[0;34m        Additional options to pass to pip.\u001b[0m\n",
       "\u001b[0;34m    restart : bool, default False\u001b[0m\n",
       "\u001b[0;34m        Whether or not to restart the worker after pip installing\u001b[0m\n",
       "\u001b[0;34m        Only functions if the worker has an attached nanny process\u001b[0m\n",
       "\u001b[0;34m\u001b[0m\n",
       "\u001b[0;34m    Examples\u001b[0m\n",
       "\u001b[0;34m    --------\u001b[0m\n",
       "\u001b[0;34m    >>> from dask.distributed import PipInstall\u001b[0m\n",
       "\u001b[0;34m    >>> plugin = PipInstall(packages=[\"scikit-learn\"], pip_options=[\"--upgrade\"])\u001b[0m\n",
       "\u001b[0;34m\u001b[0m\n",
       "\u001b[0;34m    >>> client.register_worker_plugin(plugin)\u001b[0m\n",
       "\u001b[0;34m    \"\"\"\u001b[0m\u001b[0;34m\u001b[0m\n",
       "\u001b[0;34m\u001b[0m\u001b[0;34m\u001b[0m\n",
       "\u001b[0;34m\u001b[0m    \u001b[0mname\u001b[0m \u001b[0;34m=\u001b[0m \u001b[0;34m\"pip\"\u001b[0m\u001b[0;34m\u001b[0m\n",
       "\u001b[0;34m\u001b[0m\u001b[0;34m\u001b[0m\n",
       "\u001b[0;34m\u001b[0m    \u001b[0;32mdef\u001b[0m \u001b[0m__init__\u001b[0m\u001b[0;34m(\u001b[0m\u001b[0mself\u001b[0m\u001b[0;34m,\u001b[0m \u001b[0mpackages\u001b[0m\u001b[0;34m,\u001b[0m \u001b[0mpip_options\u001b[0m\u001b[0;34m=\u001b[0m\u001b[0;32mNone\u001b[0m\u001b[0;34m,\u001b[0m \u001b[0mrestart\u001b[0m\u001b[0;34m=\u001b[0m\u001b[0;32mFalse\u001b[0m\u001b[0;34m)\u001b[0m\u001b[0;34m:\u001b[0m\u001b[0;34m\u001b[0m\n",
       "\u001b[0;34m\u001b[0m        \u001b[0mself\u001b[0m\u001b[0;34m.\u001b[0m\u001b[0mpackages\u001b[0m \u001b[0;34m=\u001b[0m \u001b[0mpackages\u001b[0m\u001b[0;34m\u001b[0m\n",
       "\u001b[0;34m\u001b[0m        \u001b[0mself\u001b[0m\u001b[0;34m.\u001b[0m\u001b[0mrestart\u001b[0m \u001b[0;34m=\u001b[0m \u001b[0mrestart\u001b[0m\u001b[0;34m\u001b[0m\n",
       "\u001b[0;34m\u001b[0m        \u001b[0;32mif\u001b[0m \u001b[0mpip_options\u001b[0m \u001b[0;32mis\u001b[0m \u001b[0;32mNone\u001b[0m\u001b[0;34m:\u001b[0m\u001b[0;34m\u001b[0m\n",
       "\u001b[0;34m\u001b[0m            \u001b[0mpip_options\u001b[0m \u001b[0;34m=\u001b[0m \u001b[0;34m[\u001b[0m\u001b[0;34m]\u001b[0m\u001b[0;34m\u001b[0m\n",
       "\u001b[0;34m\u001b[0m        \u001b[0mself\u001b[0m\u001b[0;34m.\u001b[0m\u001b[0mpip_options\u001b[0m \u001b[0;34m=\u001b[0m \u001b[0mpip_options\u001b[0m\u001b[0;34m\u001b[0m\n",
       "\u001b[0;34m\u001b[0m\u001b[0;34m\u001b[0m\n",
       "\u001b[0;34m\u001b[0m    \u001b[0;32masync\u001b[0m \u001b[0;32mdef\u001b[0m \u001b[0msetup\u001b[0m\u001b[0;34m(\u001b[0m\u001b[0mself\u001b[0m\u001b[0;34m,\u001b[0m \u001b[0mworker\u001b[0m\u001b[0;34m)\u001b[0m\u001b[0;34m:\u001b[0m\u001b[0;34m\u001b[0m\n",
       "\u001b[0;34m\u001b[0m        \u001b[0;32mfrom\u001b[0m \u001b[0mdistributed\u001b[0m\u001b[0;34m.\u001b[0m\u001b[0mlock\u001b[0m \u001b[0;32mimport\u001b[0m \u001b[0mLock\u001b[0m\u001b[0;34m\u001b[0m\n",
       "\u001b[0;34m\u001b[0m\u001b[0;34m\u001b[0m\n",
       "\u001b[0;34m\u001b[0m        \u001b[0;32masync\u001b[0m \u001b[0;32mwith\u001b[0m \u001b[0mLock\u001b[0m\u001b[0;34m(\u001b[0m\u001b[0msocket\u001b[0m\u001b[0;34m.\u001b[0m\u001b[0mgethostname\u001b[0m\u001b[0;34m(\u001b[0m\u001b[0;34m)\u001b[0m\u001b[0;34m)\u001b[0m\u001b[0;34m:\u001b[0m  \u001b[0;31m# don't clobber one installation\u001b[0m\u001b[0;34m\u001b[0m\n",
       "\u001b[0;34m\u001b[0m            \u001b[0mlogger\u001b[0m\u001b[0;34m.\u001b[0m\u001b[0minfo\u001b[0m\u001b[0;34m(\u001b[0m\u001b[0;34m\"Pip installing the following packages: %s\"\u001b[0m\u001b[0;34m,\u001b[0m \u001b[0mself\u001b[0m\u001b[0;34m.\u001b[0m\u001b[0mpackages\u001b[0m\u001b[0;34m)\u001b[0m\u001b[0;34m\u001b[0m\n",
       "\u001b[0;34m\u001b[0m            \u001b[0mproc\u001b[0m \u001b[0;34m=\u001b[0m \u001b[0msubprocess\u001b[0m\u001b[0;34m.\u001b[0m\u001b[0mPopen\u001b[0m\u001b[0;34m(\u001b[0m\u001b[0;34m\u001b[0m\n",
       "\u001b[0;34m\u001b[0m                \u001b[0;34m[\u001b[0m\u001b[0msys\u001b[0m\u001b[0;34m.\u001b[0m\u001b[0mexecutable\u001b[0m\u001b[0;34m,\u001b[0m \u001b[0;34m\"-m\"\u001b[0m\u001b[0;34m,\u001b[0m \u001b[0;34m\"pip\"\u001b[0m\u001b[0;34m,\u001b[0m \u001b[0;34m\"install\"\u001b[0m\u001b[0;34m]\u001b[0m\u001b[0;34m\u001b[0m\n",
       "\u001b[0;34m\u001b[0m                \u001b[0;34m+\u001b[0m \u001b[0mself\u001b[0m\u001b[0;34m.\u001b[0m\u001b[0mpip_options\u001b[0m\u001b[0;34m\u001b[0m\n",
       "\u001b[0;34m\u001b[0m                \u001b[0;34m+\u001b[0m \u001b[0mself\u001b[0m\u001b[0;34m.\u001b[0m\u001b[0mpackages\u001b[0m\u001b[0;34m,\u001b[0m\u001b[0;34m\u001b[0m\n",
       "\u001b[0;34m\u001b[0m                \u001b[0mstdout\u001b[0m\u001b[0;34m=\u001b[0m\u001b[0msubprocess\u001b[0m\u001b[0;34m.\u001b[0m\u001b[0mPIPE\u001b[0m\u001b[0;34m,\u001b[0m\u001b[0;34m\u001b[0m\n",
       "\u001b[0;34m\u001b[0m                \u001b[0mstderr\u001b[0m\u001b[0;34m=\u001b[0m\u001b[0msubprocess\u001b[0m\u001b[0;34m.\u001b[0m\u001b[0mPIPE\u001b[0m\u001b[0;34m,\u001b[0m\u001b[0;34m\u001b[0m\n",
       "\u001b[0;34m\u001b[0m            \u001b[0;34m)\u001b[0m\u001b[0;34m\u001b[0m\n",
       "\u001b[0;34m\u001b[0m            \u001b[0mstdout\u001b[0m\u001b[0;34m,\u001b[0m \u001b[0mstderr\u001b[0m \u001b[0;34m=\u001b[0m \u001b[0mproc\u001b[0m\u001b[0;34m.\u001b[0m\u001b[0mcommunicate\u001b[0m\u001b[0;34m(\u001b[0m\u001b[0;34m)\u001b[0m\u001b[0;34m\u001b[0m\n",
       "\u001b[0;34m\u001b[0m            \u001b[0mreturncode\u001b[0m \u001b[0;34m=\u001b[0m \u001b[0mproc\u001b[0m\u001b[0;34m.\u001b[0m\u001b[0mwait\u001b[0m\u001b[0;34m(\u001b[0m\u001b[0;34m)\u001b[0m\u001b[0;34m\u001b[0m\n",
       "\u001b[0;34m\u001b[0m\u001b[0;34m\u001b[0m\n",
       "\u001b[0;34m\u001b[0m            \u001b[0;32mif\u001b[0m \u001b[0mreturncode\u001b[0m\u001b[0;34m:\u001b[0m\u001b[0;34m\u001b[0m\n",
       "\u001b[0;34m\u001b[0m                \u001b[0mlogger\u001b[0m\u001b[0;34m.\u001b[0m\u001b[0merror\u001b[0m\u001b[0;34m(\u001b[0m\u001b[0;34m\"Pip install failed with '%s'\"\u001b[0m\u001b[0;34m,\u001b[0m \u001b[0mstderr\u001b[0m\u001b[0;34m.\u001b[0m\u001b[0mdecode\u001b[0m\u001b[0;34m(\u001b[0m\u001b[0;34m)\u001b[0m\u001b[0;34m.\u001b[0m\u001b[0mstrip\u001b[0m\u001b[0;34m(\u001b[0m\u001b[0;34m)\u001b[0m\u001b[0;34m)\u001b[0m\u001b[0;34m\u001b[0m\n",
       "\u001b[0;34m\u001b[0m                \u001b[0;32mreturn\u001b[0m\u001b[0;34m\u001b[0m\n",
       "\u001b[0;34m\u001b[0m\u001b[0;34m\u001b[0m\n",
       "\u001b[0;34m\u001b[0m            \u001b[0;32mif\u001b[0m \u001b[0mself\u001b[0m\u001b[0;34m.\u001b[0m\u001b[0mrestart\u001b[0m \u001b[0;32mand\u001b[0m \u001b[0mworker\u001b[0m\u001b[0;34m.\u001b[0m\u001b[0mnanny\u001b[0m\u001b[0;34m:\u001b[0m\u001b[0;34m\u001b[0m\n",
       "\u001b[0;34m\u001b[0m                \u001b[0mlines\u001b[0m \u001b[0;34m=\u001b[0m \u001b[0mstdout\u001b[0m\u001b[0;34m.\u001b[0m\u001b[0mstrip\u001b[0m\u001b[0;34m(\u001b[0m\u001b[0;34m)\u001b[0m\u001b[0;34m.\u001b[0m\u001b[0msplit\u001b[0m\u001b[0;34m(\u001b[0m\u001b[0;34mb\"\\n\"\u001b[0m\u001b[0;34m)\u001b[0m\u001b[0;34m\u001b[0m\n",
       "\u001b[0;34m\u001b[0m                \u001b[0;32mif\u001b[0m \u001b[0;32mnot\u001b[0m \u001b[0mall\u001b[0m\u001b[0;34m(\u001b[0m\u001b[0;34m\u001b[0m\n",
       "\u001b[0;34m\u001b[0m                    \u001b[0mline\u001b[0m\u001b[0;34m.\u001b[0m\u001b[0mstartswith\u001b[0m\u001b[0;34m(\u001b[0m\u001b[0;34mb\"Requirement already satisfied\"\u001b[0m\u001b[0;34m)\u001b[0m \u001b[0;32mfor\u001b[0m \u001b[0mline\u001b[0m \u001b[0;32min\u001b[0m \u001b[0mlines\u001b[0m\u001b[0;34m\u001b[0m\n",
       "\u001b[0;34m\u001b[0m                \u001b[0;34m)\u001b[0m\u001b[0;34m:\u001b[0m\u001b[0;34m\u001b[0m\n",
       "\u001b[0;34m\u001b[0m                    \u001b[0mworker\u001b[0m\u001b[0;34m.\u001b[0m\u001b[0mloop\u001b[0m\u001b[0;34m.\u001b[0m\u001b[0madd_callback\u001b[0m\u001b[0;34m(\u001b[0m\u001b[0;34m\u001b[0m\n",
       "\u001b[0;34m\u001b[0m                        \u001b[0mworker\u001b[0m\u001b[0;34m.\u001b[0m\u001b[0mclose_gracefully\u001b[0m\u001b[0;34m,\u001b[0m \u001b[0mrestart\u001b[0m\u001b[0;34m=\u001b[0m\u001b[0;32mTrue\u001b[0m\u001b[0;34m\u001b[0m\n",
       "\u001b[0;34m\u001b[0m                    \u001b[0;34m)\u001b[0m  \u001b[0;31m# restart\u001b[0m\u001b[0;34m\u001b[0m\u001b[0;34m\u001b[0m\u001b[0m\n",
       "\u001b[0;31mFile:\u001b[0m           /opt/conda/lib/python3.8/site-packages/distributed/diagnostics/plugin.py\n",
       "\u001b[0;31mType:\u001b[0m           type\n",
       "\u001b[0;31mSubclasses:\u001b[0m     "
      ]
     },
     "metadata": {},
     "output_type": "display_data"
    },
    {
     "name": "stderr",
     "output_type": "stream",
     "text": [
      "2023-07-24 04:39:18,753 - distributed.client - ERROR - Failed to reconnect to scheduler after 30.00 seconds, closing client\n"
     ]
    }
   ],
   "source": [
    "from distributed import PipInstall\n",
    "\n",
    "PipInstall??"
   ]
  },
  {
   "cell_type": "markdown",
   "id": "530d27a2-8f93-4735-bc9f-b4e508b7ad53",
   "metadata": {},
   "source": [
    "To add a custom worker plugin to your cluster, use the `Client.register_worker_plugin` method."
   ]
  },
  {
   "cell_type": "markdown",
   "id": "efde3b89-47c8-4d75-b015-be7641284ea6",
   "metadata": {},
   "source": [
    "## Exercise\n",
    "\n",
    "Create a `TaskTimerPlugin` scheduler plugin which keeps tracks of how long each task takes to run.\n",
    "\n",
    "```python\n",
    "\n",
    "class TaskTimerPlugin(SchedulerPlugin):\n",
    "    ...\n",
    "\n",
    "# Create LocalCluster and Client\n",
    "cluster = CoffeaCasaCluster()\n",
    "client = Client(cluster)\n",
    "\n",
    "# Instantiate and add the TaskTimerPlugin to our cluster\n",
    "plugin = TaskTimerPlugin()\n",
    "cluster.scheduler.add_plugin(plugin)\n",
    "\n",
    "import dask.array as da\n",
    "\n",
    "x = da.random.random((20_000, 20_000), chunks=(5_000, 1_000))\n",
    "result = (x + x.T).mean(axis=0).sum()\n",
    "result.compute()\n",
    "```"
   ]
  },
  {
   "cell_type": "code",
   "execution_count": 116,
   "id": "46fd60d2-87c0-47df-a857-a37cf6ee26f7",
   "metadata": {},
   "outputs": [],
   "source": [
    "# Your solution to Exercise 1 here"
   ]
  },
  {
   "cell_type": "code",
   "execution_count": 117,
   "id": "628ceef7-8602-4e13-8191-02d6078cdcaf",
   "metadata": {
    "scrolled": true,
    "tags": []
   },
   "outputs": [
    {
     "name": "stderr",
     "output_type": "stream",
     "text": [
      "2023-07-21 18:16:45,678 - distributed.scheduler - INFO - State start\n",
      "2023-07-21 18:16:45,684 - distributed.scheduler - INFO - Clear task state\n",
      "2023-07-21 18:16:45,685 - distributed.scheduler - INFO -   Scheduler at: tls://192.168.121.187:8786\n",
      "2023-07-21 18:16:45,686 - distributed.scheduler - INFO -   dashboard at:                     :8787\n",
      "2023-07-21 18:16:45,722 - distributed.scheduler - INFO - Receive client connection: Client-c04f6fd1-27f2-11ee-80e3-668b11fdba61\n",
      "2023-07-21 18:16:45,724 - distributed.core - INFO - Starting established connection\n"
     ]
    },
    {
     "name": "stdout",
     "output_type": "stream",
     "text": [
      "{'protocol': 'tls://', 'security': Security(require_encryption=True, tls_ca_file=Local (/etc/cmsaf-secrets/ca.pem), tls_client_cert=Local (/etc/cmsaf-secrets/hostcert.pem), tls_client_key=Local (/etc/cmsaf-secrets/hostcert.pem), tls_min_version=771, tls_scheduler_cert=Local (/etc/cmsaf-secrets/hostcert.pem), tls_scheduler_key=Local (/etc/cmsaf-secrets/hostcert.pem), tls_worker_cert=Local (/etc/cmsaf-secrets/hostcert.pem), tls_worker_key=Local (/etc/cmsaf-secrets/hostcert.pem)), 'log_directory': 'logs', 'silence_logs': 'DEBUG', 'scheduler_options': {'port': 8786, 'dashboard_address': '8787', 'protocol': 'tls', 'external_address': 'tls://oksana-2eshadura-40cern-2ech.dask.coffea-opendata.casa:8786'}, 'job_extra': {'universe': 'docker', 'docker_image': 'hub.opensciencegrid.org/coffea-casa/cc-analysis-ubuntu:2023.04.05', 'container_service_names': 'dask,nanny', 'dask_container_port': 8786, 'nanny_container_port': 8001, 'transfer_input_files': '/home/cms-jovyan/requirements.txt, /home/cms-jovyan/environment.yaml, /etc/cmsaf-secrets/ca.pem, /etc/cmsaf-secrets/hostcert.pem, /etc/cmsaf-secrets/xcache_token', 'encrypt_input_files': '/home/cms-jovyan/requirements.txt, /home/cms-jovyan/environment.yaml, /etc/cmsaf-secrets/ca.pem, /etc/cmsaf-secrets/hostcert.pem, /etc/cmsaf-secrets/xcache_token', 'transfer_output_files': '', 'when_to_transfer_output': 'ON_EXIT', 'should_transfer_files': 'YES', 'Stream_Output': 'False', 'Stream_Error': 'False', '+DaskSchedulerAddress': '\"tls://oksana-2eshadura-40cern-2ech.dask.coffea-opendata.casa:8786\"'}}\n"
     ]
    },
    {
     "name": "stderr",
     "output_type": "stream",
     "text": [
      "2023-07-21 18:16:52,414 - distributed.scheduler - INFO - Register worker <WorkerState 'tls://oksana-2eshadura-40cern-2ech.dask-worker.coffea-opendata.casa:8788', name: kubernetes-worker-7852fbdd-9d67-4be8-80ed-054a18a6748e, status: undefined, memory: 0, processing: 0>\n",
      "2023-07-21 18:16:52,416 - distributed.scheduler - INFO - Starting worker compute stream, tls://oksana-2eshadura-40cern-2ech.dask-worker.coffea-opendata.casa:8788\n",
      "2023-07-21 18:16:52,418 - distributed.core - INFO - Starting established connection\n"
     ]
    },
    {
     "data": {
      "text/plain": [
       "{\"('random_sample-cca9b0c446ac705ed0cb78a3927d2528', 0, 0)\": 0.10846257209777832,\n",
       " \"('random_sample-cca9b0c446ac705ed0cb78a3927d2528', 0, 1)\": 0.11051011085510254,\n",
       " \"('rechunk-split-rechunk-merge-f1b05b460723986f1f2235dbdc8ab2aa', 0, 0)\": 0.005492210388183594,\n",
       " \"('transpose-389276596c5ea10e1e8cb5779dd21ed2', 0, 0)\": 0.008064031600952148,\n",
       " \"('rechunk-split-rechunk-merge-f1b05b460723986f1f2235dbdc8ab2aa', 1, 0)\": 0.010804414749145508,\n",
       " \"('rechunk-merge-f1b05b460723986f1f2235dbdc8ab2aa', 0, 0)\": 0.00540924072265625,\n",
       " \"('transpose-389276596c5ea10e1e8cb5779dd21ed2', 1, 0)\": 0.008919954299926758,\n",
       " \"('rechunk-split-rechunk-merge-f1b05b460723986f1f2235dbdc8ab2aa', 2, 0)\": 0.015075922012329102,\n",
       " \"('rechunk-split-rechunk-merge-e4e8e733b3ed4c2153bdc4be5102b9ed', 0, 0)\": 0.009049177169799805,\n",
       " \"('rechunk-split-rechunk-merge-e4e8e733b3ed4c2153bdc4be5102b9ed', 1, 0)\": 0.008352279663085938,\n",
       " \"('rechunk-merge-f1b05b460723986f1f2235dbdc8ab2aa', 1, 0)\": 0.011360645294189453,\n",
       " \"('rechunk-merge-f1b05b460723986f1f2235dbdc8ab2aa', 2, 0)\": 0.007123231887817383,\n",
       " \"('random_sample-cca9b0c446ac705ed0cb78a3927d2528', 0, 2)\": 0.14120268821716309,\n",
       " \"('rechunk-merge-e4e8e733b3ed4c2153bdc4be5102b9ed', 0, 0)\": 0.017967700958251953,\n",
       " \"('rechunk-merge-e4e8e733b3ed4c2153bdc4be5102b9ed', 1, 0)\": 0.015854358673095703,\n",
       " \"('rechunk-split-rechunk-merge-f1b05b460723986f1f2235dbdc8ab2aa', 3, 0)\": 0.03765368461608887,\n",
       " \"('transpose-389276596c5ea10e1e8cb5779dd21ed2', 2, 0)\": 0.005026817321777344,\n",
       " \"('random_sample-cca9b0c446ac705ed0cb78a3927d2528', 0, 3)\": 0.16161584854125977,\n",
       " \"('mean_chunk-078b0173a40d10940d1573b80dc375ec', 0, 0)\": 0.022105693817138672,\n",
       " \"('mean_chunk-078b0173a40d10940d1573b80dc375ec', 1, 0)\": 0.02768850326538086,\n",
       " \"('rechunk-split-rechunk-merge-e4e8e733b3ed4c2153bdc4be5102b9ed', 2, 0)\": 0.027922868728637695,\n",
       " \"('transpose-389276596c5ea10e1e8cb5779dd21ed2', 3, 0)\": 0.012625455856323242,\n",
       " \"('rechunk-merge-f1b05b460723986f1f2235dbdc8ab2aa', 3, 0)\": 0.028230905532836914,\n",
       " \"('rechunk-split-rechunk-merge-f1b05b460723986f1f2235dbdc8ab2aa', 4, 0)\": 0.06805920600891113,\n",
       " \"('random_sample-cca9b0c446ac705ed0cb78a3927d2528', 0, 4)\": 0.1791696548461914,\n",
       " \"('random_sample-cca9b0c446ac705ed0cb78a3927d2528', 0, 5)\": 0.20901727676391602,\n",
       " \"('rechunk-merge-e4e8e733b3ed4c2153bdc4be5102b9ed', 2, 0)\": 0.0368199348449707,\n",
       " \"('random_sample-cca9b0c446ac705ed0cb78a3927d2528', 1, 0)\": 0.21108293533325195,\n",
       " \"('transpose-389276596c5ea10e1e8cb5779dd21ed2', 4, 0)\": 0.032102346420288086,\n",
       " \"('rechunk-merge-f1b05b460723986f1f2235dbdc8ab2aa', 4, 0)\": 0.03779125213623047,\n",
       " \"('transpose-389276596c5ea10e1e8cb5779dd21ed2', 5, 0)\": 0.005373954772949219,\n",
       " \"('rechunk-split-rechunk-merge-e4e8e733b3ed4c2153bdc4be5102b9ed', 3, 0)\": 0.040340423583984375,\n",
       " \"('random_sample-cca9b0c446ac705ed0cb78a3927d2528', 0, 6)\": 0.24479985237121582,\n",
       " \"('random_sample-cca9b0c446ac705ed0cb78a3927d2528', 0, 7)\": 0.24693012237548828,\n",
       " \"('rechunk-merge-e4e8e733b3ed4c2153bdc4be5102b9ed', 3, 0)\": 0.032575368881225586,\n",
       " \"('mean_chunk-078b0173a40d10940d1573b80dc375ec', 2, 0)\": 0.03786611557006836,\n",
       " \"('rechunk-split-rechunk-merge-e4e8e733b3ed4c2153bdc4be5102b9ed', 4, 0)\": 0.03978133201599121,\n",
       " \"('rechunk-split-rechunk-merge-e4e8e733b3ed4c2153bdc4be5102b9ed', 5, 0)\": 0.03887367248535156,\n",
       " \"('transpose-389276596c5ea10e1e8cb5779dd21ed2', 6, 0)\": 0.00855255126953125,\n",
       " \"('rechunk-split-rechunk-merge-f1b05b460723986f1f2235dbdc8ab2aa', 5, 0)\": 0.04246711730957031,\n",
       " \"('rechunk-split-rechunk-merge-f1b05b460723986f1f2235dbdc8ab2aa', 6, 0)\": 0.0448148250579834,\n",
       " \"('transpose-389276596c5ea10e1e8cb5779dd21ed2', 7, 0)\": 0.009010791778564453,\n",
       " \"('mean_chunk-078b0173a40d10940d1573b80dc375ec', 3, 0)\": 0.011073112487792969,\n",
       " \"('rechunk-split-rechunk-merge-f1b05b460723986f1f2235dbdc8ab2aa', 7, 0)\": 0.04945182800292969,\n",
       " \"('rechunk-merge-e4e8e733b3ed4c2153bdc4be5102b9ed', 4, 0)\": 0.009578943252563477,\n",
       " \"('rechunk-merge-e4e8e733b3ed4c2153bdc4be5102b9ed', 5, 0)\": 0.007390737533569336,\n",
       " \"('rechunk-merge-f1b05b460723986f1f2235dbdc8ab2aa', 5, 0)\": 0.007193088531494141,\n",
       " \"('rechunk-split-rechunk-merge-e4e8e733b3ed4c2153bdc4be5102b9ed', 6, 0)\": 0.00897073745727539,\n",
       " \"('rechunk-merge-f1b05b460723986f1f2235dbdc8ab2aa', 6, 0)\": 0.009482383728027344,\n",
       " \"('mean_combine-partial-ebdb10167ec11d555c6e5ae8a54ad15d', 0, 0)\": 0.007173776626586914,\n",
       " \"('mean_chunk-078b0173a40d10940d1573b80dc375ec', 4, 0)\": 0.007100582122802734,\n",
       " \"('mean_chunk-078b0173a40d10940d1573b80dc375ec', 5, 0)\": 0.011997222900390625,\n",
       " \"('rechunk-merge-e4e8e733b3ed4c2153bdc4be5102b9ed', 6, 0)\": 0.010429859161376953,\n",
       " \"('rechunk-split-rechunk-merge-e4e8e733b3ed4c2153bdc4be5102b9ed', 7, 0)\": 0.019605159759521484,\n",
       " \"('rechunk-merge-f1b05b460723986f1f2235dbdc8ab2aa', 7, 0)\": 0.015102624893188477,\n",
       " \"('random_sample-cca9b0c446ac705ed0cb78a3927d2528', 0, 10)\": 0.2894761562347412,\n",
       " \"('mean_chunk-078b0173a40d10940d1573b80dc375ec', 6, 0)\": 0.02053546905517578,\n",
       " \"('rechunk-merge-e4e8e733b3ed4c2153bdc4be5102b9ed', 7, 0)\": 0.020774364471435547,\n",
       " \"('transpose-389276596c5ea10e1e8cb5779dd21ed2', 10, 0)\": 0.006989955902099609,\n",
       " \"('random_sample-cca9b0c446ac705ed0cb78a3927d2528', 2, 0)\": 0.3063478469848633,\n",
       " \"('mean_chunk-078b0173a40d10940d1573b80dc375ec', 7, 0)\": 0.012959718704223633,\n",
       " \"('rechunk-split-rechunk-merge-e4e8e733b3ed4c2153bdc4be5102b9ed', 10, 0)\": 0.01534128189086914,\n",
       " \"('rechunk-split-rechunk-merge-f1b05b460723986f1f2235dbdc8ab2aa', 10, 0)\": 0.007899761199951172,\n",
       " \"('rechunk-split-rechunk-merge-f1b05b460723986f1f2235dbdc8ab2aa', 11, 0)\": 0.010159730911254883,\n",
       " \"('mean_combine-partial-ebdb10167ec11d555c6e5ae8a54ad15d', 1, 0)\": 0.00719451904296875,\n",
       " \"('rechunk-merge-e4e8e733b3ed4c2153bdc4be5102b9ed', 10, 0)\": 0.004826545715332031,\n",
       " \"('random_sample-cca9b0c446ac705ed0cb78a3927d2528', 0, 11)\": 0.3266415596008301,\n",
       " \"('rechunk-merge-f1b05b460723986f1f2235dbdc8ab2aa', 10, 0)\": 0.01519012451171875,\n",
       " \"('rechunk-merge-f1b05b460723986f1f2235dbdc8ab2aa', 11, 0)\": 0.012998104095458984,\n",
       " \"('rechunk-split-rechunk-merge-f1b05b460723986f1f2235dbdc8ab2aa', 8, 0)\": 0.12126588821411133,\n",
       " \"('transpose-389276596c5ea10e1e8cb5779dd21ed2', 11, 0)\": 0.005720615386962891,\n",
       " \"('random_sample-cca9b0c446ac705ed0cb78a3927d2528', 0, 8)\": 0.349398136138916,\n",
       " \"('mean_chunk-078b0173a40d10940d1573b80dc375ec', 10, 0)\": 0.023612499237060547,\n",
       " \"('rechunk-split-rechunk-merge-e4e8e733b3ed4c2153bdc4be5102b9ed', 11, 0)\": 0.022642135620117188,\n",
       " \"('transpose-389276596c5ea10e1e8cb5779dd21ed2', 8, 0)\": 0.00877833366394043,\n",
       " \"('rechunk-merge-f1b05b460723986f1f2235dbdc8ab2aa', 8, 0)\": 0.02606654167175293,\n",
       " \"('rechunk-merge-e4e8e733b3ed4c2153bdc4be5102b9ed', 11, 0)\": 0.0033483505249023438,\n",
       " \"('rechunk-split-rechunk-merge-f1b05b460723986f1f2235dbdc8ab2aa', 9, 0)\": 0.14954638481140137,\n",
       " \"('random_sample-cca9b0c446ac705ed0cb78a3927d2528', 0, 9)\": 0.36277127265930176,\n",
       " \"('mean_chunk-078b0173a40d10940d1573b80dc375ec', 11, 0)\": 0.007956981658935547,\n",
       " \"('rechunk-split-rechunk-merge-e4e8e733b3ed4c2153bdc4be5102b9ed', 8, 0)\": 0.010352134704589844,\n",
       " \"('transpose-389276596c5ea10e1e8cb5779dd21ed2', 9, 0)\": 0.008466005325317383,\n",
       " \"('rechunk-merge-f1b05b460723986f1f2235dbdc8ab2aa', 9, 0)\": 0.01084589958190918,\n",
       " \"('rechunk-split-rechunk-merge-f1b05b460723986f1f2235dbdc8ab2aa', 12, 0)\": 0.06692147254943848,\n",
       " \"('random_sample-cca9b0c446ac705ed0cb78a3927d2528', 0, 12)\": 0.39192938804626465,\n",
       " \"('rechunk-merge-e4e8e733b3ed4c2153bdc4be5102b9ed', 8, 0)\": 0.024534940719604492,\n",
       " \"('rechunk-split-rechunk-merge-e4e8e733b3ed4c2153bdc4be5102b9ed', 9, 0)\": 0.024485349655151367,\n",
       " \"('transpose-389276596c5ea10e1e8cb5779dd21ed2', 12, 0)\": 0.003906965255737305,\n",
       " \"('rechunk-merge-f1b05b460723986f1f2235dbdc8ab2aa', 12, 0)\": 0.022732973098754883,\n",
       " \"('rechunk-split-rechunk-merge-f1b05b460723986f1f2235dbdc8ab2aa', 13, 0)\": 0.09178662300109863,\n",
       " \"('random_sample-cca9b0c446ac705ed0cb78a3927d2528', 0, 13)\": 0.40488219261169434,\n",
       " \"('mean_chunk-078b0173a40d10940d1573b80dc375ec', 8, 0)\": 0.015895843505859375,\n",
       " \"('rechunk-merge-e4e8e733b3ed4c2153bdc4be5102b9ed', 9, 0)\": 0.015758514404296875,\n",
       " \"('rechunk-split-rechunk-merge-e4e8e733b3ed4c2153bdc4be5102b9ed', 12, 0)\": 0.018304824829101562,\n",
       " \"('transpose-389276596c5ea10e1e8cb5779dd21ed2', 13, 0)\": 0.00923919677734375,\n",
       " \"('rechunk-merge-f1b05b460723986f1f2235dbdc8ab2aa', 13, 0)\": 0.016269207000732422,\n",
       " \"('rechunk-split-rechunk-merge-f1b05b460723986f1f2235dbdc8ab2aa', 14, 0)\": 0.11015033721923828,\n",
       " \"('random_sample-cca9b0c446ac705ed0cb78a3927d2528', 0, 14)\": 0.4309220314025879,\n",
       " \"('mean_chunk-078b0173a40d10940d1573b80dc375ec', 9, 0)\": 0.022136449813842773,\n",
       " \"('rechunk-merge-e4e8e733b3ed4c2153bdc4be5102b9ed', 12, 0)\": 0.02189922332763672,\n",
       " \"('rechunk-split-rechunk-merge-e4e8e733b3ed4c2153bdc4be5102b9ed', 13, 0)\": 0.024361848831176758,\n",
       " \"('transpose-389276596c5ea10e1e8cb5779dd21ed2', 14, 0)\": 0.007649660110473633,\n",
       " \"('rechunk-merge-f1b05b460723986f1f2235dbdc8ab2aa', 14, 0)\": 0.02236461639404297,\n",
       " \"('random_sample-cca9b0c446ac705ed0cb78a3927d2528', 0, 15)\": 0.44916319847106934,\n",
       " \"('mean_combine-partial-ebdb10167ec11d555c6e5ae8a54ad15d', 2, 0)\": 0.018187284469604492,\n",
       " \"('mean_chunk-078b0173a40d10940d1573b80dc375ec', 12, 0)\": 0.017914295196533203,\n",
       " \"('rechunk-merge-e4e8e733b3ed4c2153bdc4be5102b9ed', 13, 0)\": 0.015448331832885742,\n",
       " \"('rechunk-split-rechunk-merge-e4e8e733b3ed4c2153bdc4be5102b9ed', 14, 0)\": 0.020798206329345703,\n",
       " \"('mean_chunk-078b0173a40d10940d1573b80dc375ec', 13, 0)\": 0.007627964019775391,\n",
       " \"('transpose-389276596c5ea10e1e8cb5779dd21ed2', 15, 0)\": 0.012526988983154297,\n",
       " \"('random_sample-cca9b0c446ac705ed0cb78a3927d2528', 3, 0)\": 0.47138333320617676,\n",
       " \"('rechunk-merge-e4e8e733b3ed4c2153bdc4be5102b9ed', 14, 0)\": 0.014607906341552734,\n",
       " \"('rechunk-split-rechunk-merge-e4e8e733b3ed4c2153bdc4be5102b9ed', 15, 0)\": 0.01474142074584961,\n",
       " \"('rechunk-split-rechunk-merge-f1b05b460723986f1f2235dbdc8ab2aa', 15, 0)\": 0.0076160430908203125,\n",
       " \"('rechunk-split-rechunk-merge-f1b05b460723986f1f2235dbdc8ab2aa', 16, 0)\": 0.010443449020385742,\n",
       " \"('mean_chunk-078b0173a40d10940d1573b80dc375ec', 14, 0)\": 0.010941743850708008,\n",
       " \"('rechunk-merge-e4e8e733b3ed4c2153bdc4be5102b9ed', 15, 0)\": 0.011481046676635742,\n",
       " \"('rechunk-merge-f1b05b460723986f1f2235dbdc8ab2aa', 15, 0)\": 0.008978605270385742,\n",
       " \"('rechunk-merge-f1b05b460723986f1f2235dbdc8ab2aa', 16, 0)\": 0.006208896636962891,\n",
       " \"('random_sample-cca9b0c446ac705ed0cb78a3927d2528', 0, 16)\": 0.4946756362915039,\n",
       " \"('mean_chunk-078b0173a40d10940d1573b80dc375ec', 15, 0)\": 0.009589910507202148,\n",
       " \"('rechunk-split-rechunk-merge-f1b05b460723986f1f2235dbdc8ab2aa', 17, 0)\": 0.032901763916015625,\n",
       " \"('random_sample-cca9b0c446ac705ed0cb78a3927d2528', 0, 17)\": 0.5217256546020508,\n",
       " \"('mean_combine-partial-ebdb10167ec11d555c6e5ae8a54ad15d', 3, 0)\": 0.027037382125854492,\n",
       " \"('transpose-389276596c5ea10e1e8cb5779dd21ed2', 16, 0)\": 0.030188322067260742,\n",
       " \"('rechunk-merge-f1b05b460723986f1f2235dbdc8ab2aa', 17, 0)\": 0.020659685134887695,\n",
       " \"('rechunk-split-rechunk-merge-f1b05b460723986f1f2235dbdc8ab2aa', 18, 0)\": 0.055344343185424805,\n",
       " \"('transpose-389276596c5ea10e1e8cb5779dd21ed2', 17, 0)\": 0.00510859489440918,\n",
       " \"('random_sample-cca9b0c446ac705ed0cb78a3927d2528', 0, 18)\": 0.5373833179473877,\n",
       " \"('mean_combine-partial-b4426b8e7ae63bb324794cbaa2924c0c', 0, 0)\": 0.01543116569519043,\n",
       " \"('rechunk-split-rechunk-merge-e4e8e733b3ed4c2153bdc4be5102b9ed', 16, 0)\": 0.017608165740966797,\n",
       " \"('rechunk-split-rechunk-merge-e4e8e733b3ed4c2153bdc4be5102b9ed', 17, 0)\": 0.01808762550354004,\n",
       " \"('rechunk-merge-e4e8e733b3ed4c2153bdc4be5102b9ed', 16, 0)\": 0.004495143890380859,\n",
       " \"('transpose-389276596c5ea10e1e8cb5779dd21ed2', 18, 0)\": 0.009708404541015625,\n",
       " \"('rechunk-merge-f1b05b460723986f1f2235dbdc8ab2aa', 18, 0)\": 0.020489931106567383,\n",
       " \"('rechunk-split-rechunk-merge-f1b05b460723986f1f2235dbdc8ab2aa', 19, 0)\": 0.08113718032836914,\n",
       " \"('mean_chunk-078b0173a40d10940d1573b80dc375ec', 16, 0)\": 0.00743556022644043,\n",
       " \"('rechunk-merge-e4e8e733b3ed4c2153bdc4be5102b9ed', 17, 0)\": 0.012599945068359375,\n",
       " \"('rechunk-split-rechunk-merge-e4e8e733b3ed4c2153bdc4be5102b9ed', 18, 0)\": 0.012981653213500977,\n",
       " \"('rechunk-merge-f1b05b460723986f1f2235dbdc8ab2aa', 19, 0)\": 0.007611513137817383,\n",
       " \"('random_sample-cca9b0c446ac705ed0cb78a3927d2528', 0, 19)\": 0.5623774528503418,\n",
       " \"('rechunk-split-rechunk-merge-f1b05b460723986f1f2235dbdc8ab2aa', 0, 1)\": 0.4526841640472412,\n",
       " \"('rechunk-split-rechunk-merge-e4e8e733b3ed4c2153bdc4be5102b9ed', 0, 1)\": 0.4490776062011719,\n",
       " \"('mean_chunk-078b0173a40d10940d1573b80dc375ec', 17, 0)\": 0.009654045104980469,\n",
       " \"('rechunk-split-rechunk-merge-e4e8e733b3ed4c2153bdc4be5102b9ed', 1, 1)\": 0.44851088523864746,\n",
       " \"('rechunk-split-rechunk-merge-f1b05b460723986f1f2235dbdc8ab2aa', 1, 1)\": 0.4575080871582031,\n",
       " \"('rechunk-merge-e4e8e733b3ed4c2153bdc4be5102b9ed', 18, 0)\": 0.009131908416748047,\n",
       " \"('transpose-389276596c5ea10e1e8cb5779dd21ed2', 19, 0)\": 0.006992816925048828,\n",
       " \"('rechunk-merge-e4e8e733b3ed4c2153bdc4be5102b9ed', 0, 1)\": 0.004519939422607422,\n",
       " \"('rechunk-merge-f1b05b460723986f1f2235dbdc8ab2aa', 0, 1)\": 0.007001161575317383,\n",
       " \"('rechunk-split-rechunk-merge-e4e8e733b3ed4c2153bdc4be5102b9ed', 2, 1)\": 0.4240236282348633,\n",
       " \"('rechunk-split-rechunk-merge-e4e8e733b3ed4c2153bdc4be5102b9ed', 3, 1)\": 0.39765024185180664,\n",
       " \"('rechunk-split-rechunk-merge-f1b05b460723986f1f2235dbdc8ab2aa', 3, 1)\": 0.4642903804779053,\n",
       " \"('rechunk-split-rechunk-merge-f1b05b460723986f1f2235dbdc8ab2aa', 2, 1)\": 0.4644012451171875,\n",
       " \"('mean_chunk-078b0173a40d10940d1573b80dc375ec', 18, 0)\": 0.006825447082519531,\n",
       " \"('rechunk-split-rechunk-merge-e4e8e733b3ed4c2153bdc4be5102b9ed', 19, 0)\": 0.009060144424438477,\n",
       " \"('rechunk-merge-e4e8e733b3ed4c2153bdc4be5102b9ed', 1, 1)\": 0.01119375228881836,\n",
       " \"('rechunk-merge-f1b05b460723986f1f2235dbdc8ab2aa', 1, 1)\": 0.011170387268066406,\n",
       " \"('rechunk-merge-e4e8e733b3ed4c2153bdc4be5102b9ed', 2, 1)\": 0.008987188339233398,\n",
       " \"('rechunk-merge-f1b05b460723986f1f2235dbdc8ab2aa', 2, 1)\": 0.006766080856323242,\n",
       " \"('rechunk-merge-e4e8e733b3ed4c2153bdc4be5102b9ed', 3, 1)\": 0.009843587875366211,\n",
       " \"('mean_chunk-078b0173a40d10940d1573b80dc375ec', 0, 1)\": 0.011626005172729492,\n",
       " \"('rechunk-merge-f1b05b460723986f1f2235dbdc8ab2aa', 3, 1)\": 0.007028102874755859,\n",
       " \"('rechunk-split-rechunk-merge-f1b05b460723986f1f2235dbdc8ab2aa', 4, 1)\": 0.47382616996765137,\n",
       " \"('rechunk-split-rechunk-merge-e4e8e733b3ed4c2153bdc4be5102b9ed', 4, 1)\": 0.37314820289611816,\n",
       " \"('rechunk-split-rechunk-merge-e4e8e733b3ed4c2153bdc4be5102b9ed', 5, 1)\": 0.3726375102996826,\n",
       " \"('rechunk-merge-e4e8e733b3ed4c2153bdc4be5102b9ed', 19, 0)\": 0.008104801177978516,\n",
       " \"('mean_chunk-078b0173a40d10940d1573b80dc375ec', 1, 1)\": 0.011114358901977539,\n",
       " \"('mean_chunk-078b0173a40d10940d1573b80dc375ec', 2, 1)\": 0.011061906814575195,\n",
       " \"('mean_chunk-078b0173a40d10940d1573b80dc375ec', 19, 0)\": 0.00836324691772461,\n",
       " \"('mean_chunk-078b0173a40d10940d1573b80dc375ec', 3, 1)\": 0.016007661819458008,\n",
       " \"('rechunk-merge-e4e8e733b3ed4c2153bdc4be5102b9ed', 4, 1)\": 0.01356053352355957,\n",
       " \"('rechunk-merge-f1b05b460723986f1f2235dbdc8ab2aa', 4, 1)\": 0.013672590255737305,\n",
       " \"('rechunk-merge-e4e8e733b3ed4c2153bdc4be5102b9ed', 5, 1)\": 0.011000633239746094,\n",
       " \"('rechunk-split-rechunk-merge-e4e8e733b3ed4c2153bdc4be5102b9ed', 6, 1)\": 0.3501393795013428,\n",
       " \"('mean_combine-partial-b4426b8e7ae63bb324794cbaa2924c0c', 1, 0)\": 0.008035898208618164,\n",
       " \"('mean_combine-partial-ebdb10167ec11d555c6e5ae8a54ad15d', 0, 1)\": 0.005811452865600586,\n",
       " \"('mean_chunk-078b0173a40d10940d1573b80dc375ec', 4, 1)\": 0.008061408996582031,\n",
       " \"('mean_agg-aggregate-sum-1b7cf9ab16d76b9ce257a7a8fed9256a', 0)\": 0.004560708999633789,\n",
       " \"('rechunk-merge-e4e8e733b3ed4c2153bdc4be5102b9ed', 6, 1)\": 0.00478053092956543,\n",
       " \"('rechunk-split-rechunk-merge-e4e8e733b3ed4c2153bdc4be5102b9ed', 7, 1)\": 0.355466365814209,\n",
       " \"('rechunk-split-rechunk-merge-e4e8e733b3ed4c2153bdc4be5102b9ed', 10, 1)\": 0.31749916076660156,\n",
       " \"('sum-1b7cf9ab16d76b9ce257a7a8fed9256a', 0)\": 0.0058252811431884766,\n",
       " \"('random_sample-cca9b0c446ac705ed0cb78a3927d2528', 1, 1)\": 0.6185600757598877,\n",
       " \"('rechunk-merge-e4e8e733b3ed4c2153bdc4be5102b9ed', 7, 1)\": 0.01041412353515625,\n",
       " \"('rechunk-merge-e4e8e733b3ed4c2153bdc4be5102b9ed', 10, 1)\": 0.007882118225097656,\n",
       " \"('rechunk-split-rechunk-merge-e4e8e733b3ed4c2153bdc4be5102b9ed', 11, 1)\": 0.2915313243865967,\n",
       " \"('rechunk-split-rechunk-merge-f1b05b460723986f1f2235dbdc8ab2aa', 5, 1)\": 0.011675834655761719,\n",
       " \"('rechunk-split-rechunk-merge-f1b05b460723986f1f2235dbdc8ab2aa', 6, 1)\": 0.014168977737426758,\n",
       " \"('rechunk-split-rechunk-merge-f1b05b460723986f1f2235dbdc8ab2aa', 7, 1)\": 0.017389535903930664,\n",
       " \"('rechunk-merge-f1b05b460723986f1f2235dbdc8ab2aa', 5, 1)\": 0.00864267349243164,\n",
       " \"('rechunk-merge-e4e8e733b3ed4c2153bdc4be5102b9ed', 11, 1)\": 0.015472412109375,\n",
       " \"('rechunk-split-rechunk-merge-e4e8e733b3ed4c2153bdc4be5102b9ed', 8, 1)\": 0.28315281867980957,\n",
       " \"('rechunk-merge-f1b05b460723986f1f2235dbdc8ab2aa', 6, 1)\": 0.010949373245239258,\n",
       " \"('rechunk-merge-f1b05b460723986f1f2235dbdc8ab2aa', 7, 1)\": 0.0078008174896240234,\n",
       " \"('rechunk-split-rechunk-merge-f1b05b460723986f1f2235dbdc8ab2aa', 8, 1)\": 0.02742147445678711,\n",
       " \"('random_sample-cca9b0c446ac705ed0cb78a3927d2528', 2, 1)\": 0.648834228515625,\n",
       " \"('rechunk-merge-e4e8e733b3ed4c2153bdc4be5102b9ed', 8, 1)\": 0.007994890213012695,\n",
       " \"('rechunk-split-rechunk-merge-e4e8e733b3ed4c2153bdc4be5102b9ed', 9, 1)\": 0.28061556816101074,\n",
       " \"('mean_chunk-078b0173a40d10940d1573b80dc375ec', 5, 1)\": 0.012632369995117188,\n",
       " \"('rechunk-split-rechunk-merge-f1b05b460723986f1f2235dbdc8ab2aa', 9, 1)\": 0.035031795501708984,\n",
       " \"('mean_chunk-078b0173a40d10940d1573b80dc375ec', 6, 1)\": 0.012560606002807617,\n",
       " \"('rechunk-merge-f1b05b460723986f1f2235dbdc8ab2aa', 8, 1)\": 0.010329723358154297,\n",
       " \"('rechunk-split-rechunk-merge-e4e8e733b3ed4c2153bdc4be5102b9ed', 12, 1)\": 0.2630448341369629,\n",
       " \"('mean_chunk-078b0173a40d10940d1573b80dc375ec', 7, 1)\": 0.014759302139282227,\n",
       " \"('rechunk-split-rechunk-merge-f1b05b460723986f1f2235dbdc8ab2aa', 10, 1)\": 0.009877204895019531,\n",
       " \"('rechunk-merge-e4e8e733b3ed4c2153bdc4be5102b9ed', 9, 1)\": 0.007223606109619141,\n",
       " \"('rechunk-merge-f1b05b460723986f1f2235dbdc8ab2aa', 9, 1)\": 0.0074007511138916016,\n",
       " \"('rechunk-split-rechunk-merge-f1b05b460723986f1f2235dbdc8ab2aa', 11, 1)\": 0.012343645095825195,\n",
       " \"('rechunk-split-rechunk-merge-f1b05b460723986f1f2235dbdc8ab2aa', 12, 1)\": 0.014261722564697266,\n",
       " \"('mean_combine-partial-ebdb10167ec11d555c6e5ae8a54ad15d', 1, 1)\": 0.004555940628051758,\n",
       " \"('rechunk-merge-f1b05b460723986f1f2235dbdc8ab2aa', 10, 1)\": 0.0045642852783203125,\n",
       " \"('rechunk-split-rechunk-merge-e4e8e733b3ed4c2153bdc4be5102b9ed', 13, 1)\": 0.24946069717407227,\n",
       " \"('rechunk-merge-e4e8e733b3ed4c2153bdc4be5102b9ed', 12, 1)\": 0.004849910736083984,\n",
       " \"('rechunk-split-rechunk-merge-f1b05b460723986f1f2235dbdc8ab2aa', 13, 1)\": 0.01615452766418457,\n",
       " \"('mean_chunk-078b0173a40d10940d1573b80dc375ec', 8, 1)\": 0.011324167251586914,\n",
       " \"('rechunk-split-rechunk-merge-f1b05b460723986f1f2235dbdc8ab2aa', 14, 1)\": 0.01892995834350586,\n",
       " \"('rechunk-split-rechunk-merge-e4e8e733b3ed4c2153bdc4be5102b9ed', 14, 1)\": 0.229539155960083,\n",
       " \"('rechunk-merge-f1b05b460723986f1f2235dbdc8ab2aa', 11, 1)\": 0.00882267951965332,\n",
       " \"('mean_chunk-078b0173a40d10940d1573b80dc375ec', 10, 1)\": 0.009578943252563477,\n",
       " \"('rechunk-merge-f1b05b460723986f1f2235dbdc8ab2aa', 12, 1)\": 0.009795188903808594,\n",
       " \"('rechunk-merge-e4e8e733b3ed4c2153bdc4be5102b9ed', 13, 1)\": 0.009669065475463867,\n",
       " \"('mean_chunk-078b0173a40d10940d1573b80dc375ec', 9, 1)\": 0.014066219329833984,\n",
       " \"('rechunk-split-rechunk-merge-e4e8e733b3ed4c2153bdc4be5102b9ed', 15, 1)\": 0.21374177932739258,\n",
       " \"('rechunk-merge-f1b05b460723986f1f2235dbdc8ab2aa', 13, 1)\": 0.010272502899169922,\n",
       " \"('rechunk-merge-e4e8e733b3ed4c2153bdc4be5102b9ed', 14, 1)\": 0.007477760314941406,\n",
       " \"('rechunk-merge-f1b05b460723986f1f2235dbdc8ab2aa', 14, 1)\": 0.007582426071166992,\n",
       " \"('mean_chunk-078b0173a40d10940d1573b80dc375ec', 11, 1)\": 0.007272958755493164,\n",
       " \"('rechunk-split-rechunk-merge-e4e8e733b3ed4c2153bdc4be5102b9ed', 16, 1)\": 0.1551508903503418,\n",
       " \"('mean_chunk-078b0173a40d10940d1573b80dc375ec', 12, 1)\": 0.009165048599243164,\n",
       " \"('mean_chunk-078b0173a40d10940d1573b80dc375ec', 13, 1)\": 0.012439966201782227,\n",
       " \"('mean_combine-partial-ebdb10167ec11d555c6e5ae8a54ad15d', 2, 1)\": 0.010461568832397461,\n",
       " \"('mean_chunk-078b0173a40d10940d1573b80dc375ec', 14, 1)\": 0.014469146728515625,\n",
       " \"('rechunk-merge-e4e8e733b3ed4c2153bdc4be5102b9ed', 15, 1)\": 0.014714241027832031,\n",
       " \"('rechunk-merge-e4e8e733b3ed4c2153bdc4be5102b9ed', 16, 1)\": 0.012423515319824219,\n",
       " \"('rechunk-split-rechunk-merge-e4e8e733b3ed4c2153bdc4be5102b9ed', 17, 1)\": 0.16928744316101074,\n",
       " \"('rechunk-split-rechunk-merge-e4e8e733b3ed4c2153bdc4be5102b9ed', 18, 1)\": 0.1511538028717041,\n",
       " \"('rechunk-split-rechunk-merge-e4e8e733b3ed4c2153bdc4be5102b9ed', 19, 1)\": 0.1381072998046875,\n",
       " \"('rechunk-merge-e4e8e733b3ed4c2153bdc4be5102b9ed', 17, 1)\": 0.01160430908203125,\n",
       " \"('rechunk-merge-e4e8e733b3ed4c2153bdc4be5102b9ed', 18, 1)\": 0.009486675262451172,\n",
       " \"('rechunk-split-rechunk-merge-e4e8e733b3ed4c2153bdc4be5102b9ed', 0, 2)\": 0.5927538871765137,\n",
       " \"('rechunk-split-rechunk-merge-f1b05b460723986f1f2235dbdc8ab2aa', 0, 2)\": 0.5681753158569336,\n",
       " \"('rechunk-split-rechunk-merge-e4e8e733b3ed4c2153bdc4be5102b9ed', 1, 2)\": 0.5901436805725098,\n",
       " \"('random_sample-cca9b0c446ac705ed0cb78a3927d2528', 3, 1)\": 0.7109115123748779,\n",
       " \"('rechunk-split-rechunk-merge-f1b05b460723986f1f2235dbdc8ab2aa', 1, 2)\": 0.5728039741516113,\n",
       " \"('rechunk-merge-e4e8e733b3ed4c2153bdc4be5102b9ed', 19, 1)\": 0.005902528762817383,\n",
       " \"('rechunk-split-rechunk-merge-e4e8e733b3ed4c2153bdc4be5102b9ed', 2, 2)\": 0.5678801536560059,\n",
       " \"('rechunk-split-rechunk-merge-f1b05b460723986f1f2235dbdc8ab2aa', 2, 2)\": 0.5729732513427734,\n",
       " \"('rechunk-split-rechunk-merge-f1b05b460723986f1f2235dbdc8ab2aa', 3, 2)\": 0.5749216079711914,\n",
       " \"('rechunk-split-rechunk-merge-e4e8e733b3ed4c2153bdc4be5102b9ed', 3, 2)\": 0.5439338684082031,\n",
       " \"('rechunk-split-rechunk-merge-e4e8e733b3ed4c2153bdc4be5102b9ed', 4, 2)\": 0.5069584846496582,\n",
       " \"('rechunk-split-rechunk-merge-f1b05b460723986f1f2235dbdc8ab2aa', 15, 1)\": 0.008990764617919922,\n",
       " \"('rechunk-split-rechunk-merge-f1b05b460723986f1f2235dbdc8ab2aa', 16, 1)\": 0.011718273162841797,\n",
       " \"('rechunk-split-rechunk-merge-f1b05b460723986f1f2235dbdc8ab2aa', 17, 1)\": 0.014368772506713867,\n",
       " \"('rechunk-split-rechunk-merge-f1b05b460723986f1f2235dbdc8ab2aa', 18, 1)\": 0.016521453857421875,\n",
       " \"('rechunk-merge-e4e8e733b3ed4c2153bdc4be5102b9ed', 0, 2)\": 0.018960952758789062,\n",
       " \"('rechunk-merge-f1b05b460723986f1f2235dbdc8ab2aa', 15, 1)\": 0.007688760757446289,\n",
       " \"('rechunk-merge-f1b05b460723986f1f2235dbdc8ab2aa', 16, 1)\": 0.005006074905395508,\n",
       " \"('rechunk-merge-f1b05b460723986f1f2235dbdc8ab2aa', 0, 2)\": 0.019075632095336914,\n",
       " \"('rechunk-split-rechunk-merge-f1b05b460723986f1f2235dbdc8ab2aa', 19, 1)\": 0.016834735870361328,\n",
       " \"('rechunk-merge-e4e8e733b3ed4c2153bdc4be5102b9ed', 1, 2)\": 0.02102828025817871,\n",
       " \"('rechunk-merge-f1b05b460723986f1f2235dbdc8ab2aa', 1, 2)\": 0.01663804054260254,\n",
       " \"('rechunk-merge-e4e8e733b3ed4c2153bdc4be5102b9ed', 2, 2)\": 0.01661515235900879,\n",
       " \"('rechunk-merge-f1b05b460723986f1f2235dbdc8ab2aa', 2, 2)\": 0.016596555709838867,\n",
       " \"('rechunk-merge-e4e8e733b3ed4c2153bdc4be5102b9ed', 3, 2)\": 0.012623071670532227,\n",
       " \"('rechunk-merge-f1b05b460723986f1f2235dbdc8ab2aa', 3, 2)\": 0.014733552932739258,\n",
       " \"('rechunk-merge-e4e8e733b3ed4c2153bdc4be5102b9ed', 4, 2)\": 0.014514684677124023,\n",
       " \"('rechunk-split-rechunk-merge-f1b05b460723986f1f2235dbdc8ab2aa', 4, 2)\": 0.5943093299865723,\n",
       " \"('rechunk-split-rechunk-merge-e4e8e733b3ed4c2153bdc4be5102b9ed', 5, 2)\": 0.521151065826416,\n",
       " \"('mean_chunk-078b0173a40d10940d1573b80dc375ec', 16, 1)\": 0.012116432189941406,\n",
       " \"('mean_chunk-078b0173a40d10940d1573b80dc375ec', 15, 1)\": 0.012248992919921875,\n",
       " \"('rechunk-merge-f1b05b460723986f1f2235dbdc8ab2aa', 17, 1)\": 0.014643430709838867,\n",
       " \"('rechunk-merge-f1b05b460723986f1f2235dbdc8ab2aa', 18, 1)\": 0.014668941497802734,\n",
       " \"('rechunk-merge-f1b05b460723986f1f2235dbdc8ab2aa', 19, 1)\": 0.014451980590820312,\n",
       " \"('mean_chunk-078b0173a40d10940d1573b80dc375ec', 0, 2)\": 0.048670291900634766,\n",
       " \"('mean_chunk-078b0173a40d10940d1573b80dc375ec', 1, 2)\": 0.04909229278564453,\n",
       " \"('mean_chunk-078b0173a40d10940d1573b80dc375ec', 2, 2)\": 0.04904532432556152,\n",
       " \"('mean_combine-partial-ebdb10167ec11d555c6e5ae8a54ad15d', 3, 1)\": 0.03928709030151367,\n",
       " \"('mean_chunk-078b0173a40d10940d1573b80dc375ec', 17, 1)\": 0.04120326042175293,\n",
       " \"('mean_chunk-078b0173a40d10940d1573b80dc375ec', 18, 1)\": 0.0423588752746582,\n",
       " \"('mean_chunk-078b0173a40d10940d1573b80dc375ec', 19, 1)\": 0.04412555694580078,\n",
       " \"('mean_combine-partial-b4426b8e7ae63bb324794cbaa2924c0c', 0, 1)\": 0.007245063781738281,\n",
       " \"('mean_chunk-078b0173a40d10940d1573b80dc375ec', 3, 2)\": 0.05637073516845703,\n",
       " \"('rechunk-merge-f1b05b460723986f1f2235dbdc8ab2aa', 4, 2)\": 0.0518040657043457,\n",
       " \"('rechunk-merge-e4e8e733b3ed4c2153bdc4be5102b9ed', 5, 2)\": 0.05393481254577637,\n",
       " \"('rechunk-split-rechunk-merge-e4e8e733b3ed4c2153bdc4be5102b9ed', 6, 2)\": 0.538426399230957,\n",
       " \"('rechunk-split-rechunk-merge-e4e8e733b3ed4c2153bdc4be5102b9ed', 7, 2)\": 0.5386641025543213,\n",
       " \"('mean_combine-partial-b4426b8e7ae63bb324794cbaa2924c0c', 1, 1)\": 0.007630348205566406,\n",
       " \"('mean_combine-partial-ebdb10167ec11d555c6e5ae8a54ad15d', 0, 2)\": 0.0075817108154296875,\n",
       " \"('mean_chunk-078b0173a40d10940d1573b80dc375ec', 4, 2)\": 0.010734319686889648,\n",
       " \"('rechunk-merge-e4e8e733b3ed4c2153bdc4be5102b9ed', 6, 2)\": 0.0072078704833984375,\n",
       " \"('rechunk-split-rechunk-merge-e4e8e733b3ed4c2153bdc4be5102b9ed', 10, 2)\": 0.5053246021270752,\n",
       " \"('random_sample-cca9b0c446ac705ed0cb78a3927d2528', 1, 2)\": 0.8214402198791504,\n",
       " \"('mean_agg-aggregate-sum-1b7cf9ab16d76b9ce257a7a8fed9256a', 1)\": 0.02913951873779297,\n",
       " \"('rechunk-merge-e4e8e733b3ed4c2153bdc4be5102b9ed', 7, 2)\": 0.029351472854614258,\n",
       " \"('rechunk-merge-e4e8e733b3ed4c2153bdc4be5102b9ed', 10, 2)\": 0.022181034088134766,\n",
       " \"('rechunk-split-rechunk-merge-e4e8e733b3ed4c2153bdc4be5102b9ed', 11, 2)\": 0.4947044849395752,\n",
       " \"('rechunk-split-rechunk-merge-f1b05b460723986f1f2235dbdc8ab2aa', 5, 2)\": 0.006955146789550781,\n",
       " \"('rechunk-split-rechunk-merge-f1b05b460723986f1f2235dbdc8ab2aa', 6, 2)\": 0.009119033813476562,\n",
       " \"('sum-1b7cf9ab16d76b9ce257a7a8fed9256a', 1)\": 0.007231712341308594,\n",
       " \"('rechunk-split-rechunk-merge-f1b05b460723986f1f2235dbdc8ab2aa', 7, 2)\": 0.009221076965332031,\n",
       " \"('rechunk-merge-e4e8e733b3ed4c2153bdc4be5102b9ed', 11, 2)\": 0.006632089614868164,\n",
       " \"('rechunk-split-rechunk-merge-e4e8e733b3ed4c2153bdc4be5102b9ed', 8, 2)\": 0.4780282974243164,\n",
       " \"('random_sample-cca9b0c446ac705ed0cb78a3927d2528', 2, 2)\": 0.8359217643737793,\n",
       " \"('rechunk-merge-f1b05b460723986f1f2235dbdc8ab2aa', 5, 2)\": 0.007650852203369141,\n",
       " \"('rechunk-merge-f1b05b460723986f1f2235dbdc8ab2aa', 6, 2)\": 0.005528688430786133,\n",
       " \"('rechunk-merge-f1b05b460723986f1f2235dbdc8ab2aa', 7, 2)\": 0.005492210388183594,\n",
       " \"('rechunk-split-rechunk-merge-f1b05b460723986f1f2235dbdc8ab2aa', 8, 2)\": 0.017113685607910156,\n",
       " \"('rechunk-split-rechunk-merge-e4e8e733b3ed4c2153bdc4be5102b9ed', 9, 2)\": 0.46786022186279297,\n",
       " \"('rechunk-split-rechunk-merge-f1b05b460723986f1f2235dbdc8ab2aa', 9, 2)\": 0.017241954803466797,\n",
       " \"('rechunk-split-rechunk-merge-e4e8e733b3ed4c2153bdc4be5102b9ed', 12, 2)\": 0.4456653594970703,\n",
       " \"('rechunk-split-rechunk-merge-e4e8e733b3ed4c2153bdc4be5102b9ed', 13, 2)\": 0.4273362159729004,\n",
       " \"('mean_chunk-078b0173a40d10940d1573b80dc375ec', 5, 2)\": 0.007235050201416016,\n",
       " \"('mean_chunk-078b0173a40d10940d1573b80dc375ec', 6, 2)\": 0.010181903839111328,\n",
       " \"('mean_chunk-078b0173a40d10940d1573b80dc375ec', 7, 2)\": 0.012213706970214844,\n",
       " \"('rechunk-split-rechunk-merge-f1b05b460723986f1f2235dbdc8ab2aa', 10, 2)\": 0.012659788131713867,\n",
       " \"('rechunk-merge-e4e8e733b3ed4c2153bdc4be5102b9ed', 8, 2)\": 0.012809038162231445,\n",
       " \"('rechunk-merge-f1b05b460723986f1f2235dbdc8ab2aa', 8, 2)\": 0.010019063949584961,\n",
       " \"('rechunk-merge-e4e8e733b3ed4c2153bdc4be5102b9ed', 9, 2)\": 0.010019063949584961,\n",
       " \"('rechunk-merge-f1b05b460723986f1f2235dbdc8ab2aa', 9, 2)\": 0.009996414184570312,\n",
       " \"('rechunk-merge-e4e8e733b3ed4c2153bdc4be5102b9ed', 12, 2)\": 0.009742259979248047,\n",
       " \"('rechunk-split-rechunk-merge-f1b05b460723986f1f2235dbdc8ab2aa', 12, 2)\": 0.01716136932373047,\n",
       " \"('rechunk-split-rechunk-merge-f1b05b460723986f1f2235dbdc8ab2aa', 11, 2)\": 0.01728081703186035,\n",
       " \"('rechunk-merge-f1b05b460723986f1f2235dbdc8ab2aa', 10, 2)\": 0.004679203033447266,\n",
       " \"('mean_combine-partial-ebdb10167ec11d555c6e5ae8a54ad15d', 1, 2)\": 0.004822492599487305,\n",
       " \"('mean_chunk-078b0173a40d10940d1573b80dc375ec', 8, 2)\": 0.006233692169189453,\n",
       " \"('mean_chunk-078b0173a40d10940d1573b80dc375ec', 9, 2)\": 0.00887155532836914,\n",
       " \"('rechunk-merge-e4e8e733b3ed4c2153bdc4be5102b9ed', 13, 2)\": 0.016520977020263672,\n",
       " \"('rechunk-split-rechunk-merge-f1b05b460723986f1f2235dbdc8ab2aa', 13, 2)\": 0.02347588539123535,\n",
       " \"('rechunk-split-rechunk-merge-e4e8e733b3ed4c2153bdc4be5102b9ed', 14, 2)\": 0.42119789123535156,\n",
       " \"('rechunk-merge-f1b05b460723986f1f2235dbdc8ab2aa', 11, 2)\": 0.006360054016113281,\n",
       " \"('rechunk-merge-f1b05b460723986f1f2235dbdc8ab2aa', 12, 2)\": 0.006501436233520508,\n",
       " \"('mean_chunk-078b0173a40d10940d1573b80dc375ec', 10, 2)\": 0.009233951568603516,\n",
       " \"('rechunk-split-rechunk-merge-f1b05b460723986f1f2235dbdc8ab2aa', 14, 2)\": 0.02890324592590332,\n",
       " \"('rechunk-split-rechunk-merge-e4e8e733b3ed4c2153bdc4be5102b9ed', 15, 2)\": 0.4034860134124756,\n",
       " \"('mean_chunk-078b0173a40d10940d1573b80dc375ec', 11, 2)\": 0.008166074752807617,\n",
       " \"('mean_chunk-078b0173a40d10940d1573b80dc375ec', 12, 2)\": 0.010962963104248047,\n",
       " \"('rechunk-merge-f1b05b460723986f1f2235dbdc8ab2aa', 13, 2)\": 0.011232852935791016,\n",
       " \"('rechunk-merge-e4e8e733b3ed4c2153bdc4be5102b9ed', 14, 2)\": 0.011246442794799805,\n",
       " \"('rechunk-merge-f1b05b460723986f1f2235dbdc8ab2aa', 14, 2)\": 0.0059051513671875,\n",
       " \"('rechunk-merge-e4e8e733b3ed4c2153bdc4be5102b9ed', 15, 2)\": 0.0059053897857666016,\n",
       " \"('rechunk-split-rechunk-merge-e4e8e733b3ed4c2153bdc4be5102b9ed', 16, 2)\": 0.348987340927124,\n",
       " \"('rechunk-split-rechunk-merge-e4e8e733b3ed4c2153bdc4be5102b9ed', 17, 2)\": 0.34906697273254395,\n",
       " \"('mean_combine-partial-ebdb10167ec11d555c6e5ae8a54ad15d', 2, 2)\": 0.010382890701293945,\n",
       " \"('mean_chunk-078b0173a40d10940d1573b80dc375ec', 13, 2)\": 0.009418010711669922,\n",
       " \"('mean_chunk-078b0173a40d10940d1573b80dc375ec', 14, 2)\": 0.011622905731201172,\n",
       " \"('rechunk-merge-e4e8e733b3ed4c2153bdc4be5102b9ed', 16, 2)\": 0.008821249008178711,\n",
       " \"('rechunk-merge-e4e8e733b3ed4c2153bdc4be5102b9ed', 17, 2)\": 0.006789684295654297,\n",
       " \"('rechunk-split-rechunk-merge-e4e8e733b3ed4c2153bdc4be5102b9ed', 18, 2)\": 0.34029698371887207,\n",
       " \"('rechunk-split-rechunk-merge-e4e8e733b3ed4c2153bdc4be5102b9ed', 19, 2)\": 0.32057762145996094,\n",
       " \"('rechunk-split-rechunk-merge-e4e8e733b3ed4c2153bdc4be5102b9ed', 0, 3)\": 0.776951789855957,\n",
       " \"('rechunk-merge-e4e8e733b3ed4c2153bdc4be5102b9ed', 18, 2)\": 0.005487680435180664,\n",
       " \"('rechunk-split-rechunk-merge-f1b05b460723986f1f2235dbdc8ab2aa', 0, 3)\": 0.734356164932251,\n",
       " \"('rechunk-split-rechunk-merge-e4e8e733b3ed4c2153bdc4be5102b9ed', 1, 3)\": 0.7788267135620117,\n",
       " \"('rechunk-merge-e4e8e733b3ed4c2153bdc4be5102b9ed', 19, 2)\": 0.009700536727905273,\n",
       " \"('rechunk-merge-e4e8e733b3ed4c2153bdc4be5102b9ed', 0, 3)\": 0.0068895816802978516,\n",
       " \"('rechunk-split-rechunk-merge-f1b05b460723986f1f2235dbdc8ab2aa', 1, 3)\": 0.744333028793335,\n",
       " \"('rechunk-merge-f1b05b460723986f1f2235dbdc8ab2aa', 0, 3)\": 0.010041952133178711,\n",
       " \"('rechunk-merge-e4e8e733b3ed4c2153bdc4be5102b9ed', 1, 3)\": 0.007829666137695312,\n",
       " \"('random_sample-cca9b0c446ac705ed0cb78a3927d2528', 3, 2)\": 0.9054877758026123,\n",
       " \"('rechunk-split-rechunk-merge-f1b05b460723986f1f2235dbdc8ab2aa', 2, 3)\": 0.7462189197540283,\n",
       " \"('rechunk-split-rechunk-merge-e4e8e733b3ed4c2153bdc4be5102b9ed', 2, 3)\": 0.7638139724731445,\n",
       " \"('rechunk-split-rechunk-merge-e4e8e733b3ed4c2153bdc4be5102b9ed', 3, 3)\": 0.7358593940734863,\n",
       " \"('rechunk-split-rechunk-merge-f1b05b460723986f1f2235dbdc8ab2aa', 16, 2)\": 0.0039789676666259766,\n",
       " \"('rechunk-split-rechunk-merge-f1b05b460723986f1f2235dbdc8ab2aa', 17, 2)\": 0.005876779556274414,\n",
       " \"('rechunk-split-rechunk-merge-f1b05b460723986f1f2235dbdc8ab2aa', 15, 2)\": 0.006013393402099609,\n",
       " \"('rechunk-split-rechunk-merge-f1b05b460723986f1f2235dbdc8ab2aa', 18, 2)\": 0.008782148361206055,\n",
       " \"('rechunk-split-rechunk-merge-f1b05b460723986f1f2235dbdc8ab2aa', 19, 2)\": 0.011197566986083984,\n",
       " \"('rechunk-merge-f1b05b460723986f1f2235dbdc8ab2aa', 15, 2)\": 0.005335807800292969,\n",
       " \"('rechunk-merge-f1b05b460723986f1f2235dbdc8ab2aa', 16, 2)\": 0.007427692413330078,\n",
       " \"('rechunk-merge-f1b05b460723986f1f2235dbdc8ab2aa', 17, 2)\": 0.0055599212646484375,\n",
       " \"('mean_chunk-078b0173a40d10940d1573b80dc375ec', 0, 3)\": 0.011723995208740234,\n",
       " \"('rechunk-merge-f1b05b460723986f1f2235dbdc8ab2aa', 1, 3)\": 0.011857986450195312,\n",
       " \"('rechunk-merge-e4e8e733b3ed4c2153bdc4be5102b9ed', 2, 3)\": 0.009748220443725586,\n",
       " \"('rechunk-merge-f1b05b460723986f1f2235dbdc8ab2aa', 2, 3)\": 0.012004852294921875,\n",
       " \"('rechunk-merge-e4e8e733b3ed4c2153bdc4be5102b9ed', 3, 3)\": 0.009826183319091797,\n",
       " \"('rechunk-split-rechunk-merge-e4e8e733b3ed4c2153bdc4be5102b9ed', 4, 3)\": 0.7109181880950928,\n",
       " \"('rechunk-split-rechunk-merge-f1b05b460723986f1f2235dbdc8ab2aa', 3, 3)\": 0.7606878280639648,\n",
       " \"('mean_chunk-078b0173a40d10940d1573b80dc375ec', 15, 2)\": 0.006816387176513672,\n",
       " \"('mean_chunk-078b0173a40d10940d1573b80dc375ec', 16, 2)\": 0.00939488410949707,\n",
       " \"('rechunk-merge-f1b05b460723986f1f2235dbdc8ab2aa', 18, 2)\": 0.012063741683959961,\n",
       " \"('rechunk-merge-f1b05b460723986f1f2235dbdc8ab2aa', 19, 2)\": 0.009713172912597656,\n",
       " \"('mean_chunk-078b0173a40d10940d1573b80dc375ec', 17, 2)\": 0.011053800582885742,\n",
       " \"('mean_chunk-078b0173a40d10940d1573b80dc375ec', 1, 3)\": 0.010989189147949219,\n",
       " \"('rechunk-merge-f1b05b460723986f1f2235dbdc8ab2aa', 3, 3)\": 0.008786201477050781,\n",
       " \"('rechunk-merge-e4e8e733b3ed4c2153bdc4be5102b9ed', 4, 3)\": 0.0089569091796875,\n",
       " \"('mean_chunk-078b0173a40d10940d1573b80dc375ec', 2, 3)\": 0.01135873794555664,\n",
       " \"('mean_combine-partial-ebdb10167ec11d555c6e5ae8a54ad15d', 3, 2)\": 0.008563518524169922,\n",
       " \"('rechunk-split-rechunk-merge-f1b05b460723986f1f2235dbdc8ab2aa', 4, 3)\": 0.7715332508087158,\n",
       " \"('mean_chunk-078b0173a40d10940d1573b80dc375ec', 18, 2)\": 0.008910894393920898,\n",
       " \"('mean_chunk-078b0173a40d10940d1573b80dc375ec', 19, 2)\": 0.008896827697753906,\n",
       " \"('rechunk-split-rechunk-merge-e4e8e733b3ed4c2153bdc4be5102b9ed', 5, 3)\": 0.7245867252349854,\n",
       " \"('mean_combine-partial-b4426b8e7ae63bb324794cbaa2924c0c', 0, 2)\": 0.006014347076416016,\n",
       " \"('mean_chunk-078b0173a40d10940d1573b80dc375ec', 3, 3)\": 0.010840177536010742,\n",
       " \"('rechunk-merge-f1b05b460723986f1f2235dbdc8ab2aa', 4, 3)\": 0.00891876220703125,\n",
       " \"('rechunk-split-rechunk-merge-e4e8e733b3ed4c2153bdc4be5102b9ed', 6, 3)\": 0.6913778781890869,\n",
       " \"('mean_combine-partial-b4426b8e7ae63bb324794cbaa2924c0c', 1, 2)\": 0.008720159530639648,\n",
       " \"('rechunk-merge-e4e8e733b3ed4c2153bdc4be5102b9ed', 5, 3)\": 0.005930662155151367,\n",
       " \"('rechunk-split-rechunk-merge-e4e8e733b3ed4c2153bdc4be5102b9ed', 7, 3)\": 0.6906757354736328,\n",
       " \"('rechunk-split-rechunk-merge-e4e8e733b3ed4c2153bdc4be5102b9ed', 10, 3)\": 0.6526901721954346,\n",
       " \"('mean_agg-aggregate-sum-1b7cf9ab16d76b9ce257a7a8fed9256a', 2)\": 0.004407405853271484,\n",
       " \"('mean_combine-partial-ebdb10167ec11d555c6e5ae8a54ad15d', 0, 3)\": 0.009320974349975586,\n",
       " \"('mean_chunk-078b0173a40d10940d1573b80dc375ec', 4, 3)\": 0.012217521667480469,\n",
       " \"('rechunk-merge-e4e8e733b3ed4c2153bdc4be5102b9ed', 6, 3)\": 0.009569168090820312,\n",
       " \"('sum-1b7cf9ab16d76b9ce257a7a8fed9256a', 2)\": 0.006313323974609375,\n",
       " \"('rechunk-merge-e4e8e733b3ed4c2153bdc4be5102b9ed', 7, 3)\": 0.009016990661621094,\n",
       " \"('rechunk-merge-e4e8e733b3ed4c2153bdc4be5102b9ed', 10, 3)\": 0.00649261474609375,\n",
       " \"('random_sample-cca9b0c446ac705ed0cb78a3927d2528', 1, 3)\": 0.9689292907714844,\n",
       " \"('rechunk-split-rechunk-merge-e4e8e733b3ed4c2153bdc4be5102b9ed', 11, 3)\": 0.6390719413757324,\n",
       " \"('rechunk-split-rechunk-merge-f1b05b460723986f1f2235dbdc8ab2aa', 5, 3)\": 0.005404472351074219,\n",
       " \"('rechunk-split-rechunk-merge-f1b05b460723986f1f2235dbdc8ab2aa', 6, 3)\": 0.007250547409057617,\n",
       " \"('rechunk-merge-f1b05b460723986f1f2235dbdc8ab2aa', 5, 3)\": 0.003988027572631836,\n",
       " \"('rechunk-split-rechunk-merge-f1b05b460723986f1f2235dbdc8ab2aa', 7, 3)\": 0.009485244750976562,\n",
       " \"('rechunk-merge-e4e8e733b3ed4c2153bdc4be5102b9ed', 11, 3)\": 0.007552146911621094,\n",
       " \"('rechunk-split-rechunk-merge-e4e8e733b3ed4c2153bdc4be5102b9ed', 8, 3)\": 0.6258742809295654,\n",
       " \"('mean_chunk-078b0173a40d10940d1573b80dc375ec', 5, 3)\": 0.007811307907104492,\n",
       " \"('rechunk-merge-f1b05b460723986f1f2235dbdc8ab2aa', 6, 3)\": 0.010048627853393555,\n",
       " \"('rechunk-merge-f1b05b460723986f1f2235dbdc8ab2aa', 7, 3)\": 0.007887601852416992,\n",
       " \"('rechunk-split-rechunk-merge-f1b05b460723986f1f2235dbdc8ab2aa', 8, 3)\": 0.019023895263671875,\n",
       " \"('rechunk-merge-e4e8e733b3ed4c2153bdc4be5102b9ed', 8, 3)\": 0.004471778869628906,\n",
       " \"('random_sample-cca9b0c446ac705ed0cb78a3927d2528', 2, 3)\": 0.9903321266174316,\n",
       " \"('rechunk-split-rechunk-merge-e4e8e733b3ed4c2153bdc4be5102b9ed', 9, 3)\": 0.6218347549438477,\n",
       " \"('rechunk-split-rechunk-merge-f1b05b460723986f1f2235dbdc8ab2aa', 9, 3)\": 0.02368927001953125,\n",
       " \"('rechunk-split-rechunk-merge-e4e8e733b3ed4c2153bdc4be5102b9ed', 12, 3)\": 0.5992865562438965,\n",
       " \"('rechunk-split-rechunk-merge-e4e8e733b3ed4c2153bdc4be5102b9ed', 13, 3)\": 0.5809531211853027,\n",
       " \"('mean_chunk-078b0173a40d10940d1573b80dc375ec', 6, 3)\": 0.011191606521606445,\n",
       " \"('mean_chunk-078b0173a40d10940d1573b80dc375ec', 7, 3)\": 0.015100479125976562,\n",
       " \"('rechunk-split-rechunk-merge-f1b05b460723986f1f2235dbdc8ab2aa', 10, 3)\": 0.014189720153808594,\n",
       " \"('rechunk-split-rechunk-merge-f1b05b460723986f1f2235dbdc8ab2aa', 11, 3)\": 0.014252185821533203,\n",
       " \"('rechunk-merge-f1b05b460723986f1f2235dbdc8ab2aa', 8, 3)\": 0.016626358032226562,\n",
       " \"('rechunk-merge-e4e8e733b3ed4c2153bdc4be5102b9ed', 9, 3)\": 0.012089729309082031,\n",
       " \"('rechunk-merge-f1b05b460723986f1f2235dbdc8ab2aa', 9, 3)\": 0.012055635452270508,\n",
       " \"('rechunk-merge-e4e8e733b3ed4c2153bdc4be5102b9ed', 12, 3)\": 0.010136127471923828,\n",
       " \"('rechunk-merge-e4e8e733b3ed4c2153bdc4be5102b9ed', 13, 3)\": 0.01226949691772461,\n",
       " \"('rechunk-split-rechunk-merge-f1b05b460723986f1f2235dbdc8ab2aa', 12, 3)\": 0.016721725463867188,\n",
       " \"('mean_combine-partial-ebdb10167ec11d555c6e5ae8a54ad15d', 1, 3)\": 0.007267951965332031,\n",
       " \"('rechunk-split-rechunk-merge-f1b05b460723986f1f2235dbdc8ab2aa', 13, 3)\": 0.021059274673461914,\n",
       " \"('rechunk-merge-f1b05b460723986f1f2235dbdc8ab2aa', 10, 3)\": 0.007008552551269531,\n",
       " \"('rechunk-split-rechunk-merge-e4e8e733b3ed4c2153bdc4be5102b9ed', 14, 3)\": 0.5733656883239746,\n",
       " \"('rechunk-merge-f1b05b460723986f1f2235dbdc8ab2aa', 11, 3)\": 0.007073163986206055,\n",
       " \"('mean_chunk-078b0173a40d10940d1573b80dc375ec', 9, 3)\": 0.008750200271606445,\n",
       " \"('mean_chunk-078b0173a40d10940d1573b80dc375ec', 8, 3)\": 0.011930465698242188,\n",
       " \"('rechunk-merge-f1b05b460723986f1f2235dbdc8ab2aa', 12, 3)\": 0.00954437255859375,\n",
       " \"('mean_chunk-078b0173a40d10940d1573b80dc375ec', 11, 3)\": 0.0068836212158203125,\n",
       " \"('mean_chunk-078b0173a40d10940d1573b80dc375ec', 10, 3)\": 0.0070781707763671875,\n",
       " \"('rechunk-merge-f1b05b460723986f1f2235dbdc8ab2aa', 13, 3)\": 0.010074377059936523,\n",
       " \"('rechunk-merge-e4e8e733b3ed4c2153bdc4be5102b9ed', 14, 3)\": 0.01001739501953125,\n",
       " \"('rechunk-split-rechunk-merge-f1b05b460723986f1f2235dbdc8ab2aa', 14, 3)\": 0.03325486183166504,\n",
       " \"('rechunk-split-rechunk-merge-e4e8e733b3ed4c2153bdc4be5102b9ed', 15, 3)\": 0.562340259552002,\n",
       " \"('mean_combine-partial-ebdb10167ec11d555c6e5ae8a54ad15d', 2, 3)\": 0.0050885677337646484,\n",
       " \"('mean_chunk-078b0173a40d10940d1573b80dc375ec', 12, 3)\": 0.00904226303100586,\n",
       " \"('rechunk-split-rechunk-merge-e4e8e733b3ed4c2153bdc4be5102b9ed', 16, 3)\": 0.503140926361084,\n",
       " \"('mean_chunk-078b0173a40d10940d1573b80dc375ec', 13, 3)\": 0.008739948272705078,\n",
       " \"('rechunk-merge-f1b05b460723986f1f2235dbdc8ab2aa', 14, 3)\": 0.009551286697387695,\n",
       " \"('rechunk-merge-e4e8e733b3ed4c2153bdc4be5102b9ed', 15, 3)\": 0.00971078872680664,\n",
       " \"('rechunk-split-rechunk-merge-e4e8e733b3ed4c2153bdc4be5102b9ed', 17, 3)\": 0.5092427730560303,\n",
       " \"('rechunk-merge-e4e8e733b3ed4c2153bdc4be5102b9ed', 16, 3)\": 0.008135080337524414,\n",
       " \"('rechunk-split-rechunk-merge-e4e8e733b3ed4c2153bdc4be5102b9ed', 18, 3)\": 0.4917182922363281,\n",
       " \"('rechunk-split-rechunk-merge-e4e8e733b3ed4c2153bdc4be5102b9ed', 19, 3)\": 0.4716622829437256,\n",
       " \"('mean_chunk-078b0173a40d10940d1573b80dc375ec', 14, 3)\": 0.010585308074951172,\n",
       " \"('rechunk-merge-e4e8e733b3ed4c2153bdc4be5102b9ed', 17, 3)\": 0.010884284973144531,\n",
       " \"('rechunk-merge-e4e8e733b3ed4c2153bdc4be5102b9ed', 18, 3)\": 0.008166790008544922,\n",
       " \"('rechunk-merge-e4e8e733b3ed4c2153bdc4be5102b9ed', 19, 3)\": 0.0059545040130615234,\n",
       " \"('rechunk-split-rechunk-merge-e4e8e733b3ed4c2153bdc4be5102b9ed', 0, 4)\": 0.9338014125823975,\n",
       " \"('rechunk-split-rechunk-merge-f1b05b460723986f1f2235dbdc8ab2aa', 0, 4)\": 0.8734776973724365,\n",
       " \"('rechunk-split-rechunk-merge-e4e8e733b3ed4c2153bdc4be5102b9ed', 1, 4)\": 0.9358134269714355,\n",
       " \"('rechunk-split-rechunk-merge-f1b05b460723986f1f2235dbdc8ab2aa', 1, 4)\": 0.8805503845214844,\n",
       " \"('rechunk-merge-e4e8e733b3ed4c2153bdc4be5102b9ed', 0, 4)\": 0.009434223175048828,\n",
       " \"('random_sample-cca9b0c446ac705ed0cb78a3927d2528', 3, 3)\": 1.059124231338501,\n",
       " \"('rechunk-merge-f1b05b460723986f1f2235dbdc8ab2aa', 0, 4)\": 0.007387638092041016,\n",
       " \"('rechunk-split-rechunk-merge-f1b05b460723986f1f2235dbdc8ab2aa', 2, 4)\": 0.8828847408294678,\n",
       " \"('rechunk-split-rechunk-merge-e4e8e733b3ed4c2153bdc4be5102b9ed', 2, 4)\": 0.919001579284668,\n",
       " \"('rechunk-split-rechunk-merge-e4e8e733b3ed4c2153bdc4be5102b9ed', 3, 4)\": 0.8910574913024902,\n",
       " \"('rechunk-split-rechunk-merge-f1b05b460723986f1f2235dbdc8ab2aa', 16, 3)\": 0.005481719970703125,\n",
       " \"('rechunk-split-rechunk-merge-f1b05b460723986f1f2235dbdc8ab2aa', 17, 3)\": 0.0075528621673583984,\n",
       " \"('rechunk-split-rechunk-merge-f1b05b460723986f1f2235dbdc8ab2aa', 15, 3)\": 0.007698535919189453,\n",
       " \"('rechunk-split-rechunk-merge-f1b05b460723986f1f2235dbdc8ab2aa', 19, 3)\": 0.009804010391235352,\n",
       " \"('rechunk-merge-f1b05b460723986f1f2235dbdc8ab2aa', 16, 3)\": 0.004461765289306641,\n",
       " \"('rechunk-split-rechunk-merge-f1b05b460723986f1f2235dbdc8ab2aa', 18, 3)\": 0.010002613067626953,\n",
       " \"('rechunk-merge-e4e8e733b3ed4c2153bdc4be5102b9ed', 1, 4)\": 0.01475834846496582,\n",
       " \"('rechunk-merge-f1b05b460723986f1f2235dbdc8ab2aa', 1, 4)\": 0.010320663452148438,\n",
       " \"('rechunk-merge-e4e8e733b3ed4c2153bdc4be5102b9ed', 2, 4)\": 0.004857778549194336,\n",
       " \"('rechunk-merge-f1b05b460723986f1f2235dbdc8ab2aa', 2, 4)\": 0.008071660995483398,\n",
       " \"('rechunk-merge-e4e8e733b3ed4c2153bdc4be5102b9ed', 3, 4)\": 0.004879951477050781,\n",
       " \"('mean_chunk-078b0173a40d10940d1573b80dc375ec', 0, 4)\": 0.012209653854370117,\n",
       " \"('rechunk-split-rechunk-merge-f1b05b460723986f1f2235dbdc8ab2aa', 3, 4)\": 0.8960862159729004,\n",
       " \"('rechunk-split-rechunk-merge-e4e8e733b3ed4c2153bdc4be5102b9ed', 4, 4)\": 0.8640613555908203,\n",
       " \"('rechunk-merge-f1b05b460723986f1f2235dbdc8ab2aa', 15, 3)\": 0.007848024368286133,\n",
       " \"('rechunk-split-rechunk-merge-f1b05b460723986f1f2235dbdc8ab2aa', 4, 4)\": 0.8977923393249512,\n",
       " \"('rechunk-merge-f1b05b460723986f1f2235dbdc8ab2aa', 17, 3)\": 0.009549140930175781,\n",
       " \"('rechunk-merge-f1b05b460723986f1f2235dbdc8ab2aa', 18, 3)\": 0.00988149642944336,\n",
       " \"('mean_chunk-078b0173a40d10940d1573b80dc375ec', 16, 3)\": 0.010046958923339844,\n",
       " \"('rechunk-merge-f1b05b460723986f1f2235dbdc8ab2aa', 19, 3)\": 0.010195016860961914,\n",
       " \"('mean_chunk-078b0173a40d10940d1573b80dc375ec', 15, 3)\": 0.0064737796783447266,\n",
       " \"('mean_chunk-078b0173a40d10940d1573b80dc375ec', 1, 4)\": 0.011975288391113281,\n",
       " \"('rechunk-merge-f1b05b460723986f1f2235dbdc8ab2aa', 3, 4)\": 0.009523868560791016,\n",
       " \"('rechunk-merge-e4e8e733b3ed4c2153bdc4be5102b9ed', 4, 4)\": 0.009525775909423828,\n",
       " \"('rechunk-split-rechunk-merge-e4e8e733b3ed4c2153bdc4be5102b9ed', 5, 4)\": 0.8732354640960693,\n",
       " \"('mean_combine-partial-ebdb10167ec11d555c6e5ae8a54ad15d', 3, 3)\": 0.0057773590087890625,\n",
       " \"('mean_chunk-078b0173a40d10940d1573b80dc375ec', 2, 4)\": 0.017716169357299805,\n",
       " \"('mean_chunk-078b0173a40d10940d1573b80dc375ec', 17, 3)\": 0.01381373405456543,\n",
       " \"('mean_chunk-078b0173a40d10940d1573b80dc375ec', 18, 3)\": 0.011058807373046875,\n",
       " \"('mean_combine-partial-b4426b8e7ae63bb324794cbaa2924c0c', 0, 3)\": 0.005667686462402344,\n",
       " \"('mean_chunk-078b0173a40d10940d1573b80dc375ec', 19, 3)\": 0.01665639877319336,\n",
       " \"('mean_chunk-078b0173a40d10940d1573b80dc375ec', 3, 4)\": 0.011944293975830078,\n",
       " \"('rechunk-merge-f1b05b460723986f1f2235dbdc8ab2aa', 4, 4)\": 0.019884824752807617,\n",
       " \"('rechunk-merge-e4e8e733b3ed4c2153bdc4be5102b9ed', 5, 4)\": 0.009231328964233398,\n",
       " \"('rechunk-split-rechunk-merge-e4e8e733b3ed4c2153bdc4be5102b9ed', 6, 4)\": 0.8452563285827637,\n",
       " \"('rechunk-split-rechunk-merge-e4e8e733b3ed4c2153bdc4be5102b9ed', 7, 4)\": 0.846961498260498,\n",
       " \"('rechunk-split-rechunk-merge-e4e8e733b3ed4c2153bdc4be5102b9ed', 10, 4)\": 0.8076746463775635,\n",
       " \"('mean_combine-partial-b4426b8e7ae63bb324794cbaa2924c0c', 1, 3)\": 0.007609844207763672,\n",
       " \"('mean_combine-partial-ebdb10167ec11d555c6e5ae8a54ad15d', 0, 4)\": 0.007609128952026367,\n",
       " \"('mean_chunk-078b0173a40d10940d1573b80dc375ec', 4, 4)\": 0.012544393539428711,\n",
       " \"('mean_agg-aggregate-sum-1b7cf9ab16d76b9ce257a7a8fed9256a', 3)\": 0.005113363265991211,\n",
       " \"('rechunk-merge-e4e8e733b3ed4c2153bdc4be5102b9ed', 6, 4)\": 0.010864496231079102,\n",
       " \"('rechunk-merge-e4e8e733b3ed4c2153bdc4be5102b9ed', 7, 4)\": 0.0066051483154296875,\n",
       " \"('rechunk-merge-e4e8e733b3ed4c2153bdc4be5102b9ed', 10, 4)\": 0.005374908447265625,\n",
       " \"('random_sample-cca9b0c446ac705ed0cb78a3927d2528', 1, 4)\": 1.1272978782653809,\n",
       " \"('sum-1b7cf9ab16d76b9ce257a7a8fed9256a', 3)\": 0.021045446395874023,\n",
       " \"('rechunk-split-rechunk-merge-e4e8e733b3ed4c2153bdc4be5102b9ed', 11, 4)\": 0.800706148147583,\n",
       " \"('rechunk-split-rechunk-merge-f1b05b460723986f1f2235dbdc8ab2aa', 5, 4)\": 0.005316257476806641,\n",
       " \"('rechunk-split-rechunk-merge-f1b05b460723986f1f2235dbdc8ab2aa', 6, 4)\": 0.008222341537475586,\n",
       " \"('rechunk-split-rechunk-merge-f1b05b460723986f1f2235dbdc8ab2aa', 7, 4)\": 0.008290529251098633,\n",
       " \"('random_sample-cca9b0c446ac705ed0cb78a3927d2528', 2, 4)\": 1.138216257095337,\n",
       " \"('sum-partial-5cb1e451f47760873852e5fbc9766579', 0)\": 0.008465051651000977,\n",
       " \"('rechunk-split-rechunk-merge-e4e8e733b3ed4c2153bdc4be5102b9ed', 8, 4)\": 0.7808356285095215,\n",
       " \"('rechunk-merge-f1b05b460723986f1f2235dbdc8ab2aa', 5, 4)\": 0.005921602249145508,\n",
       " \"('rechunk-merge-e4e8e733b3ed4c2153bdc4be5102b9ed', 11, 4)\": 0.006072998046875,\n",
       " \"('rechunk-split-rechunk-merge-f1b05b460723986f1f2235dbdc8ab2aa', 8, 4)\": 0.01283717155456543,\n",
       " \"('rechunk-split-rechunk-merge-e4e8e733b3ed4c2153bdc4be5102b9ed', 9, 4)\": 0.7695498466491699,\n",
       " \"('rechunk-split-rechunk-merge-f1b05b460723986f1f2235dbdc8ab2aa', 9, 4)\": 0.012981414794921875,\n",
       " \"('rechunk-merge-f1b05b460723986f1f2235dbdc8ab2aa', 6, 4)\": 0.004838228225708008,\n",
       " \"('rechunk-merge-f1b05b460723986f1f2235dbdc8ab2aa', 7, 4)\": 0.004836559295654297,\n",
       " \"('rechunk-split-rechunk-merge-e4e8e733b3ed4c2153bdc4be5102b9ed', 13, 4)\": 0.729201078414917,\n",
       " \"('rechunk-split-rechunk-merge-e4e8e733b3ed4c2153bdc4be5102b9ed', 12, 4)\": 0.7504842281341553,\n",
       " \"('rechunk-split-rechunk-merge-e4e8e733b3ed4c2153bdc4be5102b9ed', 14, 4)\": 0.7097549438476562,\n",
       " \"('rechunk-split-rechunk-merge-e4e8e733b3ed4c2153bdc4be5102b9ed', 15, 4)\": 0.6894147396087646,\n",
       " \"('mean_chunk-078b0173a40d10940d1573b80dc375ec', 5, 4)\": 0.012326240539550781,\n",
       " \"('mean_chunk-078b0173a40d10940d1573b80dc375ec', 7, 4)\": 0.012907266616821289,\n",
       " \"('mean_chunk-078b0173a40d10940d1573b80dc375ec', 6, 4)\": 0.013036251068115234,\n",
       " \"('rechunk-split-rechunk-merge-f1b05b460723986f1f2235dbdc8ab2aa', 10, 4)\": 0.016974687576293945,\n",
       " \"('rechunk-split-rechunk-merge-f1b05b460723986f1f2235dbdc8ab2aa', 11, 4)\": 0.01703476905822754,\n",
       " \"('rechunk-merge-e4e8e733b3ed4c2153bdc4be5102b9ed', 8, 4)\": 0.016832351684570312,\n",
       " \"('rechunk-merge-f1b05b460723986f1f2235dbdc8ab2aa', 8, 4)\": 0.015151739120483398,\n",
       " \"('rechunk-merge-e4e8e733b3ed4c2153bdc4be5102b9ed', 9, 4)\": 0.01513671875,\n",
       " \"('rechunk-merge-f1b05b460723986f1f2235dbdc8ab2aa', 9, 4)\": 0.015113115310668945,\n",
       " \"('rechunk-merge-e4e8e733b3ed4c2153bdc4be5102b9ed', 12, 4)\": 0.00968027114868164,\n",
       " \"('rechunk-merge-e4e8e733b3ed4c2153bdc4be5102b9ed', 13, 4)\": 0.014605522155761719,\n",
       " \"('rechunk-split-rechunk-merge-f1b05b460723986f1f2235dbdc8ab2aa', 12, 4)\": 0.02145099639892578,\n",
       " \"('rechunk-split-rechunk-merge-f1b05b460723986f1f2235dbdc8ab2aa', 13, 4)\": 0.021511077880859375,\n",
       " \"('rechunk-merge-f1b05b460723986f1f2235dbdc8ab2aa', 10, 4)\": 0.004635334014892578,\n",
       " \"('mean_combine-partial-ebdb10167ec11d555c6e5ae8a54ad15d', 1, 4)\": 0.0064029693603515625,\n",
       " \"('rechunk-merge-f1b05b460723986f1f2235dbdc8ab2aa', 11, 4)\": 0.004694938659667969,\n",
       " \"('mean_chunk-078b0173a40d10940d1573b80dc375ec', 9, 4)\": 0.010175228118896484,\n",
       " \"('mean_chunk-078b0173a40d10940d1573b80dc375ec', 8, 4)\": 0.010339498519897461,\n",
       " \"('mean_chunk-078b0173a40d10940d1573b80dc375ec', 10, 4)\": 0.008562088012695312,\n",
       " \"('mean_chunk-078b0173a40d10940d1573b80dc375ec', 11, 4)\": 0.008488655090332031,\n",
       " \"('rechunk-merge-f1b05b460723986f1f2235dbdc8ab2aa', 12, 4)\": 0.00885319709777832,\n",
       " \"('rechunk-merge-f1b05b460723986f1f2235dbdc8ab2aa', 13, 4)\": 0.008941411972045898,\n",
       " \"('rechunk-merge-e4e8e733b3ed4c2153bdc4be5102b9ed', 14, 4)\": 0.020803451538085938,\n",
       " \"('rechunk-merge-e4e8e733b3ed4c2153bdc4be5102b9ed', 15, 4)\": 0.018028974533081055,\n",
       " \"('rechunk-split-rechunk-merge-f1b05b460723986f1f2235dbdc8ab2aa', 14, 4)\": 0.03272604942321777,\n",
       " \"('rechunk-split-rechunk-merge-e4e8e733b3ed4c2153bdc4be5102b9ed', 16, 4)\": 0.6492481231689453,\n",
       " \"('rechunk-split-rechunk-merge-e4e8e733b3ed4c2153bdc4be5102b9ed', 17, 4)\": 0.6502177715301514,\n",
       " \"('mean_combine-partial-ebdb10167ec11d555c6e5ae8a54ad15d', 2, 4)\": 0.008325815200805664,\n",
       " \"('mean_chunk-078b0173a40d10940d1573b80dc375ec', 12, 4)\": 0.011002302169799805,\n",
       " \"('mean_chunk-078b0173a40d10940d1573b80dc375ec', 13, 4)\": 0.012838602066040039,\n",
       " \"('rechunk-merge-f1b05b460723986f1f2235dbdc8ab2aa', 14, 4)\": 0.010628461837768555,\n",
       " \"('rechunk-merge-e4e8e733b3ed4c2153bdc4be5102b9ed', 16, 4)\": 0.0078887939453125,\n",
       " \"('rechunk-merge-e4e8e733b3ed4c2153bdc4be5102b9ed', 17, 4)\": 0.004966259002685547,\n",
       " \"('rechunk-split-rechunk-merge-e4e8e733b3ed4c2153bdc4be5102b9ed', 18, 4)\": 0.6372802257537842,\n",
       " \"('rechunk-split-rechunk-merge-e4e8e733b3ed4c2153bdc4be5102b9ed', 19, 4)\": 0.6202216148376465,\n",
       " \"('mean_chunk-078b0173a40d10940d1573b80dc375ec', 14, 4)\": 0.009850740432739258,\n",
       " \"('rechunk-merge-e4e8e733b3ed4c2153bdc4be5102b9ed', 18, 4)\": 0.0074558258056640625,\n",
       " \"('rechunk-merge-e4e8e733b3ed4c2153bdc4be5102b9ed', 19, 4)\": 0.004220724105834961,\n",
       " \"('transpose-389276596c5ea10e1e8cb5779dd21ed2', 0, 1)\": 0.9834318161010742,\n",
       " \"('rechunk-split-rechunk-merge-f1b05b460723986f1f2235dbdc8ab2aa', 0, 5)\": 0.9876494407653809,\n",
       " \"('transpose-389276596c5ea10e1e8cb5779dd21ed2', 1, 1)\": 0.5774998664855957,\n",
       " \"('rechunk-split-rechunk-merge-f1b05b460723986f1f2235dbdc8ab2aa', 1, 5)\": 0.9878883361816406,\n",
       " \"('transpose-389276596c5ea10e1e8cb5779dd21ed2', 2, 1)\": 0.3768281936645508,\n",
       " \"('rechunk-split-rechunk-merge-f1b05b460723986f1f2235dbdc8ab2aa', 2, 5)\": 0.9901919364929199,\n",
       " \"('random_sample-cca9b0c446ac705ed0cb78a3927d2528', 3, 4)\": 1.2004692554473877,\n",
       " \"('transpose-389276596c5ea10e1e8cb5779dd21ed2', 3, 1)\": 0.2317049503326416,\n",
       " \"('rechunk-split-rechunk-merge-e4e8e733b3ed4c2153bdc4be5102b9ed', 0, 5)\": 0.00996541976928711,\n",
       " \"('transpose-389276596c5ea10e1e8cb5779dd21ed2', 4, 1)\": 0.07649517059326172,\n",
       " \"('rechunk-split-rechunk-merge-f1b05b460723986f1f2235dbdc8ab2aa', 4, 5)\": 0.9971804618835449,\n",
       " \"('rechunk-split-rechunk-merge-f1b05b460723986f1f2235dbdc8ab2aa', 3, 5)\": 0.9972844123840332,\n",
       " \"('rechunk-split-rechunk-merge-f1b05b460723986f1f2235dbdc8ab2aa', 15, 4)\": 0.0051190853118896484,\n",
       " \"('rechunk-split-rechunk-merge-f1b05b460723986f1f2235dbdc8ab2aa', 17, 4)\": 0.007009744644165039,\n",
       " \"('rechunk-split-rechunk-merge-f1b05b460723986f1f2235dbdc8ab2aa', 16, 4)\": 0.0071086883544921875,\n",
       " \"('rechunk-split-rechunk-merge-f1b05b460723986f1f2235dbdc8ab2aa', 18, 4)\": 0.007125139236450195,\n",
       " \"('rechunk-merge-f1b05b460723986f1f2235dbdc8ab2aa', 0, 5)\": 0.014138460159301758,\n",
       " \"('rechunk-split-rechunk-merge-f1b05b460723986f1f2235dbdc8ab2aa', 19, 4)\": 0.012095451354980469,\n",
       " \"('rechunk-split-rechunk-merge-e4e8e733b3ed4c2153bdc4be5102b9ed', 1, 5)\": 0.016798019409179688,\n",
       " \"('rechunk-merge-f1b05b460723986f1f2235dbdc8ab2aa', 15, 4)\": 0.007189750671386719,\n",
       " \"('rechunk-merge-e4e8e733b3ed4c2153bdc4be5102b9ed', 0, 5)\": 0.009061098098754883,\n",
       " \"('rechunk-merge-f1b05b460723986f1f2235dbdc8ab2aa', 1, 5)\": 0.016840696334838867,\n",
       " \"('rechunk-merge-f1b05b460723986f1f2235dbdc8ab2aa', 2, 5)\": 0.014553308486938477,\n",
       " \"('rechunk-split-rechunk-merge-e4e8e733b3ed4c2153bdc4be5102b9ed', 2, 5)\": 0.018491268157958984,\n",
       " \"('rechunk-split-rechunk-merge-e4e8e733b3ed4c2153bdc4be5102b9ed', 3, 5)\": 0.01614069938659668,\n",
       " \"('rechunk-merge-f1b05b460723986f1f2235dbdc8ab2aa', 16, 4)\": 0.009248018264770508,\n",
       " \"('rechunk-merge-f1b05b460723986f1f2235dbdc8ab2aa', 17, 4)\": 0.012391090393066406,\n",
       " \"('rechunk-merge-f1b05b460723986f1f2235dbdc8ab2aa', 18, 4)\": 0.012369394302368164,\n",
       " \"('rechunk-merge-f1b05b460723986f1f2235dbdc8ab2aa', 3, 5)\": 0.014577627182006836,\n",
       " \"('rechunk-merge-f1b05b460723986f1f2235dbdc8ab2aa', 4, 5)\": 0.01469731330871582,\n",
       " \"('rechunk-split-rechunk-merge-e4e8e733b3ed4c2153bdc4be5102b9ed', 4, 5)\": 0.01849365234375,\n",
       " \"('mean_chunk-078b0173a40d10940d1573b80dc375ec', 15, 4)\": 0.015174388885498047,\n",
       " \"('mean_chunk-078b0173a40d10940d1573b80dc375ec', 16, 4)\": 0.013601064682006836,\n",
       " \"('mean_chunk-078b0173a40d10940d1573b80dc375ec', 17, 4)\": 0.012968063354492188,\n",
       " \"('mean_combine-partial-ebdb10167ec11d555c6e5ae8a54ad15d', 3, 4)\": 0.004967451095581055,\n",
       " \"('mean_chunk-078b0173a40d10940d1573b80dc375ec', 18, 4)\": 0.014997005462646484,\n",
       " \"('rechunk-merge-f1b05b460723986f1f2235dbdc8ab2aa', 19, 4)\": 0.022457599639892578,\n",
       " \"('mean_chunk-078b0173a40d10940d1573b80dc375ec', 0, 5)\": 0.027914762496948242,\n",
       " \"('mean_combine-partial-b4426b8e7ae63bb324794cbaa2924c0c', 0, 4)\": 0.007765054702758789,\n",
       " \"('mean_chunk-078b0173a40d10940d1573b80dc375ec', 19, 4)\": 0.007852792739868164,\n",
       " \"('rechunk-merge-e4e8e733b3ed4c2153bdc4be5102b9ed', 1, 5)\": 0.030399084091186523,\n",
       " \"('rechunk-merge-e4e8e733b3ed4c2153bdc4be5102b9ed', 2, 5)\": 0.026475906372070312,\n",
       " \"('rechunk-merge-e4e8e733b3ed4c2153bdc4be5102b9ed', 3, 5)\": 0.028907299041748047,\n",
       " \"('rechunk-merge-e4e8e733b3ed4c2153bdc4be5102b9ed', 4, 5)\": 0.0234220027923584,\n",
       " \"('random_sample-cca9b0c446ac705ed0cb78a3927d2528', 1, 5)\": 1.251068353652954,\n",
       " \"('mean_combine-partial-b4426b8e7ae63bb324794cbaa2924c0c', 1, 4)\": 0.01080632209777832,\n",
       " \"('mean_chunk-078b0173a40d10940d1573b80dc375ec', 1, 5)\": 0.012672662734985352,\n",
       " \"('mean_chunk-078b0173a40d10940d1573b80dc375ec', 2, 5)\": 0.015267372131347656,\n",
       " \"('mean_chunk-078b0173a40d10940d1573b80dc375ec', 3, 5)\": 0.01537013053894043,\n",
       " \"('mean_agg-aggregate-sum-1b7cf9ab16d76b9ce257a7a8fed9256a', 4)\": 0.009729385375976562,\n",
       " \"('mean_chunk-078b0173a40d10940d1573b80dc375ec', 4, 5)\": 0.020058631896972656,\n",
       " \"('transpose-389276596c5ea10e1e8cb5779dd21ed2', 5, 1)\": 0.014946460723876953,\n",
       " \"('rechunk-split-rechunk-merge-f1b05b460723986f1f2235dbdc8ab2aa', 5, 5)\": 0.019081830978393555,\n",
       " \"('mean_combine-partial-ebdb10167ec11d555c6e5ae8a54ad15d', 0, 5)\": 0.009022951126098633,\n",
       " \"('rechunk-split-rechunk-merge-f1b05b460723986f1f2235dbdc8ab2aa', 6, 5)\": 0.01920342445373535,\n",
       " \"('random_sample-cca9b0c446ac705ed0cb78a3927d2528', 1, 6)\": 1.2767653465270996,\n",
       " \"('sum-1b7cf9ab16d76b9ce257a7a8fed9256a', 4)\": 0.015651464462280273,\n",
       " \"('rechunk-split-rechunk-merge-e4e8e733b3ed4c2153bdc4be5102b9ed', 5, 5)\": 0.01572394371032715,\n",
       " \"('rechunk-merge-f1b05b460723986f1f2235dbdc8ab2aa', 5, 5)\": 0.011645317077636719,\n",
       " \"('transpose-389276596c5ea10e1e8cb5779dd21ed2', 6, 1)\": 0.005120277404785156,\n",
       " \"('rechunk-merge-f1b05b460723986f1f2235dbdc8ab2aa', 6, 5)\": 0.011720418930053711,\n",
       " \"('rechunk-split-rechunk-merge-f1b05b460723986f1f2235dbdc8ab2aa', 7, 5)\": 0.03255319595336914,\n",
       " \"('random_sample-cca9b0c446ac705ed0cb78a3927d2528', 1, 7)\": 1.3010168075561523,\n",
       " \"('rechunk-merge-e4e8e733b3ed4c2153bdc4be5102b9ed', 5, 5)\": 0.020863771438598633,\n",
       " \"('rechunk-split-rechunk-merge-e4e8e733b3ed4c2153bdc4be5102b9ed', 6, 5)\": 0.023192405700683594,\n",
       " \"('transpose-389276596c5ea10e1e8cb5779dd21ed2', 7, 1)\": 0.004153728485107422,\n",
       " \"('rechunk-merge-f1b05b460723986f1f2235dbdc8ab2aa', 7, 5)\": 0.02164912223815918,\n",
       " \"('random_sample-cca9b0c446ac705ed0cb78a3927d2528', 1, 10)\": 1.3104066848754883,\n",
       " \"('mean_chunk-078b0173a40d10940d1573b80dc375ec', 5, 5)\": 0.01169586181640625,\n",
       " \"('rechunk-merge-e4e8e733b3ed4c2153bdc4be5102b9ed', 6, 5)\": 0.011960744857788086,\n",
       " \"('rechunk-split-rechunk-merge-e4e8e733b3ed4c2153bdc4be5102b9ed', 7, 5)\": 0.014396429061889648,\n",
       " \"('transpose-389276596c5ea10e1e8cb5779dd21ed2', 10, 1)\": 0.009255170822143555,\n",
       " \"('random_sample-cca9b0c446ac705ed0cb78a3927d2528', 2, 5)\": 1.339735746383667,\n",
       " \"('mean_chunk-078b0173a40d10940d1573b80dc375ec', 6, 5)\": 0.025596141815185547,\n",
       " \"('rechunk-merge-e4e8e733b3ed4c2153bdc4be5102b9ed', 7, 5)\": 0.02578592300415039,\n",
       " \"('rechunk-split-rechunk-merge-e4e8e733b3ed4c2153bdc4be5102b9ed', 10, 5)\": 0.028746604919433594,\n",
       " \"('rechunk-split-rechunk-merge-f1b05b460723986f1f2235dbdc8ab2aa', 10, 5)\": 0.00876927375793457,\n",
       " \"('mean_chunk-078b0173a40d10940d1573b80dc375ec', 7, 5)\": 0.005869865417480469,\n",
       " \"('rechunk-split-rechunk-merge-f1b05b460723986f1f2235dbdc8ab2aa', 11, 5)\": 0.014173507690429688,\n",
       " \"('random_sample-cca9b0c446ac705ed0cb78a3927d2528', 1, 11)\": 1.3540499210357666,\n",
       " \"('rechunk-merge-e4e8e733b3ed4c2153bdc4be5102b9ed', 10, 5)\": 0.0057528018951416016,\n",
       " \"('rechunk-merge-f1b05b460723986f1f2235dbdc8ab2aa', 10, 5)\": 0.00571751594543457,\n",
       " \"('rechunk-split-rechunk-merge-f1b05b460723986f1f2235dbdc8ab2aa', 8, 5)\": 0.1051476001739502,\n",
       " \"('random_sample-cca9b0c446ac705ed0cb78a3927d2528', 1, 8)\": 1.3875975608825684,\n",
       " \"('mean_combine-partial-ebdb10167ec11d555c6e5ae8a54ad15d', 1, 5)\": 0.03827071189880371,\n",
       " \"('random_sample-cca9b0c446ac705ed0cb78a3927d2528', 1, 9)\": 1.3896892070770264,\n",
       " \"('transpose-389276596c5ea10e1e8cb5779dd21ed2', 11, 1)\": 0.03793597221374512,\n",
       " \"('rechunk-merge-f1b05b460723986f1f2235dbdc8ab2aa', 11, 5)\": 0.03821086883544922,\n",
       " \"('transpose-389276596c5ea10e1e8cb5779dd21ed2', 8, 1)\": 0.004592180252075195,\n",
       " \"('rechunk-merge-f1b05b460723986f1f2235dbdc8ab2aa', 8, 5)\": 0.03615522384643555,\n",
       " \"('mean_chunk-078b0173a40d10940d1573b80dc375ec', 10, 5)\": 0.03815031051635742,\n",
       " \"('rechunk-split-rechunk-merge-f1b05b460723986f1f2235dbdc8ab2aa', 9, 5)\": 0.14448070526123047,\n",
       " \"('rechunk-split-rechunk-merge-f1b05b460723986f1f2235dbdc8ab2aa', 12, 5)\": 0.055869340896606445,\n",
       " \"('random_sample-cca9b0c446ac705ed0cb78a3927d2528', 1, 12)\": 1.4264864921569824,\n",
       " \"('random_sample-cca9b0c446ac705ed0cb78a3927d2528', 1, 13)\": 1.4295692443847656,\n",
       " \"('rechunk-split-rechunk-merge-e4e8e733b3ed4c2153bdc4be5102b9ed', 11, 5)\": 0.0378267765045166,\n",
       " \"('transpose-389276596c5ea10e1e8cb5779dd21ed2', 9, 1)\": 0.04193472862243652,\n",
       " \"('rechunk-merge-f1b05b460723986f1f2235dbdc8ab2aa', 9, 5)\": 0.03627204895019531,\n",
       " \"('transpose-389276596c5ea10e1e8cb5779dd21ed2', 12, 1)\": 0.00534367561340332,\n",
       " \"('rechunk-merge-f1b05b460723986f1f2235dbdc8ab2aa', 12, 5)\": 0.03641486167907715,\n",
       " \"('rechunk-split-rechunk-merge-e4e8e733b3ed4c2153bdc4be5102b9ed', 8, 5)\": 0.04175925254821777,\n",
       " \"('rechunk-split-rechunk-merge-f1b05b460723986f1f2235dbdc8ab2aa', 13, 5)\": 0.09430956840515137,\n",
       " \"('rechunk-split-rechunk-merge-f1b05b460723986f1f2235dbdc8ab2aa', 14, 5)\": 0.09713935852050781,\n",
       " \"('rechunk-merge-e4e8e733b3ed4c2153bdc4be5102b9ed', 11, 5)\": 0.007143497467041016,\n",
       " \"('rechunk-split-rechunk-merge-e4e8e733b3ed4c2153bdc4be5102b9ed', 9, 5)\": 0.007783174514770508,\n",
       " \"('rechunk-split-rechunk-merge-e4e8e733b3ed4c2153bdc4be5102b9ed', 12, 5)\": 0.010456562042236328,\n",
       " \"('mean_chunk-078b0173a40d10940d1573b80dc375ec', 11, 5)\": 0.007901430130004883,\n",
       " \"('rechunk-merge-e4e8e733b3ed4c2153bdc4be5102b9ed', 8, 5)\": 0.010978460311889648,\n",
       " \"('transpose-389276596c5ea10e1e8cb5779dd21ed2', 13, 1)\": 0.015455245971679688,\n",
       " \"('rechunk-merge-f1b05b460723986f1f2235dbdc8ab2aa', 13, 5)\": 0.011173009872436523,\n",
       " \"('rechunk-merge-f1b05b460723986f1f2235dbdc8ab2aa', 14, 5)\": 0.010569334030151367,\n",
       " \"('rechunk-merge-e4e8e733b3ed4c2153bdc4be5102b9ed', 9, 5)\": 0.008063554763793945,\n",
       " \"('rechunk-merge-e4e8e733b3ed4c2153bdc4be5102b9ed', 12, 5)\": 0.005254268646240234,\n",
       " \"('random_sample-cca9b0c446ac705ed0cb78a3927d2528', 1, 14)\": 1.466902732849121,\n",
       " \"('mean_chunk-078b0173a40d10940d1573b80dc375ec', 8, 5)\": 0.02590203285217285,\n",
       " \"('mean_chunk-078b0173a40d10940d1573b80dc375ec', 9, 5)\": 0.02654290199279785,\n",
       " \"('mean_chunk-078b0173a40d10940d1573b80dc375ec', 12, 5)\": 0.03139233589172363,\n",
       " \"('rechunk-split-rechunk-merge-e4e8e733b3ed4c2153bdc4be5102b9ed', 13, 5)\": 0.0366816520690918,\n",
       " \"('transpose-389276596c5ea10e1e8cb5779dd21ed2', 14, 1)\": 0.014909505844116211,\n",
       " \"('mean_combine-partial-ebdb10167ec11d555c6e5ae8a54ad15d', 2, 5)\": 0.00782918930053711,\n",
       " \"('random_sample-cca9b0c446ac705ed0cb78a3927d2528', 1, 15)\": 1.4841532707214355,\n",
       " \"('random_sample-cca9b0c446ac705ed0cb78a3927d2528', 3, 5)\": 1.5157949924468994,\n",
       " \"('rechunk-merge-e4e8e733b3ed4c2153bdc4be5102b9ed', 13, 5)\": 0.03612637519836426,\n",
       " \"('random_sample-cca9b0c446ac705ed0cb78a3927d2528', 1, 16)\": 1.520298719406128,\n",
       " \"('transpose-389276596c5ea10e1e8cb5779dd21ed2', 15, 1)\": 0.036366939544677734,\n",
       " \"('rechunk-split-rechunk-merge-e4e8e733b3ed4c2153bdc4be5102b9ed', 14, 5)\": 0.038863182067871094,\n",
       " \"('rechunk-split-rechunk-merge-f1b05b460723986f1f2235dbdc8ab2aa', 15, 5)\": 0.007613420486450195,\n",
       " \"('rechunk-split-rechunk-merge-f1b05b460723986f1f2235dbdc8ab2aa', 16, 5)\": 0.00767064094543457,\n",
       " \"('rechunk-split-rechunk-merge-f1b05b460723986f1f2235dbdc8ab2aa', 17, 5)\": 0.0077056884765625,\n",
       " \"('random_sample-cca9b0c446ac705ed0cb78a3927d2528', 1, 17)\": 1.5557656288146973,\n",
       " \"('random_sample-cca9b0c446ac705ed0cb78a3927d2528', 1, 18)\": 1.5578038692474365,\n",
       " \"('rechunk-merge-e4e8e733b3ed4c2153bdc4be5102b9ed', 14, 5)\": 0.037361860275268555,\n",
       " \"('mean_chunk-078b0173a40d10940d1573b80dc375ec', 13, 5)\": 0.04213309288024902,\n",
       " \"('rechunk-merge-f1b05b460723986f1f2235dbdc8ab2aa', 15, 5)\": 0.03663015365600586,\n",
       " \"('transpose-389276596c5ea10e1e8cb5779dd21ed2', 16, 1)\": 0.0398104190826416,\n",
       " \"('rechunk-merge-f1b05b460723986f1f2235dbdc8ab2aa', 16, 5)\": 0.03867316246032715,\n",
       " \"('rechunk-split-rechunk-merge-e4e8e733b3ed4c2153bdc4be5102b9ed', 15, 5)\": 0.04173707962036133,\n",
       " \"('transpose-389276596c5ea10e1e8cb5779dd21ed2', 17, 1)\": 0.006525993347167969,\n",
       " \"('rechunk-merge-f1b05b460723986f1f2235dbdc8ab2aa', 17, 5)\": 0.03892326354980469,\n",
       " \"('rechunk-split-rechunk-merge-f1b05b460723986f1f2235dbdc8ab2aa', 18, 5)\": 0.04667329788208008,\n",
       " \"('rechunk-split-rechunk-merge-f1b05b460723986f1f2235dbdc8ab2aa', 19, 5)\": 0.05100846290588379,\n",
       " \"('mean_chunk-078b0173a40d10940d1573b80dc375ec', 14, 5)\": 0.01106572151184082,\n",
       " \"('rechunk-merge-e4e8e733b3ed4c2153bdc4be5102b9ed', 15, 5)\": 0.009216070175170898,\n",
       " \"('rechunk-split-rechunk-merge-e4e8e733b3ed4c2153bdc4be5102b9ed', 16, 5)\": 0.013556480407714844,\n",
       " \"('rechunk-split-rechunk-merge-e4e8e733b3ed4c2153bdc4be5102b9ed', 17, 5)\": 0.014493703842163086,\n",
       " \"('mean_chunk-078b0173a40d10940d1573b80dc375ec', 15, 5)\": 0.007872343063354492,\n",
       " \"('transpose-389276596c5ea10e1e8cb5779dd21ed2', 18, 1)\": 0.02168416976928711,\n",
       " \"('rechunk-merge-f1b05b460723986f1f2235dbdc8ab2aa', 18, 5)\": 0.017165660858154297,\n",
       " \"('rechunk-merge-f1b05b460723986f1f2235dbdc8ab2aa', 19, 5)\": 0.014635324478149414,\n",
       " \"('rechunk-merge-e4e8e733b3ed4c2153bdc4be5102b9ed', 16, 5)\": 0.007868289947509766,\n",
       " \"('rechunk-merge-e4e8e733b3ed4c2153bdc4be5102b9ed', 17, 5)\": 0.004823923110961914,\n",
       " \"('rechunk-split-rechunk-merge-e4e8e733b3ed4c2153bdc4be5102b9ed', 0, 6)\": 0.3901965618133545,\n",
       " \"('rechunk-split-rechunk-merge-f1b05b460723986f1f2235dbdc8ab2aa', 0, 6)\": 1.3401057720184326,\n",
       " \"('rechunk-split-rechunk-merge-e4e8e733b3ed4c2153bdc4be5102b9ed', 1, 6)\": 0.39347362518310547,\n",
       " \"('mean_combine-partial-ebdb10167ec11d555c6e5ae8a54ad15d', 3, 5)\": 0.009667634963989258,\n",
       " \"('mean_chunk-078b0173a40d10940d1573b80dc375ec', 16, 5)\": 0.009522438049316406,\n",
       " \"('mean_combine-partial-b4426b8e7ae63bb324794cbaa2924c0c', 0, 5)\": 0.004614114761352539,\n",
       " \"('mean_chunk-078b0173a40d10940d1573b80dc375ec', 17, 5)\": 0.014628171920776367,\n",
       " \"('rechunk-split-rechunk-merge-e4e8e733b3ed4c2153bdc4be5102b9ed', 18, 5)\": 0.019742727279663086,\n",
       " \"('random_sample-cca9b0c446ac705ed0cb78a3927d2528', 1, 19)\": 1.5993835926055908,\n",
       " \"('rechunk-merge-e4e8e733b3ed4c2153bdc4be5102b9ed', 0, 6)\": 0.015903711318969727,\n",
       " \"('rechunk-merge-f1b05b460723986f1f2235dbdc8ab2aa', 0, 6)\": 0.01588273048400879,\n",
       " \"('rechunk-merge-e4e8e733b3ed4c2153bdc4be5102b9ed', 1, 6)\": 0.010610103607177734,\n",
       " \"('rechunk-split-rechunk-merge-f1b05b460723986f1f2235dbdc8ab2aa', 1, 6)\": 1.3588309288024902,\n",
       " \"('rechunk-split-rechunk-merge-f1b05b460723986f1f2235dbdc8ab2aa', 2, 6)\": 1.3588953018188477,\n",
       " \"('rechunk-split-rechunk-merge-e4e8e733b3ed4c2153bdc4be5102b9ed', 2, 6)\": 0.40474462509155273,\n",
       " \"('rechunk-split-rechunk-merge-e4e8e733b3ed4c2153bdc4be5102b9ed', 3, 6)\": 0.40429139137268066,\n",
       " \"('rechunk-merge-e4e8e733b3ed4c2153bdc4be5102b9ed', 18, 5)\": 0.005349397659301758,\n",
       " \"('transpose-389276596c5ea10e1e8cb5779dd21ed2', 19, 1)\": 0.005354404449462891,\n",
       " \"('rechunk-split-rechunk-merge-f1b05b460723986f1f2235dbdc8ab2aa', 3, 6)\": 1.3629403114318848,\n",
       " \"('mean_chunk-078b0173a40d10940d1573b80dc375ec', 0, 6)\": 0.009611368179321289,\n",
       " \"('rechunk-split-rechunk-merge-e4e8e733b3ed4c2153bdc4be5102b9ed', 4, 6)\": 0.4058229923248291,\n",
       " \"('rechunk-split-rechunk-merge-f1b05b460723986f1f2235dbdc8ab2aa', 4, 6)\": 1.3657331466674805,\n",
       " \"('mean_chunk-078b0173a40d10940d1573b80dc375ec', 18, 5)\": 0.006964683532714844,\n",
       " \"('rechunk-split-rechunk-merge-e4e8e733b3ed4c2153bdc4be5102b9ed', 5, 6)\": 0.3479647636413574,\n",
       " \"('rechunk-merge-f1b05b460723986f1f2235dbdc8ab2aa', 1, 6)\": 0.011249303817749023,\n",
       " \"('rechunk-merge-e4e8e733b3ed4c2153bdc4be5102b9ed', 2, 6)\": 0.011190652847290039,\n",
       " \"('rechunk-merge-f1b05b460723986f1f2235dbdc8ab2aa', 2, 6)\": 0.011297464370727539,\n",
       " \"('rechunk-merge-e4e8e733b3ed4c2153bdc4be5102b9ed', 3, 6)\": 0.01139688491821289,\n",
       " \"('rechunk-split-rechunk-merge-e4e8e733b3ed4c2153bdc4be5102b9ed', 19, 5)\": 0.01128697395324707,\n",
       " \"('rechunk-merge-f1b05b460723986f1f2235dbdc8ab2aa', 3, 6)\": 0.009517908096313477,\n",
       " \"('rechunk-merge-e4e8e733b3ed4c2153bdc4be5102b9ed', 4, 6)\": 0.00686192512512207,\n",
       " \"('rechunk-merge-f1b05b460723986f1f2235dbdc8ab2aa', 4, 6)\": 0.006822109222412109,\n",
       " \"('rechunk-split-rechunk-merge-f1b05b460723986f1f2235dbdc8ab2aa', 5, 6)\": 0.3427770137786865,\n",
       " \"('rechunk-split-rechunk-merge-f1b05b460723986f1f2235dbdc8ab2aa', 6, 6)\": 0.34283971786499023,\n",
       " \"('rechunk-split-rechunk-merge-e4e8e733b3ed4c2153bdc4be5102b9ed', 6, 6)\": 0.33777403831481934,\n",
       " \"('rechunk-split-rechunk-merge-f1b05b460723986f1f2235dbdc8ab2aa', 7, 6)\": 0.34522390365600586,\n",
       " \"('rechunk-split-rechunk-merge-e4e8e733b3ed4c2153bdc4be5102b9ed', 7, 6)\": 0.3168964385986328,\n",
       " \"('rechunk-merge-e4e8e733b3ed4c2153bdc4be5102b9ed', 19, 5)\": 0.0057370662689208984,\n",
       " \"('mean_chunk-078b0173a40d10940d1573b80dc375ec', 1, 6)\": 0.010638236999511719,\n",
       " \"('mean_chunk-078b0173a40d10940d1573b80dc375ec', 2, 6)\": 0.012610912322998047,\n",
       " \"('mean_chunk-078b0173a40d10940d1573b80dc375ec', 3, 6)\": 0.012288808822631836,\n",
       " \"('mean_chunk-078b0173a40d10940d1573b80dc375ec', 4, 6)\": 0.012293338775634766,\n",
       " \"('rechunk-merge-e4e8e733b3ed4c2153bdc4be5102b9ed', 5, 6)\": 0.014947175979614258,\n",
       " \"('rechunk-merge-f1b05b460723986f1f2235dbdc8ab2aa', 5, 6)\": 0.009439468383789062,\n",
       " \"('rechunk-merge-e4e8e733b3ed4c2153bdc4be5102b9ed', 6, 6)\": 0.011624813079833984,\n",
       " \"('rechunk-merge-f1b05b460723986f1f2235dbdc8ab2aa', 6, 6)\": 0.011739492416381836,\n",
       " \"('rechunk-merge-e4e8e733b3ed4c2153bdc4be5102b9ed', 7, 6)\": 0.00933980941772461,\n",
       " \"('mean_chunk-078b0173a40d10940d1573b80dc375ec', 19, 5)\": 0.009301424026489258,\n",
       " \"('rechunk-merge-f1b05b460723986f1f2235dbdc8ab2aa', 7, 6)\": 0.009556055068969727,\n",
       " \"('mean_combine-partial-ebdb10167ec11d555c6e5ae8a54ad15d', 0, 6)\": 0.004702568054199219,\n",
       " \"('rechunk-split-rechunk-merge-e4e8e733b3ed4c2153bdc4be5102b9ed', 10, 6)\": 0.31392812728881836,\n",
       " \"('mean_chunk-078b0173a40d10940d1573b80dc375ec', 5, 6)\": 0.007574796676635742,\n",
       " \"('rechunk-split-rechunk-merge-e4e8e733b3ed4c2153bdc4be5102b9ed', 11, 6)\": 0.2474513053894043,\n",
       " \"('mean_combine-partial-b4426b8e7ae63bb324794cbaa2924c0c', 1, 5)\": 0.008087158203125,\n",
       " \"('mean_chunk-078b0173a40d10940d1573b80dc375ec', 6, 6)\": 0.011852025985717773,\n",
       " \"('mean_chunk-078b0173a40d10940d1573b80dc375ec', 7, 6)\": 0.014531612396240234,\n",
       " \"('mean_agg-aggregate-sum-1b7cf9ab16d76b9ce257a7a8fed9256a', 5)\": 0.006588935852050781,\n",
       " \"('rechunk-merge-e4e8e733b3ed4c2153bdc4be5102b9ed', 10, 6)\": 0.012689352035522461,\n",
       " \"('rechunk-merge-e4e8e733b3ed4c2153bdc4be5102b9ed', 11, 6)\": 0.006814479827880859,\n",
       " \"('rechunk-split-rechunk-merge-e4e8e733b3ed4c2153bdc4be5102b9ed', 8, 6)\": 0.25626468658447266,\n",
       " \"('sum-1b7cf9ab16d76b9ce257a7a8fed9256a', 5)\": 0.004361629486083984,\n",
       " \"('mean_combine-partial-ebdb10167ec11d555c6e5ae8a54ad15d', 1, 6)\": 0.004506349563598633,\n",
       " \"('rechunk-split-rechunk-merge-f1b05b460723986f1f2235dbdc8ab2aa', 8, 6)\": 0.37647366523742676,\n",
       " \"('rechunk-split-rechunk-merge-e4e8e733b3ed4c2153bdc4be5102b9ed', 9, 6)\": 0.22422266006469727,\n",
       " \"('rechunk-merge-e4e8e733b3ed4c2153bdc4be5102b9ed', 8, 6)\": 0.0074727535247802734,\n",
       " \"('rechunk-split-rechunk-merge-f1b05b460723986f1f2235dbdc8ab2aa', 9, 6)\": 0.3816244602203369,\n",
       " \"('rechunk-split-rechunk-merge-e4e8e733b3ed4c2153bdc4be5102b9ed', 12, 6)\": 0.23026514053344727,\n",
       " \"('rechunk-merge-f1b05b460723986f1f2235dbdc8ab2aa', 8, 6)\": 0.011246681213378906,\n",
       " \"('rechunk-merge-e4e8e733b3ed4c2153bdc4be5102b9ed', 9, 6)\": 0.008602619171142578,\n",
       " \"('random_sample-cca9b0c446ac705ed0cb78a3927d2528', 2, 6)\": 1.6665539741516113,\n",
       " \"('rechunk-merge-f1b05b460723986f1f2235dbdc8ab2aa', 9, 6)\": 0.008595705032348633,\n",
       " \"('rechunk-merge-e4e8e733b3ed4c2153bdc4be5102b9ed', 12, 6)\": 0.004850625991821289,\n",
       " \"('rechunk-split-rechunk-merge-e4e8e733b3ed4c2153bdc4be5102b9ed', 13, 6)\": 0.22366547584533691,\n",
       " \"('rechunk-split-rechunk-merge-e4e8e733b3ed4c2153bdc4be5102b9ed', 14, 6)\": 0.18693137168884277,\n",
       " \"('rechunk-split-rechunk-merge-e4e8e733b3ed4c2153bdc4be5102b9ed', 15, 6)\": 0.1504964828491211,\n",
       " \"('rechunk-split-rechunk-merge-f1b05b460723986f1f2235dbdc8ab2aa', 10, 6)\": 0.007898569107055664,\n",
       " \"('rechunk-split-rechunk-merge-f1b05b460723986f1f2235dbdc8ab2aa', 11, 6)\": 0.011470556259155273,\n",
       " \"('mean_chunk-078b0173a40d10940d1573b80dc375ec', 8, 6)\": 0.01820206642150879,\n",
       " \"('rechunk-merge-f1b05b460723986f1f2235dbdc8ab2aa', 10, 6)\": 0.010832071304321289,\n",
       " \"('rechunk-merge-f1b05b460723986f1f2235dbdc8ab2aa', 11, 6)\": 0.007337093353271484,\n",
       " \"('mean_chunk-078b0173a40d10940d1573b80dc375ec', 9, 6)\": 0.021483898162841797,\n",
       " \"('rechunk-split-rechunk-merge-f1b05b460723986f1f2235dbdc8ab2aa', 12, 6)\": 0.021712303161621094,\n",
       " \"('rechunk-merge-e4e8e733b3ed4c2153bdc4be5102b9ed', 13, 6)\": 0.019826650619506836,\n",
       " \"('rechunk-split-rechunk-merge-f1b05b460723986f1f2235dbdc8ab2aa', 13, 6)\": 0.024090051651000977,\n",
       " \"('rechunk-merge-e4e8e733b3ed4c2153bdc4be5102b9ed', 14, 6)\": 0.02217245101928711,\n",
       " \"('rechunk-split-rechunk-merge-f1b05b460723986f1f2235dbdc8ab2aa', 14, 6)\": 0.02674412727355957,\n",
       " \"('rechunk-merge-e4e8e733b3ed4c2153bdc4be5102b9ed', 15, 6)\": 0.02254199981689453,\n",
       " \"('rechunk-split-rechunk-merge-e4e8e733b3ed4c2153bdc4be5102b9ed', 16, 6)\": 0.13614249229431152,\n",
       " \"('mean_chunk-078b0173a40d10940d1573b80dc375ec', 10, 6)\": 0.015319108963012695,\n",
       " \"('mean_chunk-078b0173a40d10940d1573b80dc375ec', 11, 6)\": 0.017850875854492188,\n",
       " \"('rechunk-merge-f1b05b460723986f1f2235dbdc8ab2aa', 12, 6)\": 0.015080451965332031,\n",
       " \"('rechunk-merge-f1b05b460723986f1f2235dbdc8ab2aa', 13, 6)\": 0.012759208679199219,\n",
       " \"('random_sample-cca9b0c446ac705ed0cb78a3927d2528', 3, 6)\": 1.7036457061767578,\n",
       " \"('rechunk-merge-f1b05b460723986f1f2235dbdc8ab2aa', 14, 6)\": 0.010349750518798828,\n",
       " \"('rechunk-merge-e4e8e733b3ed4c2153bdc4be5102b9ed', 16, 6)\": 0.007624626159667969,\n",
       " \"('rechunk-split-rechunk-merge-e4e8e733b3ed4c2153bdc4be5102b9ed', 17, 6)\": 0.14313530921936035,\n",
       " \"('rechunk-split-rechunk-merge-e4e8e733b3ed4c2153bdc4be5102b9ed', 18, 6)\": 0.12806296348571777,\n",
       " \"('rechunk-split-rechunk-merge-e4e8e733b3ed4c2153bdc4be5102b9ed', 19, 6)\": 0.10289597511291504,\n",
       " \"('rechunk-split-rechunk-merge-e4e8e733b3ed4c2153bdc4be5102b9ed', 0, 7)\": 0.5163233280181885,\n",
       " \"('rechunk-split-rechunk-merge-f1b05b460723986f1f2235dbdc8ab2aa', 0, 7)\": 1.4641098976135254,\n",
       " \"('rechunk-split-rechunk-merge-e4e8e733b3ed4c2153bdc4be5102b9ed', 1, 7)\": 0.5185205936431885,\n",
       " \"('mean_combine-partial-ebdb10167ec11d555c6e5ae8a54ad15d', 2, 6)\": 0.010708332061767578,\n",
       " \"('rechunk-split-rechunk-merge-f1b05b460723986f1f2235dbdc8ab2aa', 1, 7)\": 1.4684863090515137,\n",
       " \"('mean_chunk-078b0173a40d10940d1573b80dc375ec', 12, 6)\": 0.011899709701538086,\n",
       " \"('mean_chunk-078b0173a40d10940d1573b80dc375ec', 13, 6)\": 0.01339864730834961,\n",
       " \"('rechunk-split-rechunk-merge-f1b05b460723986f1f2235dbdc8ab2aa', 15, 6)\": 0.013384819030761719,\n",
       " \"('mean_chunk-078b0173a40d10940d1573b80dc375ec', 14, 6)\": 0.015351533889770508,\n",
       " \"('rechunk-split-rechunk-merge-f1b05b460723986f1f2235dbdc8ab2aa', 16, 6)\": 0.015581607818603516,\n",
       " \"('rechunk-merge-e4e8e733b3ed4c2153bdc4be5102b9ed', 17, 6)\": 0.013892889022827148,\n",
       " \"('rechunk-merge-e4e8e733b3ed4c2153bdc4be5102b9ed', 18, 6)\": 0.011780738830566406,\n",
       " \"('rechunk-split-rechunk-merge-f1b05b460723986f1f2235dbdc8ab2aa', 17, 6)\": 0.017673015594482422,\n",
       " \"('rechunk-merge-e4e8e733b3ed4c2153bdc4be5102b9ed', 19, 6)\": 0.013776779174804688,\n",
       " \"('rechunk-split-rechunk-merge-f1b05b460723986f1f2235dbdc8ab2aa', 18, 6)\": 0.01776885986328125,\n",
       " \"('rechunk-merge-e4e8e733b3ed4c2153bdc4be5102b9ed', 0, 7)\": 0.011821746826171875,\n",
       " \"('rechunk-merge-f1b05b460723986f1f2235dbdc8ab2aa', 0, 7)\": 0.011788129806518555,\n",
       " \"('rechunk-merge-e4e8e733b3ed4c2153bdc4be5102b9ed', 1, 7)\": 0.00759577751159668,\n",
       " \"('rechunk-merge-f1b05b460723986f1f2235dbdc8ab2aa', 1, 7)\": 0.009424686431884766,\n",
       " \"('rechunk-split-rechunk-merge-f1b05b460723986f1f2235dbdc8ab2aa', 19, 6)\": 0.019989013671875,\n",
       " \"('rechunk-split-rechunk-merge-f1b05b460723986f1f2235dbdc8ab2aa', 2, 7)\": 1.479921579360962,\n",
       " \"('rechunk-merge-f1b05b460723986f1f2235dbdc8ab2aa', 15, 6)\": 0.008652448654174805,\n",
       " \"('rechunk-merge-f1b05b460723986f1f2235dbdc8ab2aa', 16, 6)\": 0.006499290466308594,\n",
       " \"('rechunk-split-rechunk-merge-e4e8e733b3ed4c2153bdc4be5102b9ed', 2, 7)\": 0.528069019317627,\n",
       " \"('rechunk-merge-f1b05b460723986f1f2235dbdc8ab2aa', 17, 6)\": 0.004524946212768555,\n",
       " \"('rechunk-merge-f1b05b460723986f1f2235dbdc8ab2aa', 18, 6)\": 0.0044858455657958984,\n",
       " \"('mean_chunk-078b0173a40d10940d1573b80dc375ec', 0, 7)\": 0.0099639892578125,\n",
       " \"('rechunk-split-rechunk-merge-e4e8e733b3ed4c2153bdc4be5102b9ed', 3, 7)\": 0.5314273834228516,\n",
       " \"('mean_chunk-078b0173a40d10940d1573b80dc375ec', 15, 6)\": 0.008291006088256836,\n",
       " \"('mean_chunk-078b0173a40d10940d1573b80dc375ec', 16, 6)\": 0.008322954177856445,\n",
       " \"('mean_chunk-078b0173a40d10940d1573b80dc375ec', 18, 6)\": 0.01032710075378418,\n",
       " \"('mean_chunk-078b0173a40d10940d1573b80dc375ec', 17, 6)\": 0.010461568832397461,\n",
       " \"('rechunk-merge-f1b05b460723986f1f2235dbdc8ab2aa', 19, 6)\": 0.012724876403808594,\n",
       " \"('rechunk-merge-e4e8e733b3ed4c2153bdc4be5102b9ed', 2, 7)\": 0.010678291320800781,\n",
       " \"('rechunk-merge-f1b05b460723986f1f2235dbdc8ab2aa', 2, 7)\": 0.013010501861572266,\n",
       " \"('rechunk-merge-e4e8e733b3ed4c2153bdc4be5102b9ed', 3, 7)\": 0.0070798397064208984,\n",
       " \"('mean_chunk-078b0173a40d10940d1573b80dc375ec', 1, 7)\": 0.01514124870300293,\n",
       " \"('rechunk-split-rechunk-merge-f1b05b460723986f1f2235dbdc8ab2aa', 3, 7)\": 1.4954195022583008,\n",
       " \"('rechunk-split-rechunk-merge-e4e8e733b3ed4c2153bdc4be5102b9ed', 4, 7)\": 0.5398421287536621,\n",
       " \"('mean_combine-partial-ebdb10167ec11d555c6e5ae8a54ad15d', 3, 6)\": 0.009261369705200195,\n",
       " \"('rechunk-split-rechunk-merge-f1b05b460723986f1f2235dbdc8ab2aa', 4, 7)\": 1.5005147457122803,\n",
       " \"('mean_chunk-078b0173a40d10940d1573b80dc375ec', 19, 6)\": 0.009809017181396484,\n",
       " \"('mean_chunk-078b0173a40d10940d1573b80dc375ec', 2, 7)\": 0.009661197662353516,\n",
       " \"('mean_combine-partial-b4426b8e7ae63bb324794cbaa2924c0c', 0, 6)\": 0.005022287368774414,\n",
       " \"('rechunk-split-rechunk-merge-e4e8e733b3ed4c2153bdc4be5102b9ed', 5, 7)\": 0.4829142093658447,\n",
       " \"('rechunk-merge-f1b05b460723986f1f2235dbdc8ab2aa', 3, 7)\": 0.010856866836547852,\n",
       " \"('rechunk-merge-e4e8e733b3ed4c2153bdc4be5102b9ed', 4, 7)\": 0.008808135986328125,\n",
       " \"('rechunk-split-rechunk-merge-f1b05b460723986f1f2235dbdc8ab2aa', 5, 7)\": 0.45155978202819824,\n",
       " \"('rechunk-split-rechunk-merge-e4e8e733b3ed4c2153bdc4be5102b9ed', 6, 7)\": 0.47270631790161133,\n",
       " \"('rechunk-split-rechunk-merge-f1b05b460723986f1f2235dbdc8ab2aa', 6, 7)\": 0.4536716938018799,\n",
       " \"('rechunk-merge-f1b05b460723986f1f2235dbdc8ab2aa', 4, 7)\": 0.008075237274169922,\n",
       " \"('mean_combine-partial-b4426b8e7ae63bb324794cbaa2924c0c', 1, 6)\": 0.00806117057800293,\n",
       " \"('rechunk-merge-e4e8e733b3ed4c2153bdc4be5102b9ed', 5, 7)\": 0.007779836654663086,\n",
       " \"('rechunk-split-rechunk-merge-f1b05b460723986f1f2235dbdc8ab2aa', 7, 7)\": 0.4557504653930664,\n",
       " \"('rechunk-split-rechunk-merge-e4e8e733b3ed4c2153bdc4be5102b9ed', 7, 7)\": 0.451674222946167,\n",
       " \"('rechunk-split-rechunk-merge-e4e8e733b3ed4c2153bdc4be5102b9ed', 10, 7)\": 0.4415614604949951,\n",
       " \"('mean_agg-aggregate-sum-1b7cf9ab16d76b9ce257a7a8fed9256a', 6)\": 0.006467103958129883,\n",
       " \"('mean_chunk-078b0173a40d10940d1573b80dc375ec', 3, 7)\": 0.011338472366333008,\n",
       " \"('mean_chunk-078b0173a40d10940d1573b80dc375ec', 4, 7)\": 0.011193990707397461,\n",
       " \"('sum-1b7cf9ab16d76b9ce257a7a8fed9256a', 6)\": 0.008428335189819336,\n",
       " \"('rechunk-merge-f1b05b460723986f1f2235dbdc8ab2aa', 5, 7)\": 0.01732039451599121,\n",
       " \"('rechunk-merge-e4e8e733b3ed4c2153bdc4be5102b9ed', 6, 7)\": 0.015351295471191406,\n",
       " \"('rechunk-merge-f1b05b460723986f1f2235dbdc8ab2aa', 6, 7)\": 0.01531362533569336,\n",
       " \"('rechunk-merge-e4e8e733b3ed4c2153bdc4be5102b9ed', 7, 7)\": 0.013202905654907227,\n",
       " \"('rechunk-merge-f1b05b460723986f1f2235dbdc8ab2aa', 7, 7)\": 0.013312578201293945,\n",
       " \"('rechunk-merge-e4e8e733b3ed4c2153bdc4be5102b9ed', 10, 7)\": 0.008888721466064453,\n",
       " \"('rechunk-split-rechunk-merge-e4e8e733b3ed4c2153bdc4be5102b9ed', 11, 7)\": 0.37857985496520996,\n",
       " \"('rechunk-split-rechunk-merge-e4e8e733b3ed4c2153bdc4be5102b9ed', 8, 7)\": 0.3842015266418457,\n",
       " \"('mean_combine-partial-ebdb10167ec11d555c6e5ae8a54ad15d', 0, 7)\": 0.01273036003112793,\n",
       " \"('mean_chunk-078b0173a40d10940d1573b80dc375ec', 5, 7)\": 0.008804082870483398,\n",
       " \"('mean_chunk-078b0173a40d10940d1573b80dc375ec', 6, 7)\": 0.011413097381591797,\n",
       " \"('mean_chunk-078b0173a40d10940d1573b80dc375ec', 7, 7)\": 0.013871431350708008,\n",
       " \"('rechunk-merge-e4e8e733b3ed4c2153bdc4be5102b9ed', 11, 7)\": 0.013434171676635742,\n",
       " \"('rechunk-merge-e4e8e733b3ed4c2153bdc4be5102b9ed', 8, 7)\": 0.009520769119262695,\n",
       " \"('rechunk-split-rechunk-merge-f1b05b460723986f1f2235dbdc8ab2aa', 8, 7)\": 0.48790574073791504,\n",
       " \"('rechunk-split-rechunk-merge-e4e8e733b3ed4c2153bdc4be5102b9ed', 9, 7)\": 0.3590836524963379,\n",
       " \"('random_sample-cca9b0c446ac705ed0cb78a3927d2528', 2, 7)\": 1.790637731552124,\n",
       " \"('mean_combine-partial-ebdb10167ec11d555c6e5ae8a54ad15d', 1, 7)\": 0.007061481475830078,\n",
       " \"('rechunk-split-rechunk-merge-f1b05b460723986f1f2235dbdc8ab2aa', 9, 7)\": 0.4901731014251709,\n",
       " \"('rechunk-split-rechunk-merge-e4e8e733b3ed4c2153bdc4be5102b9ed', 12, 7)\": 0.3621945381164551,\n",
       " \"('rechunk-split-rechunk-merge-e4e8e733b3ed4c2153bdc4be5102b9ed', 13, 7)\": 0.3511970043182373,\n",
       " \"('rechunk-split-rechunk-merge-f1b05b460723986f1f2235dbdc8ab2aa', 10, 7)\": 0.005506038665771484,\n",
       " \"('rechunk-merge-f1b05b460723986f1f2235dbdc8ab2aa', 8, 7)\": 0.007575035095214844,\n",
       " \"('rechunk-split-rechunk-merge-f1b05b460723986f1f2235dbdc8ab2aa', 11, 7)\": 0.0056154727935791016,\n",
       " \"('rechunk-merge-e4e8e733b3ed4c2153bdc4be5102b9ed', 9, 7)\": 0.005791425704956055,\n",
       " \"('rechunk-merge-f1b05b460723986f1f2235dbdc8ab2aa', 9, 7)\": 0.007433176040649414,\n",
       " \"('rechunk-split-rechunk-merge-f1b05b460723986f1f2235dbdc8ab2aa', 12, 7)\": 0.007744789123535156,\n",
       " \"('rechunk-split-rechunk-merge-f1b05b460723986f1f2235dbdc8ab2aa', 13, 7)\": 0.007909536361694336,\n",
       " \"('rechunk-merge-f1b05b460723986f1f2235dbdc8ab2aa', 10, 7)\": 0.004369497299194336,\n",
       " \"('rechunk-merge-f1b05b460723986f1f2235dbdc8ab2aa', 11, 7)\": 0.004335641860961914,\n",
       " \"('rechunk-split-rechunk-merge-e4e8e733b3ed4c2153bdc4be5102b9ed', 14, 7)\": 0.32163071632385254,\n",
       " \"('rechunk-merge-e4e8e733b3ed4c2153bdc4be5102b9ed', 12, 7)\": 0.009511947631835938,\n",
       " \"('rechunk-merge-e4e8e733b3ed4c2153bdc4be5102b9ed', 13, 7)\": 0.007329463958740234,\n",
       " \"('mean_chunk-078b0173a40d10940d1573b80dc375ec', 8, 7)\": 0.00925898551940918,\n",
       " \"('rechunk-split-rechunk-merge-f1b05b460723986f1f2235dbdc8ab2aa', 14, 7)\": 0.017025470733642578,\n",
       " \"('mean_chunk-078b0173a40d10940d1573b80dc375ec', 10, 7)\": 0.0072481632232666016,\n",
       " \"('mean_chunk-078b0173a40d10940d1573b80dc375ec', 9, 7)\": 0.011542320251464844,\n",
       " \"('rechunk-merge-f1b05b460723986f1f2235dbdc8ab2aa', 12, 7)\": 0.014120101928710938,\n",
       " \"('mean_chunk-078b0173a40d10940d1573b80dc375ec', 11, 7)\": 0.012118101119995117,\n",
       " \"('rechunk-merge-f1b05b460723986f1f2235dbdc8ab2aa', 13, 7)\": 0.014232158660888672,\n",
       " \"('rechunk-merge-e4e8e733b3ed4c2153bdc4be5102b9ed', 14, 7)\": 0.009618759155273438,\n",
       " \"('rechunk-merge-f1b05b460723986f1f2235dbdc8ab2aa', 14, 7)\": 0.005192995071411133,\n",
       " \"('rechunk-split-rechunk-merge-e4e8e733b3ed4c2153bdc4be5102b9ed', 15, 7)\": 0.29564571380615234,\n",
       " \"('rechunk-split-rechunk-merge-e4e8e733b3ed4c2153bdc4be5102b9ed', 16, 7)\": 0.2576148509979248,\n",
       " \"('mean_combine-partial-ebdb10167ec11d555c6e5ae8a54ad15d', 2, 7)\": 0.0071353912353515625,\n",
       " \"('mean_chunk-078b0173a40d10940d1573b80dc375ec', 12, 7)\": 0.009563922882080078,\n",
       " \"('mean_chunk-078b0173a40d10940d1573b80dc375ec', 13, 7)\": 0.011890888214111328,\n",
       " \"('mean_chunk-078b0173a40d10940d1573b80dc375ec', 14, 7)\": 0.015018224716186523,\n",
       " \"('rechunk-merge-e4e8e733b3ed4c2153bdc4be5102b9ed', 15, 7)\": 0.012036800384521484,\n",
       " \"('rechunk-merge-e4e8e733b3ed4c2153bdc4be5102b9ed', 16, 7)\": 0.010439872741699219,\n",
       " \"('rechunk-split-rechunk-merge-e4e8e733b3ed4c2153bdc4be5102b9ed', 17, 7)\": 0.2680363655090332,\n",
       " \"('rechunk-split-rechunk-merge-e4e8e733b3ed4c2153bdc4be5102b9ed', 18, 7)\": 0.25551533699035645,\n",
       " \"('rechunk-merge-e4e8e733b3ed4c2153bdc4be5102b9ed', 17, 7)\": 0.0047490596771240234,\n",
       " \"('rechunk-split-rechunk-merge-e4e8e733b3ed4c2153bdc4be5102b9ed', 19, 7)\": 0.23283839225769043,\n",
       " \"('transpose-389276596c5ea10e1e8cb5779dd21ed2', 0, 2)\": 1.5324854850769043,\n",
       " \"('rechunk-split-rechunk-merge-f1b05b460723986f1f2235dbdc8ab2aa', 0, 10)\": 1.5519089698791504,\n",
       " \"('rechunk-merge-e4e8e733b3ed4c2153bdc4be5102b9ed', 18, 7)\": 0.005155324935913086,\n",
       " \"('transpose-389276596c5ea10e1e8cb5779dd21ed2', 1, 2)\": 1.1920759677886963,\n",
       " \"('rechunk-split-rechunk-merge-f1b05b460723986f1f2235dbdc8ab2aa', 1, 10)\": 1.5538060665130615,\n",
       " \"('transpose-389276596c5ea10e1e8cb5779dd21ed2', 2, 2)\": 1.006788730621338,\n",
       " \"('rechunk-split-rechunk-merge-f1b05b460723986f1f2235dbdc8ab2aa', 2, 10)\": 1.554051160812378,\n",
       " \"('transpose-389276596c5ea10e1e8cb5779dd21ed2', 3, 2)\": 0.8525173664093018,\n",
       " \"('random_sample-cca9b0c446ac705ed0cb78a3927d2528', 3, 7)\": 1.8464772701263428,\n",
       " \"('rechunk-split-rechunk-merge-f1b05b460723986f1f2235dbdc8ab2aa', 3, 10)\": 1.5584304332733154,\n",
       " \"('rechunk-merge-e4e8e733b3ed4c2153bdc4be5102b9ed', 19, 7)\": 0.011359691619873047,\n",
       " \"('rechunk-merge-f1b05b460723986f1f2235dbdc8ab2aa', 0, 10)\": 0.008871078491210938,\n",
       " \"('rechunk-split-rechunk-merge-e4e8e733b3ed4c2153bdc4be5102b9ed', 0, 10)\": 0.013198137283325195,\n",
       " \"('rechunk-split-rechunk-merge-f1b05b460723986f1f2235dbdc8ab2aa', 15, 7)\": 0.004483938217163086,\n",
       " \"('rechunk-split-rechunk-merge-e4e8e733b3ed4c2153bdc4be5102b9ed', 1, 10)\": 0.013177633285522461,\n",
       " \"('rechunk-split-rechunk-merge-f1b05b460723986f1f2235dbdc8ab2aa', 16, 7)\": 0.007009267807006836,\n",
       " \"('rechunk-split-rechunk-merge-f1b05b460723986f1f2235dbdc8ab2aa', 18, 7)\": 0.00944209098815918,\n",
       " \"('rechunk-merge-f1b05b460723986f1f2235dbdc8ab2aa', 15, 7)\": 0.005093097686767578,\n",
       " \"('rechunk-split-rechunk-merge-f1b05b460723986f1f2235dbdc8ab2aa', 17, 7)\": 0.009634017944335938,\n",
       " \"('rechunk-merge-e4e8e733b3ed4c2153bdc4be5102b9ed', 0, 10)\": 0.0053136348724365234,\n",
       " \"('rechunk-split-rechunk-merge-f1b05b460723986f1f2235dbdc8ab2aa', 19, 7)\": 0.009720087051391602,\n",
       " \"('rechunk-merge-f1b05b460723986f1f2235dbdc8ab2aa', 1, 10)\": 0.015376567840576172,\n",
       " \"('rechunk-merge-f1b05b460723986f1f2235dbdc8ab2aa', 2, 10)\": 0.015181541442871094,\n",
       " \"('rechunk-split-rechunk-merge-e4e8e733b3ed4c2153bdc4be5102b9ed', 2, 10)\": 0.017963409423828125,\n",
       " \"('rechunk-merge-f1b05b460723986f1f2235dbdc8ab2aa', 3, 10)\": 0.013485908508300781,\n",
       " \"('transpose-389276596c5ea10e1e8cb5779dd21ed2', 4, 2)\": 0.7224767208099365,\n",
       " \"('rechunk-split-rechunk-merge-e4e8e733b3ed4c2153bdc4be5102b9ed', 3, 10)\": 0.0194551944732666,\n",
       " \"('rechunk-merge-f1b05b460723986f1f2235dbdc8ab2aa', 16, 7)\": 0.008343696594238281,\n",
       " \"('rechunk-merge-f1b05b460723986f1f2235dbdc8ab2aa', 17, 7)\": 0.005766868591308594,\n",
       " \"('rechunk-merge-f1b05b460723986f1f2235dbdc8ab2aa', 18, 7)\": 0.005990505218505859,\n",
       " \"('rechunk-merge-f1b05b460723986f1f2235dbdc8ab2aa', 19, 7)\": 0.0074787139892578125,\n",
       " \"('mean_chunk-078b0173a40d10940d1573b80dc375ec', 15, 7)\": 0.007765054702758789,\n",
       " \"('rechunk-merge-e4e8e733b3ed4c2153bdc4be5102b9ed', 1, 10)\": 0.010505914688110352,\n",
       " \"('rechunk-split-rechunk-merge-f1b05b460723986f1f2235dbdc8ab2aa', 4, 10)\": 1.5778188705444336,\n",
       " \"('mean_chunk-078b0173a40d10940d1573b80dc375ec', 0, 10)\": 0.012564659118652344,\n",
       " \"('mean_chunk-078b0173a40d10940d1573b80dc375ec', 16, 7)\": 0.008969783782958984,\n",
       " \"('mean_chunk-078b0173a40d10940d1573b80dc375ec', 17, 7)\": 0.008956432342529297,\n",
       " \"('rechunk-merge-e4e8e733b3ed4c2153bdc4be5102b9ed', 2, 10)\": 0.010897636413574219,\n",
       " \"('mean_combine-partial-ebdb10167ec11d555c6e5ae8a54ad15d', 3, 7)\": 0.009406805038452148,\n",
       " \"('mean_chunk-078b0173a40d10940d1573b80dc375ec', 18, 7)\": 0.011406660079956055,\n",
       " \"('mean_chunk-078b0173a40d10940d1573b80dc375ec', 1, 10)\": 0.014592409133911133,\n",
       " \"('mean_chunk-078b0173a40d10940d1573b80dc375ec', 19, 7)\": 0.014806985855102539,\n",
       " \"('mean_combine-partial-b4426b8e7ae63bb324794cbaa2924c0c', 0, 7)\": 0.0053234100341796875,\n",
       " \"('rechunk-merge-e4e8e733b3ed4c2153bdc4be5102b9ed', 3, 10)\": 0.01697683334350586,\n",
       " \"('mean_chunk-078b0173a40d10940d1573b80dc375ec', 2, 10)\": 0.010002613067626953,\n",
       " \"('rechunk-merge-f1b05b460723986f1f2235dbdc8ab2aa', 4, 10)\": 0.015025615692138672,\n",
       " \"('rechunk-split-rechunk-merge-e4e8e733b3ed4c2153bdc4be5102b9ed', 4, 10)\": 0.020933151245117188,\n",
       " \"('transpose-389276596c5ea10e1e8cb5779dd21ed2', 5, 2)\": 0.5418796539306641,\n",
       " \"('mean_combine-partial-b4426b8e7ae63bb324794cbaa2924c0c', 1, 7)\": 0.004432201385498047,\n",
       " \"('rechunk-split-rechunk-merge-f1b05b460723986f1f2235dbdc8ab2aa', 5, 10)\": 0.575293779373169,\n",
       " \"('transpose-389276596c5ea10e1e8cb5779dd21ed2', 6, 2)\": 0.21875834465026855,\n",
       " \"('mean_chunk-078b0173a40d10940d1573b80dc375ec', 3, 10)\": 0.006671905517578125,\n",
       " \"('transpose-389276596c5ea10e1e8cb5779dd21ed2', 7, 2)\": 0.09491729736328125,\n",
       " \"('rechunk-split-rechunk-merge-f1b05b460723986f1f2235dbdc8ab2aa', 6, 10)\": 0.5774898529052734,\n",
       " \"('rechunk-split-rechunk-merge-f1b05b460723986f1f2235dbdc8ab2aa', 7, 10)\": 0.5775625705718994,\n",
       " \"('mean_agg-aggregate-sum-1b7cf9ab16d76b9ce257a7a8fed9256a', 7)\": 0.0068950653076171875,\n",
       " \"('rechunk-merge-e4e8e733b3ed4c2153bdc4be5102b9ed', 4, 10)\": 0.008991241455078125,\n",
       " \"('rechunk-split-rechunk-merge-e4e8e733b3ed4c2153bdc4be5102b9ed', 5, 10)\": 0.012150287628173828,\n",
       " \"('random_sample-cca9b0c446ac705ed0cb78a3927d2528', 2, 10)\": 1.9197654724121094,\n",
       " \"('sum-1b7cf9ab16d76b9ce257a7a8fed9256a', 7)\": 0.032148122787475586,\n",
       " \"('mean_combine-partial-ebdb10167ec11d555c6e5ae8a54ad15d', 0, 10)\": 0.03686785697937012,\n",
       " \"('mean_chunk-078b0173a40d10940d1573b80dc375ec', 4, 10)\": 0.03439211845397949,\n",
       " ...}"
      ]
     },
     "execution_count": 117,
     "metadata": {},
     "output_type": "execute_result"
    }
   ],
   "source": [
    "# Solution to Exercise 1\n",
    "import time\n",
    "\n",
    "class TaskTimerPlugin(SchedulerPlugin):\n",
    "    def __init__(self):\n",
    "        self.start_times = {}\n",
    "        self.stop_times = {}\n",
    "        self.task_durations = {}\n",
    "\n",
    "    def transition(self, key, start, finish, *args, **kwargs):\n",
    "        if finish == \"processing\":\n",
    "            self.start_times[key] = time.time()\n",
    "        elif finish == \"memory\":\n",
    "            self.stop_times[key] = time.time()\n",
    "            self.task_durations[key] = self.stop_times[key] - self.start_times[key]\n",
    "\n",
    "# Create LocalCluster and Client\n",
    "cluster = CoffeaCasaCluster()\n",
    "client = Client(cluster)\n",
    "\n",
    "# Instantiate and add the TaskTimerPlugin to our cluster\n",
    "plugin = TaskTimerPlugin()\n",
    "cluster.scheduler.add_plugin(plugin)\n",
    "\n",
    "import dask.array as da\n",
    "\n",
    "x = da.random.random((20_000, 20_000), chunks=(5_000, 1_000))\n",
    "result = (x + x.T).mean(axis=0).sum()\n",
    "result.compute()\n",
    "\n",
    "plugin.task_durations"
   ]
  },
  {
   "cell_type": "markdown",
   "id": "9e230a95-353e-4d7a-a5b1-16f8b6e97b9f",
   "metadata": {},
   "source": [
    "**Bonus**: If you have extra time, make a plot of the task duration distribution (hint: `pandas` and `matplotlib` are installed)"
   ]
  },
  {
   "cell_type": "code",
   "execution_count": 118,
   "id": "3ab78fb2-ef32-4587-a0fe-0b4c31930926",
   "metadata": {},
   "outputs": [],
   "source": [
    "# Your plotting code here"
   ]
  },
  {
   "cell_type": "code",
   "execution_count": 119,
   "id": "d5369156-5524-49c0-bb00-37adffa1d175",
   "metadata": {
    "tags": []
   },
   "outputs": [
    {
     "data": {
      "image/png": "[encoded data removed]",
      "text/plain": [
       "<Figure size 640x480 with 1 Axes>"
      ]
     },
     "metadata": {},
     "output_type": "display_data"
    }
   ],
   "source": [
    "import pandas as pd\n",
    "\n",
    "df = pd.DataFrame([(key, 1_000 * value) for key, value in plugin.task_durations.items()],\n",
    "                  columns=[\"key\", \"duration\"])\n",
    "ax = df.duration.plot(kind=\"hist\", bins=50, logy=True)\n",
    "ax.set_xlabel(\"Task duration [ms]\")\n",
    "ax.set_ylabel(\"Counts\");"
   ]
  },
  {
   "cell_type": "code",
   "execution_count": 83,
   "id": "5bf57a9e-8fb6-4355-9aff-3f426efab9ce",
   "metadata": {
    "tags": []
   },
   "outputs": [],
   "source": [
    "client.close()\n",
    "cluster.close()"
   ]
  }
 ],
 "metadata": {
  "kernelspec": {
   "display_name": "Python 3 (ipykernel)",
   "language": "python",
   "name": "python3"
  },
  "language_info": {
   "codemirror_mode": {
    "name": "ipython",
    "version": 3
   },
   "file_extension": ".py",
   "mimetype": "text/x-python",
   "name": "python",
   "nbconvert_exporter": "python",
   "pygments_lexer": "ipython3",
   "version": "3.8.16"
  }
 },
 "nbformat": 4,
 "nbformat_minor": 5
}
